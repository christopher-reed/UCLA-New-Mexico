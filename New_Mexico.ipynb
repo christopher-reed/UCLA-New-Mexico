{
  "nbformat": 4,
  "nbformat_minor": 0,
  "metadata": {
    "colab": {
      "name": "New Mexico",
      "provenance": [],
      "collapsed_sections": [
        "P6m4lHLTPckl"
      ],
      "toc_visible": true,
      "mount_file_id": "1Yi2taFIEkT1bzOc5_IODD6U7q0yPT18x",
      "authorship_tag": "ABX9TyMBDAMyyhCRGELFjn3i1lkQ",
      "include_colab_link": true
    },
    "kernelspec": {
      "name": "python3",
      "display_name": "Python 3"
    }
  },
  "cells": [
    {
      "cell_type": "markdown",
      "metadata": {
        "id": "view-in-github",
        "colab_type": "text"
      },
      "source": [
        "<a href=\"https://colab.research.google.com/github/christopher-reed/UCLA-New-Mexico/blob/master/New_Mexico.ipynb\" target=\"_parent\"><img src=\"https://colab.research.google.com/assets/colab-badge.svg\" alt=\"Open In Colab\"/></a>"
      ]
    },
    {
      "cell_type": "markdown",
      "metadata": {
        "id": "P6m4lHLTPckl",
        "colab_type": "text"
      },
      "source": [
        "# PDF Scraping Scrap"
      ]
    },
    {
      "cell_type": "code",
      "metadata": {
        "id": "WbLGuZT7Wfmf",
        "colab_type": "code",
        "colab": {}
      },
      "source": [
        "import pandas as pd\n",
        "import numpy as np\n",
        "import regex as re"
      ],
      "execution_count": 0,
      "outputs": []
    },
    {
      "cell_type": "code",
      "metadata": {
        "id": "B-u04UkaMqJc",
        "colab_type": "code",
        "colab": {}
      },
      "source": [
        "!pip install tika\n",
        "import tika\n",
        "from tika import parser"
      ],
      "execution_count": 0,
      "outputs": []
    },
    {
      "cell_type": "code",
      "metadata": {
        "id": "imNZYfJEgO3V",
        "colab_type": "code",
        "colab": {}
      },
      "source": [
        "#Read pdf\n",
        "parsedPDF = parser.from_file('/content/drive/My Drive/Practicum 2019 - WildEarth Guardians/2. Winter 2020/Permits/Permits/Application (6925).pdf')\n",
        "#parsedPDF = parser.from_file('/content/drive/My Drive/Practicum 2019 - WildEarth Guardians/2. Winter 2020/Permits/Permits/Application (7232M1).pdf') #owner does not work\n",
        "\n",
        "##Process lat and long\n",
        "#Find phrases\n",
        "lat_result = re.search('Latitude.*N', parsedPDF['content']).group(0)\n",
        "lon_result = re.search('Longitude.*W', parsedPDF['content']).group(0)\n",
        "\n",
        "#Remove portion of phrase\n",
        "lat_result = lat_result.strip('Latitude (deg., min., sec.):')\n",
        "lon_result = lon_result.strip('Longitude (deg., min., sec.):')\n",
        "\n",
        "##Process facility name\n",
        "#Find phrases\n",
        "facility_name = re.search('Facility Name:\\s+(.*)', parsedPDF['content']).group(0).partition('P')[0]\n",
        "\n",
        "#Remove portion of phrase\n",
        "facility_name = facility_name.strip('Facility Name: ')\n",
        "\n",
        "##Company Name\n",
        "company_name = re.search('Plant Operator Company Name:\\s+(.*)', parsedPDF['content']).group(0).partition('Phone')[0]\n",
        "company_name = company_name.strip('Plant Operator Company Name: ')\n",
        "\n",
        "##Find whose land it is on \n",
        "potential_owners = ['Private', 'Indian/Pueblo', 'Federal BLM', 'Federal Forest Service', 'Other']\n",
        "off = '\\uf0ff'\n",
        "for owner in potential_owners:\n",
        "  start_index = parsedPDF['content'].find(owner)\n",
        "  list_words = list(parsedPDF['content'][start_index-3:start_index+5])\n",
        "  print(owner, list_words)\n",
        "  if off not in list_words:\n",
        "    actual_owner = owner\n",
        "    break\n",
        "\n",
        "  else:\n",
        "    continue"
      ],
      "execution_count": 0,
      "outputs": []
    },
    {
      "cell_type": "code",
      "metadata": {
        "id": "rqWn_CpmuI8E",
        "colab_type": "code",
        "outputId": "87d72970-7867-40d3-aec7-2a169ce05123",
        "colab": {
          "base_uri": "https://localhost:8080/",
          "height": 35
        }
      },
      "source": [
        "actual_owner"
      ],
      "execution_count": 0,
      "outputs": [
        {
          "output_type": "execute_result",
          "data": {
            "text/plain": [
              "'Other'"
            ]
          },
          "metadata": {
            "tags": []
          },
          "execution_count": 4
        }
      ]
    },
    {
      "cell_type": "code",
      "metadata": {
        "id": "iohv4sOwua5b",
        "colab_type": "code",
        "colab": {}
      },
      "source": [
        "parsedPDF['content'][23746:23850]"
      ],
      "execution_count": 0,
      "outputs": []
    },
    {
      "cell_type": "code",
      "metadata": {
        "id": "rBqZcc55umbn",
        "colab_type": "code",
        "colab": {}
      },
      "source": [
        "parsedPDF['content'].find('been constructed?')\n",
        "parsedPDF['content'][23286:23400]"
      ],
      "execution_count": 0,
      "outputs": []
    },
    {
      "cell_type": "code",
      "metadata": {
        "id": "Myj7oShPu1zC",
        "colab_type": "code",
        "colab": {}
      },
      "source": [
        "parsedPDF['content'].find('1972')\n",
        "parsedPDF['content'][23881:24000]"
      ],
      "execution_count": 0,
      "outputs": []
    },
    {
      "cell_type": "code",
      "metadata": {
        "id": "nCJ2koxcvQX-",
        "colab_type": "code",
        "colab": {}
      },
      "source": [
        "parsedPDF['content'].find('Datum')\n",
        "parsedPDF['content'][25255:25400]"
      ],
      "execution_count": 0,
      "outputs": []
    },
    {
      "cell_type": "code",
      "metadata": {
        "id": "diNExqM7vpyi",
        "colab_type": "code",
        "colab": {}
      },
      "source": [
        "#The one that does not have \\u next to it\n",
        "parsedPDF['content'].find('Status of land')\n",
        "parsedPDF['content'][26674:26800]"
      ],
      "execution_count": 0,
      "outputs": []
    },
    {
      "cell_type": "code",
      "metadata": {
        "id": "EruwBAjVv9qd",
        "colab_type": "code",
        "colab": {}
      },
      "source": [
        "#Take each label and 4 spaces before it. Does it contain off?\n",
        "parsedPDF['content'][26674:26800]"
      ],
      "execution_count": 0,
      "outputs": []
    },
    {
      "cell_type": "code",
      "metadata": {
        "id": "MceglQqmxjhB",
        "colab_type": "code",
        "colab": {}
      },
      "source": [
        "private_start = parsedPDF['content'].find('Private')\n",
        "indian_start = parsedPDF['content'].find('Indian/Pueblo')\n",
        "federalBLM_start = parsedPDF['content'].find('Federal BLM')\n",
        "federalForest_start = parsedPDF['content'].find('Federal Forest Service')\n",
        "other_start = parsedPDF['content'].find('Other')\n",
        "\n",
        "print(parsedPDF['content'][private_start-3:private_start+7].find('Off'))\n",
        "print(parsedPDF['content'][indian_start-3:indian_start+5].find('Off'))\n",
        "print(parsedPDF['content'][federalBLM_start-3:federalBLM_start+5].find('Off'))\n",
        "print(parsedPDF['content'][federalForest_start-3:federalForest_start+5].find('Off'))\n",
        "print(parsedPDF['content'][other_start-3:other_start+5].find('Off'))"
      ],
      "execution_count": 0,
      "outputs": []
    },
    {
      "cell_type": "code",
      "metadata": {
        "id": "eHI1Vfkc0EZd",
        "colab_type": "code",
        "colab": {}
      },
      "source": [
        "off in list(parsedPDF['content'][other_start-3:other_start+5])"
      ],
      "execution_count": 0,
      "outputs": []
    },
    {
      "cell_type": "code",
      "metadata": {
        "id": "cJKxyhhBzfW2",
        "colab_type": "code",
        "colab": {}
      },
      "source": [
        "#This is how we wil find if the button is on or off!\n",
        "off = '\\uf0ff'\n",
        "off in list(parsedPDF['content'][federalForest_start-3:federalForest_start+5])"
      ],
      "execution_count": 0,
      "outputs": []
    },
    {
      "cell_type": "code",
      "metadata": {
        "id": "1npcQK6BzWZ9",
        "colab_type": "code",
        "colab": {}
      },
      "source": [
        "potential_owners = ['Private', 'Indian/Pueblo', 'Federal BLM', 'Federal Forest Service', 'Other']\n",
        "off = '\\uf0ff'\n",
        "for owner in potential_owners:\n",
        "  start_index = parsedPDF['content'].find(owner)\n",
        "  list_words = list(parsedPDF['content'][start_index-3:start_index+5])\n",
        "  print(owner, list_words)\n",
        "  if off not in list_words:\n",
        "    actual_owner = owner\n",
        "\n",
        "\n",
        "  else:\n",
        "    continue"
      ],
      "execution_count": 0,
      "outputs": []
    },
    {
      "cell_type": "code",
      "metadata": {
        "id": "NddnxoIP5MVH",
        "colab_type": "code",
        "colab": {}
      },
      "source": [
        "all(elem not in ['�', '\\uf0ff'] for elem in list_words)"
      ],
      "execution_count": 0,
      "outputs": []
    },
    {
      "cell_type": "code",
      "metadata": {
        "id": "vHeIIGuj5wCY",
        "colab_type": "code",
        "colab": {}
      },
      "source": [
        "#Read pdf\n",
        "parsedPDF = parser.from_file('/content/drive/My Drive/Practicum 2019 - WildEarth Guardians/2. Winter 2020/Permits/Permits/Application (6925).pdf')\n",
        "#parsedPDF = parser.from_file('/content/drive/My Drive/Practicum 2019 - WildEarth Guardians/2. Winter 2020/Permits/Permits/Application (7232M1).pdf')\n",
        "#parsedPDF = parser.from_file('/content/drive/My Drive/Practicum 2019 - WildEarth Guardians/2. Winter 2020/Permits/Permits/Application (8324).pdf')\n",
        "\n",
        "\n",
        "##Process lat and long\n",
        "#Find phrases\n",
        "lat_result = re.search('Latitude.*N', parsedPDF['content']).group(0)\n",
        "lon_result = re.search('Longitude.*W', parsedPDF['content']).group(0)\n",
        "\n",
        "#Remove portion of phrase\n",
        "lat_result = lat_result.strip('Latitude (deg., min., sec.):')\n",
        "lon_result = lon_result.strip('Longitude (deg., min., sec.):')\n",
        "\n",
        "#Convert dms to dd\n",
        "deg, minutes, sec, direc = re.split('[°\\'\"\\s]+', lon_result)\n",
        "dd = float(deg) + float(minutes)/60 + float(sec)/3600\n",
        "dd_lon = dd * (-1 if direc in ['W','S'] else 1)\n",
        "\n",
        "deg, minutes, sec, direc = re.split('[°\\'\"\\s]+', lat_result)\n",
        "dd = float(deg) + float(minutes)/60 + float(sec)/3600\n",
        "dd_lat = dd * (-1 if direc in ['W','S'] else 1)\n",
        "\n",
        "##Process facility name\n",
        "#Find phrases\n",
        "facility_name = re.search('Facility Name:\\s+(.*)', parsedPDF['content']).group(0).partition('P')[0]\n",
        "\n",
        "#Remove portion of phrase\n",
        "facility_name = facility_name.strip('Facility Name: ')\n",
        "\n",
        "##Company Name\n",
        "company_name = re.search('Plant Operator Company Name:\\s+(.*)', parsedPDF['content']).group(0).partition('Phone')[0]\n",
        "company_name = re.search(\"(?<=:).*\",company_name).group(0).strip()\n",
        "\n",
        "###Find land owner if possible\n",
        "##Check if possible by searching for characters indicating check marks\n",
        "#Find key word Status of Land, Land Status, or some combination thereof\n",
        "key_word = re.search(r'\\b(?:Land\\W+(?:\\w+\\W+){0,5}?Status|Status\\W+(?:\\w+\\W+){0,5}?Land)\\b', parsedPDF['content'], re.IGNORECASE).group(0)\n",
        "\n",
        "#Focus search area around key word\n",
        "start_index = parsedPDF['content'].find(key_word)\n",
        "\n",
        "#150 characters passed key word is the key area\n",
        "key_area = parsedPDF['content'][start_index:start_index+150]\n",
        "\n",
        "off_words = ['�', '\\uf0ff']\n",
        "if any(x in key_area for x in off_words):\n",
        "  #potential owner names\n",
        "  potential_owners = ['Private', 'Indian/Pueblo', 'Federal BLM', 'BLM', 'Federal Forest Service', 'Forest Service', 'Other']\n",
        "\n",
        "  #Iterate through owner names to find text near them\n",
        "  for owner in potential_owners:\n",
        "    start_index = parsedPDF['content'].find(owner)\n",
        "    list_words = list(parsedPDF['content'][start_index-3:start_index+5])\n",
        "    \n",
        "    #Check if text does not have off words meaning they are the owner\n",
        "    if all(elem not in off_words for elem in list_words):\n",
        "      actual_owner = owner\n",
        "\n",
        "    #Check other owners\n",
        "    else:\n",
        "      continue\n",
        "\n",
        "#If no check marks then not possible to identify owner\n",
        "else:\n",
        "  actual_owner = 'Not possible to identify by code'"
      ],
      "execution_count": 0,
      "outputs": []
    },
    {
      "cell_type": "code",
      "metadata": {
        "id": "LRz7biByk2Kw",
        "colab_type": "code",
        "colab": {}
      },
      "source": [
        "#Read pdf\n",
        "parsedPDF = parser.from_file('/content/drive/My Drive/Practicum 2019 - WildEarth Guardians/2. Winter 2020/Permits/Permits/Application (6925).pdf')\n",
        "#parsedPDF = parser.from_file('/content/drive/My Drive/Practicum 2019 - WildEarth Guardians/2. Winter 2020/Permits/Permits/Application (7232M1).pdf')\n",
        "#parsedPDF = parser.from_file('/content/drive/My Drive/Practicum 2019 - WildEarth Guardians/2. Winter 2020/Permits/Permits/Application (8324).pdf')\n",
        "\n",
        "#Dictionary\n",
        "facility_dict = {}\n",
        "\n",
        "##Process lat and long\n",
        "#Find phrases\n",
        "lat_result = re.search('Latitude.*N', parsedPDF['content']).group(0)\n",
        "lon_result = re.search('Longitude.*W', parsedPDF['content']).group(0)\n",
        "\n",
        "#Remove portion of phrase\n",
        "lat_result = lat_result.strip('Latitude (deg., min., sec.):')\n",
        "lon_result = lon_result.strip('Longitude (deg., min., sec.):')\n",
        "\n",
        "#Convert dms to dd\n",
        "deg, minutes, sec, direc = re.split('[°\\'\"\\s]+', lon_result)\n",
        "dd = float(deg) + float(minutes)/60 + float(sec)/3600\n",
        "dd_lon = dd * (-1 if direc in ['W','S'] else 1)\n",
        "\n",
        "deg, minutes, sec, direc = re.split('[°\\'\"\\s]+', lat_result)\n",
        "dd = float(deg) + float(minutes)/60 + float(sec)/3600\n",
        "dd_lat = dd * (-1 if direc in ['W','S'] else 1)\n",
        "\n",
        "##Process facility name\n",
        "#Find phrases\n",
        "facility_name = re.search('Facility Name:\\s+(.*)', parsedPDF['content']).group(0).partition('P')[0]\n",
        "\n",
        "#Remove portion of phrase\n",
        "facility_name = facility_name.strip('Facility Name: ')\n",
        "\n",
        "##Company Name\n",
        "company_name = re.search('Plant Operator Company Name:\\s+(.*)', parsedPDF['content']).group(0).partition('Phone')[0]\n",
        "company_name = re.search(\"(?<=:).*\",company_name).group(0).strip()\n",
        "\n",
        "###Find land owner if possible\n",
        "##Check if possible by searching for characters indicating check marks\n",
        "#Find key word Status of Land, Land Status, or some combination thereof\n",
        "key_word = re.search(r'\\b(?:Land\\W+(?:\\w+\\W+){0,5}?Status|Status\\W+(?:\\w+\\W+){0,5}?Land)\\b', parsedPDF['content'], re.IGNORECASE).group(0)\n",
        "\n",
        "#Focus search area around key word\n",
        "start_index = parsedPDF['content'].find(key_word)\n",
        "\n",
        "#150 characters passed key word is the key area\n",
        "key_area = parsedPDF['content'][start_index:start_index+150]\n",
        "\n",
        "off_words = ['�', '\\uf0ff']\n",
        "if any(x in key_area for x in off_words):\n",
        "  #potential owner names\n",
        "  potential_owners = ['Private', 'Indian/Pueblo', 'Federal BLM', 'BLM', 'Federal Forest Service', 'Forest Service', 'Other']\n",
        "\n",
        "  #Iterate through owner names to find text near them\n",
        "  for owner in potential_owners:\n",
        "    start_index = parsedPDF['content'].find(owner)\n",
        "    list_words = list(parsedPDF['content'][start_index-3:start_index+5])\n",
        "    \n",
        "    #Check if text does not have off words meaning they are the owner\n",
        "    if all(elem not in off_words for elem in list_words):\n",
        "      actual_owner = owner\n",
        "\n",
        "    #Check other owners\n",
        "    else:\n",
        "      continue\n",
        "\n",
        "#If no check marks then not possible to identify owner\n",
        "else:\n",
        "  actual_owner = 'Not possible to identify by code'\n",
        "\n",
        "facility_dict[facility_name] = [dd_lon, dd_lat, company_name, actual_owner]\n",
        "\n",
        "\n",
        "\n",
        "##OLD \n",
        "# #Some PDFs don't have any characters to indicate a check. Also use different terms for each other (BLM vs Federal BLM)\n",
        "# potential_owners = ['Private', 'Indian/Pueblo', 'Federal BLM', 'BLM', 'Federal Forest Service', 'Forest Service', 'Other']\n",
        "# off_words = ['�', '\\uf0ff']\n",
        "\n",
        "# for owner in potential_owners:\n",
        "#   start_index = parsedPDF['content'].find(owner)\n",
        "#   list_words = list(parsedPDF['content'][start_index-3:start_index+5])\n",
        "#   print(owner, list_words)\n",
        "#   if all(elem not in ['�', '\\uf0ff'] for elem in list_words):\n",
        "#     actual_owner = owner\n",
        "\n",
        "\n",
        "#   else:\n",
        "#     continue"
      ],
      "execution_count": 0,
      "outputs": []
    },
    {
      "cell_type": "code",
      "metadata": {
        "id": "sJ25a1aNlnxu",
        "colab_type": "code",
        "colab": {}
      },
      "source": [
        "import os\n",
        "\n",
        "#Function to clean coordinates\n",
        "def int_decimal(string):\n",
        "  return re.sub(r'[^\\d.]+', '', string)\n",
        "\n",
        "facility_dict = {}\n",
        "\n",
        "for filename in os.listdir('/content/drive/My Drive/Practicum 2019 - WildEarth Guardians/2. Winter 2020/Permits/Permits'):\n",
        "  if filename.endswith(\"pdf\") and 'Update' not in filename:\n",
        "    parsedPDF = parser.from_file('/content/drive/My Drive/Practicum 2019 - WildEarth Guardians/2. Winter 2020/Permits/Permits/' + filename)\n",
        "    print(filename)\n",
        "    ##Process lat and long\n",
        "    #Find phrases\n",
        "    if re.search('longitude', parsedPDF['content'],re.IGNORECASE) == None:\n",
        "      dd_lon = 'Longitude not detected'\n",
        "      dd_lat = 'Latitude not detected'\n",
        "\n",
        "    else:\n",
        "      lat_result = re.search('Latitude.*N', parsedPDF['content']).group(0)\n",
        "      lon_result = re.search('Longitude.*W', parsedPDF['content']).group(0)\n",
        "\n",
        "      #Remove portion of phrase\n",
        "      lat_result = lat_result.strip('Latitude (deg., min., sec.):')\n",
        "      lon_result = lon_result.strip('Longitude (deg., min., sec.):')\n",
        "\n",
        "      #Convert dms to dd\n",
        "      deg, minutes, sec, direc = re.split('[°\\'\"\\s]+', lon_result)\n",
        "\n",
        "      deg = int_decimal(deg)\n",
        "      minutes = int_decimal(minutes)\n",
        "      sec = int_decimal(sec)\n",
        "\n",
        "      dd = float(deg) + float(minutes)/60 + float(sec)/3600\n",
        "      dd_lon = dd * (-1 if direc in ['W','S'] else 1)\n",
        "\n",
        "      deg, minutes, sec, direc = re.split('[°\\'\"\\s]+', lat_result)\n",
        "\n",
        "      deg = int_decimal(deg)\n",
        "      minutes = int_decimal(minutes)\n",
        "      sec = int_decimal(sec)\n",
        "\n",
        "      dd = float(deg) + float(minutes)/60 + float(sec)/3600\n",
        "      dd_lat = dd * (-1 if direc in ['W','S'] else 1)\n",
        "\n",
        "    ##Process facility name\n",
        "    #Find phrases\n",
        "    if parsedPDF['content'].find('Facility Name') == -1:\n",
        "      facility_name = 'Facility name not detected'\n",
        "\n",
        "    else:\n",
        "      facility_name = re.search('Facility Name:\\s+(.*)', parsedPDF['content']).group(0).partition('P')[0]\n",
        "\n",
        "      #Remove portion of phrase\n",
        "      facility_name = facility_name.strip('Facility Name: ')\n",
        "\n",
        "    ##Company Name\n",
        "    if parsedPDF['content'].find('Plant Operator Company Name') == -1:\n",
        "      company_name = 'Company name not detected'\n",
        "\n",
        "    else:\n",
        "      company_name = re.search('Plant Operator Company Name:\\s+(.*)', parsedPDF['content']).group(0).partition('Phone')[0]\n",
        "      company_name = re.search(\"(?<=:).*\",company_name).group(0).strip()\n",
        "\n",
        "    ###Find land owner if possible\n",
        "    ##Check if possible by searching for characters indicating check marks\n",
        "    #Find key word Status of Land, Land Status, or some combination thereof\n",
        "    key_word = re.search(r'\\b(?:Land\\W+(?:\\w+\\W+){0,5}?Status|Status\\W+(?:\\w+\\W+){0,5}?Land)\\b', parsedPDF['content'], re.IGNORECASE)\n",
        "\n",
        "    if key_word == None:\n",
        "      actual_owner = 'Owner not detected'\n",
        "\n",
        "    else:\n",
        "      key_word = key_word.group(0)\n",
        "\n",
        "      #Focus search area around key word\n",
        "      start_index = parsedPDF['content'].find(key_word)\n",
        "\n",
        "      #150 characters passed key word is the key area\n",
        "      key_area = parsedPDF['content'][start_index:start_index+150]\n",
        "\n",
        "      off_words = ['�', '\\uf0ff']\n",
        "      if any(x in key_area for x in off_words):\n",
        "        #potential owner names\n",
        "        potential_owners = ['Private', 'Indian/Pueblo', 'Federal BLM', 'BLM', 'Federal Forest Service', 'Forest Service', 'Other']\n",
        "\n",
        "        #Iterate through owner names to find text near them\n",
        "        for owner in potential_owners:\n",
        "          start_index = parsedPDF['content'].find(owner)\n",
        "          list_words = list(parsedPDF['content'][start_index-3:start_index+5])\n",
        "          \n",
        "          #Check if text does not have off words meaning they are the owner\n",
        "          if all(elem not in off_words for elem in list_words):\n",
        "            actual_owner = owner\n",
        "\n",
        "          #Check other owners\n",
        "          else:\n",
        "            continue\n",
        "\n",
        "      #If no check marks then not possible to identify owner\n",
        "      else:\n",
        "        actual_owner = 'Not possible to identify by code'\n",
        "\n",
        "    facility_dict[filename] = [dd_lon, dd_lat, company_name, actual_owner, facility_name]\n",
        "    \n",
        "  else:\n",
        "    continue"
      ],
      "execution_count": 0,
      "outputs": []
    },
    {
      "cell_type": "code",
      "metadata": {
        "id": "ys4UQ3kKn_m3",
        "colab_type": "code",
        "colab": {}
      },
      "source": [
        "pd.DataFrame.from_dict(facility_dict)"
      ],
      "execution_count": 0,
      "outputs": []
    },
    {
      "cell_type": "code",
      "metadata": {
        "id": "tqxEWdg1xOTV",
        "colab_type": "code",
        "colab": {}
      },
      "source": [
        "\n",
        "parsedPDF = parser.from_file('/content/drive/My Drive/Practicum 2019 - WildEarth Guardians/2. Winter 2020/Permits/Permits/Application (6846R3).pdf')\n",
        "key_word = re.search(r'\\b(?:Land\\W+(?:\\w+\\W+){0,5}?Status|Status\\W+(?:\\w+\\W+){0,5}?Land)\\b', parsedPDF['content'], re.IGNORECASE)\n",
        "\n",
        "if key_word == None:\n",
        "  actual_owner = 'Owner not detected'\n",
        "\n",
        "else:\n",
        "  key_word = key_word.group(0)\n",
        "\n",
        "  #Focus search area around key word\n",
        "  start_index = parsedPDF['content'].find(key_word)\n",
        "\n",
        "  #150 characters passed key word is the key area\n",
        "  key_area = parsedPDF['content'][start_index:start_index+150]\n",
        "\n",
        "  off_words = ['�', '\\uf0ff']\n",
        "  if any(x in key_area for x in off_words):\n",
        "    #potential owner names\n",
        "    potential_owners = ['Private', 'Indian/Pueblo', 'Federal BLM', 'BLM', 'Federal Forest Service', 'Forest Service', 'Other']\n",
        "\n",
        "    #Iterate through owner names to find text near them\n",
        "    for owner in potential_owners:\n",
        "      start_index = parsedPDF['content'].find(owner)\n",
        "      list_words = list(parsedPDF['content'][start_index-3:start_index+5])\n",
        "      \n",
        "      #Check if text does not have off words meaning they are the owner\n",
        "      if all(elem not in off_words for elem in list_words):\n",
        "        actual_owner = owner\n",
        "\n",
        "      #Check other owners\n",
        "      else:\n",
        "        continue\n",
        "\n",
        "  #If no check marks then not possible to identify owner\n",
        "  else:\n",
        "    actual_owner = 'Not possible to identify by code'\n",
        "\n",
        "print(actual_owner)"
      ],
      "execution_count": 0,
      "outputs": []
    },
    {
      "cell_type": "code",
      "metadata": {
        "id": "4VZzIdCq0Xfj",
        "colab_type": "code",
        "colab": {}
      },
      "source": [
        "key_area"
      ],
      "execution_count": 0,
      "outputs": []
    },
    {
      "cell_type": "code",
      "metadata": {
        "id": "oKE91vun0mdf",
        "colab_type": "code",
        "colab": {}
      },
      "source": [
        "#Test private\n",
        "parsedPDF['content'].find('Forest Service')\n",
        "list_words = list(parsedPDF['content'][10015-3:10015+5])\n",
        "print(list_words)\n",
        "if all(elem not in off_words for elem in list_words):\n",
        "  print('gottem')\n",
        "\n",
        "else:\n",
        "  print('not here boss')"
      ],
      "execution_count": 0,
      "outputs": []
    },
    {
      "cell_type": "code",
      "metadata": {
        "id": "0H1s3trs00PK",
        "colab_type": "code",
        "colab": {}
      },
      "source": [
        "parsedPDF['content'][10015-3:10015+5]"
      ],
      "execution_count": 0,
      "outputs": []
    },
    {
      "cell_type": "code",
      "metadata": {
        "id": "zQxSyqhW2G-I",
        "colab_type": "code",
        "colab": {}
      },
      "source": [
        "if key_area.find('Federal Forest Service') == -1:\n",
        "  potential_owner = 'Forest Service'\n",
        "  start_index = parsedPDF['content'].find(potential_owner)\n",
        "  list_words = list(parsedPDF['content'][start_index-3:start_index])\n",
        "  print(list_words)\n",
        "\n",
        "else:\n",
        "  potential_owner = 'Federal Forest Service'\n",
        "  start_index = parsedPDF['content'].find(potential_owner)\n",
        "  list_words = list(parsedPDF['content'][start_index-3:start_index])\n",
        "  print(list_words)\n",
        "\n",
        "\n"
      ],
      "execution_count": 0,
      "outputs": []
    },
    {
      "cell_type": "code",
      "metadata": {
        "id": "8xEbBHjD4zUV",
        "colab_type": "code",
        "colab": {}
      },
      "source": [
        "#New\n",
        "import os\n",
        "import pandas as pd\n",
        "import numpy as np\n",
        "\n",
        "#Function to clean coordinates\n",
        "def int_decimal(string):\n",
        "  return re.sub(r'[^\\d.]+', '', string)\n",
        "\n",
        "facility_dict = {}\n",
        "\n",
        "#for filename in os.listdir('/content/drive/My Drive/Practicum 2019 - WildEarth Guardians/2. Winter 2020/Permits/Permits'):\n",
        "for filename in os.listdir('/content/drive/My Drive/Practicum 2019 - WildEarth Guardians/2. Winter 2020/Permits/Permits'):\n",
        "  if filename.endswith(\"pdf\") and 'Update' not in filename:\n",
        "    parsedPDF = parser.from_file('/content/drive/My Drive/Practicum 2019 - WildEarth Guardians/2. Winter 2020/Permits/Permits/' + filename)\n",
        "    print(filename)\n",
        "    ##Process lat and long\n",
        "    #Find phrases\n",
        "    if re.search('longitude', parsedPDF['content'],re.IGNORECASE) == None:\n",
        "      dd_lon = 'Longitude not detected'\n",
        "      dd_lat = 'Latitude not detected'\n",
        "\n",
        "    else:\n",
        "      lat_result = re.search('Latitude.*N', parsedPDF['content']).group(0)\n",
        "      lon_result = re.search('Longitude.*W', parsedPDF['content']).group(0)\n",
        "\n",
        "      #Remove portion of phrase\n",
        "      lat_result = lat_result.strip('Latitude (deg., min., sec.):')\n",
        "      lon_result = lon_result.strip('Longitude (deg., min., sec.):')\n",
        "\n",
        "      #Convert dms to dd\n",
        "      deg, minutes, sec, direc = re.split('[°\\'\"\\s]+', lon_result)\n",
        "\n",
        "      deg = int_decimal(deg)\n",
        "      minutes = int_decimal(minutes)\n",
        "      sec = int_decimal(sec)\n",
        "\n",
        "      dd = float(deg) + float(minutes)/60 + float(sec)/3600\n",
        "      dd_lon = dd * (-1 if direc in ['W','S'] else 1)\n",
        "\n",
        "      deg, minutes, sec, direc = re.split('[°\\'\"\\s]+', lat_result)\n",
        "\n",
        "      deg = int_decimal(deg)\n",
        "      minutes = int_decimal(minutes)\n",
        "      sec = int_decimal(sec)\n",
        "\n",
        "      dd = float(deg) + float(minutes)/60 + float(sec)/3600\n",
        "      dd_lat = dd * (-1 if direc in ['W','S'] else 1)\n",
        "\n",
        "    ##Process facility name\n",
        "    #Find phrases\n",
        "    if parsedPDF['content'].find('Facility Name') == -1:\n",
        "      facility_name = 'Facility name not detected'\n",
        "\n",
        "    else:\n",
        "      facility_name = re.search('Facility Name:\\s+(.*)', parsedPDF['content']).group(0).partition('Pl')[0]\n",
        "\n",
        "      #Remove portion of phrase\n",
        "      facility_name = facility_name.strip('Facility Name: ')\n",
        "\n",
        "      #Remove \\n\n",
        "      facility_name = re.sub('\\n','',facility_name)\n",
        "\n",
        "    ##Company Name\n",
        "    if parsedPDF['content'].find('Plant Operator Company Name') == -1:\n",
        "      company_name = 'Company name not detected'\n",
        "\n",
        "    else:\n",
        "      company_name = re.search('Plant Operator Company Name:\\s+(.*)', parsedPDF['content']).group(0).partition('Phone')[0]\n",
        "      company_name = re.search(\"(?<=:).*\",company_name).group(0).strip()\n",
        "\n",
        "    ###Find land owner if possible\n",
        "    ##Check if possible by searching for characters indicating check marks\n",
        "    #Find key word Status of Land, Land Status, or some combination thereof\n",
        "    key_word = re.search(r'\\b(?:Land\\W+(?:\\w+\\W+){0,5}?Status|Status\\W+(?:\\w+\\W+){0,5}?Land)\\b', parsedPDF['content'], re.IGNORECASE)\n",
        "\n",
        "    if key_word == None:\n",
        "      actual_owner = 'Owner not detected'\n",
        "\n",
        "    else:\n",
        "      key_word = key_word.group(0)\n",
        "\n",
        "      #Focus search area around key word\n",
        "      start_index = parsedPDF['content'].find(key_word)\n",
        "\n",
        "      #150 characters passed key word is the key area\n",
        "      key_area = parsedPDF['content'][start_index:start_index+150]\n",
        "\n",
        "      off_words = ['�', '\\uf0ff']\n",
        "      if any(x in key_area for x in off_words):\n",
        "\n",
        "        #Potential owner names\n",
        "        potential_owners = ['Private', 'Indian/Pueblo', 'Federal BLM', 'Federal Forest Service', 'Other']\n",
        "\n",
        "        #Iterate through owner names to find text near them\n",
        "        for owner in potential_owners:\n",
        "\n",
        "          #Special case for BLM bc multiple naming conventions\n",
        "          if owner == 'Federal BLM':\n",
        "\n",
        "            #Federal BLM not found, try alternate convention of BLM\n",
        "            if key_area.find('Federal BLM') == -1:\n",
        "              potential_owner = 'BLM'\n",
        "              start_index = parsedODF['content'].find(potential_owner)\n",
        "              list_words = list(parsedPDF['content'][start_index-3:start_index])\n",
        "\n",
        "              if all(elem not in off_words for elem in list_words):\n",
        "                actual_owner = owner\n",
        "\n",
        "                #Owner found move on\n",
        "                break\n",
        "\n",
        "              #Owner is not BLM\n",
        "              else:\n",
        "                continue\n",
        "\n",
        "            #Federal BLM found, use that convention\n",
        "            else:\n",
        "                potential_owner = 'Federal BLM'\n",
        "                start_index = parsedPDF['content'].find(potential_owner)\n",
        "                list_words = list(parsedPDF['content'][start_index-3:start_index])\n",
        "\n",
        "                #Check if off words are NOT IN list of characters\n",
        "                if all(elem not in off_words for elem in list_words):\n",
        "                  actual_owner = owner\n",
        "\n",
        "                  #Owner found move on\n",
        "                  break\n",
        "\n",
        "                #Owner is not Federal BLM\n",
        "                else:\n",
        "                  continue\n",
        "\n",
        "          #Special case for forest service bc multiple naming conventions\n",
        "          elif owner == 'Federal Forest Service':\n",
        "\n",
        "            #Federal Forest Service not found, try alternate convention of Forest Service\n",
        "            if key_area.find('Federal Forest Service') == -1:\n",
        "              potential_owner = 'Forest Service'\n",
        "              start_index = parsedPDF['content'].find(potential_owner)\n",
        "              list_words = list(parsedPDF['content'][start_index-3:start_index])\n",
        "\n",
        "              #Check if off words are NOT IN list of characters\n",
        "              if all(elem not in off_words for elem in list_words):\n",
        "                actual_owner = owner\n",
        "\n",
        "                #Owner found move on\n",
        "                break\n",
        "\n",
        "              #Owner is not Forest Service\n",
        "              else:\n",
        "                continue\n",
        "\n",
        "\n",
        "            #Federal Forest Service found, use that convention\n",
        "            else:\n",
        "              potential_owner = 'Federal Forest Service'\n",
        "              start_index = parsedPDF['content'].find(potential_owner)\n",
        "              list_words = list(parsedPDF['content'][start_index-3:start_index])\n",
        "              \n",
        "              #Check if off words are NOT IN list of characters\n",
        "              if all(elem not in off_words for elem in list_words):\n",
        "                actual_owner = owner\n",
        "\n",
        "                #Owner found move on\n",
        "                break\n",
        "              \n",
        "              #Owner is not Federal Forest Service\n",
        "              else:\n",
        "                continue\n",
        "\n",
        "          #All non-special cases (Private, Indian,, Other)\n",
        "          else:\n",
        "            start_index = parsedPDF['content'].find(owner)\n",
        "            list_words = list(parsedPDF['content'][start_index-3:start_index])\n",
        "            \n",
        "            #Check if text does not have off words meaning they are the owner\n",
        "            if all(elem not in off_words for elem in list_words):\n",
        "              actual_owner = owner\n",
        "              #Owner found move on  \n",
        "              break\n",
        "\n",
        "            #Check other owners\n",
        "            else:\n",
        "              continue\n",
        "      else:\n",
        "        actual_owner = 'Not possible to identify by code'\n",
        "\n",
        "    #Collect results\n",
        "    facility_dict[filename] = [dd_lon, dd_lat, company_name, actual_owner, facility_name]\n",
        "\n",
        "  #File is not a pdf, go next\n",
        "  else:\n",
        "    continue"
      ],
      "execution_count": 0,
      "outputs": []
    },
    {
      "cell_type": "code",
      "metadata": {
        "id": "y6g8FVdBCWpf",
        "colab_type": "code",
        "colab": {}
      },
      "source": [
        "df = pd.DataFrame.from_dict(facility_dict)\n",
        "df = df.T\n",
        "df = df.reset_index(drop = True)\n",
        "df = df.rename(columns = {0:'Lon', 1:'Lat', 2:'Company Name', 3:'Land Ownernship', 4:'Facility Name'})\n",
        "df.head()"
      ],
      "execution_count": 0,
      "outputs": []
    },
    {
      "cell_type": "code",
      "metadata": {
        "id": "K88rXb_MP1k4",
        "colab_type": "code",
        "colab": {}
      },
      "source": [
        "dd_lat"
      ],
      "execution_count": 0,
      "outputs": []
    },
    {
      "cell_type": "code",
      "metadata": {
        "id": "9Vexr9ckV_Pn",
        "colab_type": "code",
        "colab": {}
      },
      "source": [
        ""
      ],
      "execution_count": 0,
      "outputs": []
    },
    {
      "cell_type": "markdown",
      "metadata": {
        "id": "KNEI3Xu4Cwb0",
        "colab_type": "text"
      },
      "source": [
        "# SPUD Date and APD\n",
        "Source: https://wwwapps.emnrd.state.nm.us/ocd/ocdpermitting/Data/Wells.aspx"
      ]
    },
    {
      "cell_type": "markdown",
      "metadata": {
        "id": "uEARSPfA1b3p",
        "colab_type": "text"
      },
      "source": [
        "## Import necessary packages"
      ]
    },
    {
      "cell_type": "code",
      "metadata": {
        "id": "0rkDP4H-C3rK",
        "colab_type": "code",
        "outputId": "45ab52a6-c22d-4ca4-d130-712adcb48c3b",
        "colab": {
          "base_uri": "https://localhost:8080/",
          "height": 641
        }
      },
      "source": [
        "!pip install fiona\n",
        "!pip install geopandas"
      ],
      "execution_count": 0,
      "outputs": [
        {
          "output_type": "stream",
          "text": [
            "Collecting fiona\n",
            "\u001b[?25l  Downloading https://files.pythonhosted.org/packages/ec/20/4e63bc5c6e62df889297b382c3ccd4a7a488b00946aaaf81a118158c6f09/Fiona-1.8.13.post1-cp36-cp36m-manylinux1_x86_64.whl (14.7MB)\n",
            "\u001b[K     |████████████████████████████████| 14.7MB 340kB/s \n",
            "\u001b[?25hRequirement already satisfied: attrs>=17 in /usr/local/lib/python3.6/dist-packages (from fiona) (19.3.0)\n",
            "Collecting click-plugins>=1.0\n",
            "  Downloading https://files.pythonhosted.org/packages/e9/da/824b92d9942f4e472702488857914bdd50f73021efea15b4cad9aca8ecef/click_plugins-1.1.1-py2.py3-none-any.whl\n",
            "Requirement already satisfied: click<8,>=4.0 in /usr/local/lib/python3.6/dist-packages (from fiona) (7.1.1)\n",
            "Collecting munch\n",
            "  Downloading https://files.pythonhosted.org/packages/cc/ab/85d8da5c9a45e072301beb37ad7f833cd344e04c817d97e0cc75681d248f/munch-2.5.0-py2.py3-none-any.whl\n",
            "Requirement already satisfied: six>=1.7 in /usr/local/lib/python3.6/dist-packages (from fiona) (1.12.0)\n",
            "Collecting cligj>=0.5\n",
            "  Downloading https://files.pythonhosted.org/packages/e4/be/30a58b4b0733850280d01f8bd132591b4668ed5c7046761098d665ac2174/cligj-0.5.0-py3-none-any.whl\n",
            "Installing collected packages: click-plugins, munch, cligj, fiona\n",
            "Successfully installed click-plugins-1.1.1 cligj-0.5.0 fiona-1.8.13.post1 munch-2.5.0\n",
            "Collecting geopandas\n",
            "\u001b[?25l  Downloading https://files.pythonhosted.org/packages/83/c5/3cf9cdc39a6f2552922f79915f36b45a95b71fd343cfc51170a5b6ddb6e8/geopandas-0.7.0-py2.py3-none-any.whl (928kB)\n",
            "\u001b[K     |████████████████████████████████| 931kB 2.8MB/s \n",
            "\u001b[?25hRequirement already satisfied: fiona in /usr/local/lib/python3.6/dist-packages (from geopandas) (1.8.13.post1)\n",
            "Requirement already satisfied: shapely in /usr/local/lib/python3.6/dist-packages (from geopandas) (1.7.0)\n",
            "Requirement already satisfied: pandas>=0.23.0 in /usr/local/lib/python3.6/dist-packages (from geopandas) (1.0.3)\n",
            "Collecting pyproj>=2.2.0\n",
            "\u001b[?25l  Downloading https://files.pythonhosted.org/packages/ce/37/705ee471f71130d4ceee41bbcb06f3b52175cb89273cbb5755ed5e6374e0/pyproj-2.6.0-cp36-cp36m-manylinux2010_x86_64.whl (10.4MB)\n",
            "\u001b[K     |████████████████████████████████| 10.4MB 16.3MB/s \n",
            "\u001b[?25hRequirement already satisfied: click-plugins>=1.0 in /usr/local/lib/python3.6/dist-packages (from fiona->geopandas) (1.1.1)\n",
            "Requirement already satisfied: click<8,>=4.0 in /usr/local/lib/python3.6/dist-packages (from fiona->geopandas) (7.1.1)\n",
            "Requirement already satisfied: six>=1.7 in /usr/local/lib/python3.6/dist-packages (from fiona->geopandas) (1.12.0)\n",
            "Requirement already satisfied: munch in /usr/local/lib/python3.6/dist-packages (from fiona->geopandas) (2.5.0)\n",
            "Requirement already satisfied: attrs>=17 in /usr/local/lib/python3.6/dist-packages (from fiona->geopandas) (19.3.0)\n",
            "Requirement already satisfied: cligj>=0.5 in /usr/local/lib/python3.6/dist-packages (from fiona->geopandas) (0.5.0)\n",
            "Requirement already satisfied: python-dateutil>=2.6.1 in /usr/local/lib/python3.6/dist-packages (from pandas>=0.23.0->geopandas) (2.8.1)\n",
            "Requirement already satisfied: pytz>=2017.2 in /usr/local/lib/python3.6/dist-packages (from pandas>=0.23.0->geopandas) (2018.9)\n",
            "Requirement already satisfied: numpy>=1.13.3 in /usr/local/lib/python3.6/dist-packages (from pandas>=0.23.0->geopandas) (1.18.3)\n",
            "Installing collected packages: pyproj, geopandas\n",
            "Successfully installed geopandas-0.7.0 pyproj-2.6.0\n"
          ],
          "name": "stdout"
        }
      ]
    },
    {
      "cell_type": "code",
      "metadata": {
        "id": "n5m9eO36XMPr",
        "colab_type": "code",
        "outputId": "95a1dfb3-38e5-4b0b-d21b-f7915bf8f6ac",
        "colab": {
          "base_uri": "https://localhost:8080/",
          "height": 54
        }
      },
      "source": [
        "from ftplib import FTP\n",
        "from bs4 import BeautifulSoup\n",
        "from bs4 import SoupStrainer\n",
        "import requests\n",
        "import time\n",
        "import fiona\n",
        "import geopandas as gpd\n",
        "import pandas as pd\n",
        "import numpy as np\n",
        "import matplotlib.pyplot as plt\n",
        "import datetime\n",
        "import seaborn as sns"
      ],
      "execution_count": 0,
      "outputs": [
        {
          "output_type": "stream",
          "text": [
            "/usr/local/lib/python3.6/dist-packages/statsmodels/tools/_testing.py:19: FutureWarning: pandas.util.testing is deprecated. Use the functions in the public API at pandas.testing instead.\n",
            "  import pandas.util.testing as tm\n"
          ],
          "name": "stderr"
        }
      ]
    },
    {
      "cell_type": "markdown",
      "metadata": {
        "id": "uh6sjO_b1f4u",
        "colab_type": "text"
      },
      "source": [
        "## Collect Data"
      ]
    },
    {
      "cell_type": "markdown",
      "metadata": {
        "id": "Ao7S_lgXbcL5",
        "colab_type": "text"
      },
      "source": [
        "**Collect geospatial data from OCD website. Link: ftp://164.64.106.6/Public/OCD/OCD%20GIS%20Data/** "
      ]
    },
    {
      "cell_type": "code",
      "metadata": {
        "id": "Zhj_l1Ftbbhx",
        "colab_type": "code",
        "outputId": "c9cc5252-2119-4141-e014-3b0fa2652322",
        "colab": {
          "base_uri": "https://localhost:8080/",
          "height": 398
        }
      },
      "source": [
        "#Connect to FTP\n",
        "ftp = FTP('164.64.106.6')\n",
        "ftp.login()\n",
        "\n",
        "#Move to directory\n",
        "ftp.cwd('/Public/OCD/OCD GIS Data/Geodatabase/')\n",
        "\n",
        "#Download file\n",
        "file = 'NMOCD_GISData.gdb.zip'\n",
        "ftp.retrbinary('RETR ' + file, open(file, 'wb').write)\n",
        "\n",
        "#Unzip\n",
        "!unzip /content/NMOCD_GISData.gdb.zip\n",
        "\n",
        "#Parse feature class from gdb\n",
        "layers = fiona.listlayers('/content/drive/My Drive/Practicum 2019 - WildEarth Guardians/Data/Geospatial/Wells/NMOCD_GISData.gdb')\n",
        "df_wells = gpd.read_file('/content/drive/My Drive/Practicum 2019 - WildEarth Guardians/Data/Geospatial/Wells/NMOCD_GISData.gdb', layer = 'WellGIS')\n",
        "\n",
        "#Collect apis\n",
        "apis = df_wells['id']\n",
        "\n",
        "#Rename api\n",
        "df_wells = df_wells.rename(columns = {'id':'API_geospatial'})\n",
        "\n",
        "#Inspect\n",
        "df_wells.head()"
      ],
      "execution_count": 0,
      "outputs": [
        {
          "output_type": "error",
          "ename": "TimeoutError",
          "evalue": "ignored",
          "traceback": [
            "\u001b[0;31m---------------------------------------------------------------------------\u001b[0m",
            "\u001b[0;31mTimeoutError\u001b[0m                              Traceback (most recent call last)",
            "\u001b[0;32m<ipython-input-13-a1ca064b95a0>\u001b[0m in \u001b[0;36m<module>\u001b[0;34m()\u001b[0m\n\u001b[0;32m----> 1\u001b[0;31m \u001b[0mftp\u001b[0m \u001b[0;34m=\u001b[0m \u001b[0mFTP\u001b[0m\u001b[0;34m(\u001b[0m\u001b[0;34m'164.64.106.6'\u001b[0m\u001b[0;34m)\u001b[0m\u001b[0;34m\u001b[0m\u001b[0;34m\u001b[0m\u001b[0m\n\u001b[0m\u001b[1;32m      2\u001b[0m \u001b[0mftp\u001b[0m\u001b[0;34m.\u001b[0m\u001b[0mlogin\u001b[0m\u001b[0;34m(\u001b[0m\u001b[0;34m)\u001b[0m\u001b[0;34m\u001b[0m\u001b[0;34m\u001b[0m\u001b[0m\n\u001b[1;32m      3\u001b[0m \u001b[0;34m\u001b[0m\u001b[0m\n\u001b[1;32m      4\u001b[0m \u001b[0;31m#Move to directory\u001b[0m\u001b[0;34m\u001b[0m\u001b[0;34m\u001b[0m\u001b[0;34m\u001b[0m\u001b[0m\n\u001b[1;32m      5\u001b[0m \u001b[0mftp\u001b[0m\u001b[0;34m.\u001b[0m\u001b[0mcwd\u001b[0m\u001b[0;34m(\u001b[0m\u001b[0;34m'/Public/OCD/OCD GIS Data/Geodatabase/'\u001b[0m\u001b[0;34m)\u001b[0m\u001b[0;34m\u001b[0m\u001b[0;34m\u001b[0m\u001b[0m\n",
            "\u001b[0;32m/usr/lib/python3.6/ftplib.py\u001b[0m in \u001b[0;36m__init__\u001b[0;34m(self, host, user, passwd, acct, timeout, source_address)\u001b[0m\n\u001b[1;32m    115\u001b[0m         \u001b[0mself\u001b[0m\u001b[0;34m.\u001b[0m\u001b[0mtimeout\u001b[0m \u001b[0;34m=\u001b[0m \u001b[0mtimeout\u001b[0m\u001b[0;34m\u001b[0m\u001b[0;34m\u001b[0m\u001b[0m\n\u001b[1;32m    116\u001b[0m         \u001b[0;32mif\u001b[0m \u001b[0mhost\u001b[0m\u001b[0;34m:\u001b[0m\u001b[0;34m\u001b[0m\u001b[0;34m\u001b[0m\u001b[0m\n\u001b[0;32m--> 117\u001b[0;31m             \u001b[0mself\u001b[0m\u001b[0;34m.\u001b[0m\u001b[0mconnect\u001b[0m\u001b[0;34m(\u001b[0m\u001b[0mhost\u001b[0m\u001b[0;34m)\u001b[0m\u001b[0;34m\u001b[0m\u001b[0;34m\u001b[0m\u001b[0m\n\u001b[0m\u001b[1;32m    118\u001b[0m             \u001b[0;32mif\u001b[0m \u001b[0muser\u001b[0m\u001b[0;34m:\u001b[0m\u001b[0;34m\u001b[0m\u001b[0;34m\u001b[0m\u001b[0m\n\u001b[1;32m    119\u001b[0m                 \u001b[0mself\u001b[0m\u001b[0;34m.\u001b[0m\u001b[0mlogin\u001b[0m\u001b[0;34m(\u001b[0m\u001b[0muser\u001b[0m\u001b[0;34m,\u001b[0m \u001b[0mpasswd\u001b[0m\u001b[0;34m,\u001b[0m \u001b[0macct\u001b[0m\u001b[0;34m)\u001b[0m\u001b[0;34m\u001b[0m\u001b[0;34m\u001b[0m\u001b[0m\n",
            "\u001b[0;32m/usr/lib/python3.6/ftplib.py\u001b[0m in \u001b[0;36mconnect\u001b[0;34m(self, host, port, timeout, source_address)\u001b[0m\n\u001b[1;32m    150\u001b[0m             \u001b[0mself\u001b[0m\u001b[0;34m.\u001b[0m\u001b[0msource_address\u001b[0m \u001b[0;34m=\u001b[0m \u001b[0msource_address\u001b[0m\u001b[0;34m\u001b[0m\u001b[0;34m\u001b[0m\u001b[0m\n\u001b[1;32m    151\u001b[0m         self.sock = socket.create_connection((self.host, self.port), self.timeout,\n\u001b[0;32m--> 152\u001b[0;31m                                              source_address=self.source_address)\n\u001b[0m\u001b[1;32m    153\u001b[0m         \u001b[0mself\u001b[0m\u001b[0;34m.\u001b[0m\u001b[0maf\u001b[0m \u001b[0;34m=\u001b[0m \u001b[0mself\u001b[0m\u001b[0;34m.\u001b[0m\u001b[0msock\u001b[0m\u001b[0;34m.\u001b[0m\u001b[0mfamily\u001b[0m\u001b[0;34m\u001b[0m\u001b[0;34m\u001b[0m\u001b[0m\n\u001b[1;32m    154\u001b[0m         \u001b[0mself\u001b[0m\u001b[0;34m.\u001b[0m\u001b[0mfile\u001b[0m \u001b[0;34m=\u001b[0m \u001b[0mself\u001b[0m\u001b[0;34m.\u001b[0m\u001b[0msock\u001b[0m\u001b[0;34m.\u001b[0m\u001b[0mmakefile\u001b[0m\u001b[0;34m(\u001b[0m\u001b[0;34m'r'\u001b[0m\u001b[0;34m,\u001b[0m \u001b[0mencoding\u001b[0m\u001b[0;34m=\u001b[0m\u001b[0mself\u001b[0m\u001b[0;34m.\u001b[0m\u001b[0mencoding\u001b[0m\u001b[0;34m)\u001b[0m\u001b[0;34m\u001b[0m\u001b[0;34m\u001b[0m\u001b[0m\n",
            "\u001b[0;32m/usr/lib/python3.6/socket.py\u001b[0m in \u001b[0;36mcreate_connection\u001b[0;34m(address, timeout, source_address)\u001b[0m\n\u001b[1;32m    722\u001b[0m \u001b[0;34m\u001b[0m\u001b[0m\n\u001b[1;32m    723\u001b[0m     \u001b[0;32mif\u001b[0m \u001b[0merr\u001b[0m \u001b[0;32mis\u001b[0m \u001b[0;32mnot\u001b[0m \u001b[0;32mNone\u001b[0m\u001b[0;34m:\u001b[0m\u001b[0;34m\u001b[0m\u001b[0;34m\u001b[0m\u001b[0m\n\u001b[0;32m--> 724\u001b[0;31m         \u001b[0;32mraise\u001b[0m \u001b[0merr\u001b[0m\u001b[0;34m\u001b[0m\u001b[0;34m\u001b[0m\u001b[0m\n\u001b[0m\u001b[1;32m    725\u001b[0m     \u001b[0;32melse\u001b[0m\u001b[0;34m:\u001b[0m\u001b[0;34m\u001b[0m\u001b[0;34m\u001b[0m\u001b[0m\n\u001b[1;32m    726\u001b[0m         \u001b[0;32mraise\u001b[0m \u001b[0merror\u001b[0m\u001b[0;34m(\u001b[0m\u001b[0;34m\"getaddrinfo returns an empty list\"\u001b[0m\u001b[0;34m)\u001b[0m\u001b[0;34m\u001b[0m\u001b[0;34m\u001b[0m\u001b[0m\n",
            "\u001b[0;32m/usr/lib/python3.6/socket.py\u001b[0m in \u001b[0;36mcreate_connection\u001b[0;34m(address, timeout, source_address)\u001b[0m\n\u001b[1;32m    711\u001b[0m             \u001b[0;32mif\u001b[0m \u001b[0msource_address\u001b[0m\u001b[0;34m:\u001b[0m\u001b[0;34m\u001b[0m\u001b[0;34m\u001b[0m\u001b[0m\n\u001b[1;32m    712\u001b[0m                 \u001b[0msock\u001b[0m\u001b[0;34m.\u001b[0m\u001b[0mbind\u001b[0m\u001b[0;34m(\u001b[0m\u001b[0msource_address\u001b[0m\u001b[0;34m)\u001b[0m\u001b[0;34m\u001b[0m\u001b[0;34m\u001b[0m\u001b[0m\n\u001b[0;32m--> 713\u001b[0;31m             \u001b[0msock\u001b[0m\u001b[0;34m.\u001b[0m\u001b[0mconnect\u001b[0m\u001b[0;34m(\u001b[0m\u001b[0msa\u001b[0m\u001b[0;34m)\u001b[0m\u001b[0;34m\u001b[0m\u001b[0;34m\u001b[0m\u001b[0m\n\u001b[0m\u001b[1;32m    714\u001b[0m             \u001b[0;31m# Break explicitly a reference cycle\u001b[0m\u001b[0;34m\u001b[0m\u001b[0;34m\u001b[0m\u001b[0;34m\u001b[0m\u001b[0m\n\u001b[1;32m    715\u001b[0m             \u001b[0merr\u001b[0m \u001b[0;34m=\u001b[0m \u001b[0;32mNone\u001b[0m\u001b[0;34m\u001b[0m\u001b[0;34m\u001b[0m\u001b[0m\n",
            "\u001b[0;31mTimeoutError\u001b[0m: [Errno 110] Connection timed out"
          ]
        }
      ]
    },
    {
      "cell_type": "markdown",
      "metadata": {
        "id": "y1QHLyNrF0CB",
        "colab_type": "text"
      },
      "source": [
        "**Can also download on your machine locally and upload them.**"
      ]
    },
    {
      "cell_type": "code",
      "metadata": {
        "id": "AAmEOqZpZ23O",
        "colab_type": "code",
        "colab": {}
      },
      "source": [
        "#If FTP is not connecting then use the downloaded version of the dataset.\n",
        "layers = fiona.listlayers('/content/drive/My Drive/Practicum 2019 - WildEarth Guardians/Data/Geospatial/Wells/NMOCD_GISData.gdb')\n",
        "df_wells = gpd.read_file('/content/drive/My Drive/Practicum 2019 - WildEarth Guardians/Data/Geospatial/Wells/NMOCD_GISData.gdb', layer = 'WellGIS')\n",
        "\n",
        "apis = df_wells['id']\n",
        "\n",
        "df_wells = df_wells.rename(columns = {'id':'API_geospatial'})\n",
        "\n",
        "df_wells.head()"
      ],
      "execution_count": 0,
      "outputs": []
    },
    {
      "cell_type": "markdown",
      "metadata": {
        "id": "UDLdtylRXa7E",
        "colab_type": "text"
      },
      "source": [
        "**Following cell scrapes the OCD well database. Note: Code takes 85 hours to scrape every single well api so use carefully.**\n",
        "\n",
        "Link: https://wwwapps.emnrd.state.nm.us/ocd/ocdpermitting/Data/Wells.aspx"
      ]
    },
    {
      "cell_type": "code",
      "metadata": {
        "id": "fNGHqlXeaV4W",
        "colab_type": "code",
        "colab": {}
      },
      "source": [
        "well_dict = {}\n",
        "\n",
        "base_url = 'https://wwwapps.emnrd.state.nm.us/ocd/ocdpermitting/Data/WellDetails.aspx?api='\n",
        "\n",
        "for num, api in enumerate(apis):\n",
        "  url = base_url + str(api)\n",
        "  response = requests.request(\"GET\", url)\n",
        "\n",
        "  soup = BeautifulSoup(response.content)\n",
        "\n",
        "  well_dict[str(api)] = [soup.find(id = 'ctl00_ctl00__main_main_ucGeneralWellInformation_lblSpudDate').get_text(),\n",
        "                             soup.find(id = 'ctl00_ctl00__main_main_ucGeneralWellInformation_lblApdInitialApprovalDate').get_text(),\n",
        "                             soup.find(id = 'ctl00_ctl00__main_main_ucGeneralWellInformation_lblApdEffectiveDate').get_text()]\n",
        "\n",
        "  if num % 250 == 0:\n",
        "    print(num)\n",
        "\n",
        "  else:\n",
        "    continue\n",
        "\n",
        "  time.sleep(0.5)\n",
        "  break"
      ],
      "execution_count": 0,
      "outputs": []
    },
    {
      "cell_type": "markdown",
      "metadata": {
        "id": "4GCGOkxSaE6S",
        "colab_type": "text"
      },
      "source": [
        "**Alternative is to just download to OCD well data set (2/20/2020). May not be up to date if analysis run at later date.**"
      ]
    },
    {
      "cell_type": "code",
      "metadata": {
        "id": "NXV7iIpjneHr",
        "colab_type": "code",
        "colab": {}
      },
      "source": [
        "data = pd.read_html('/content/drive/My Drive/Practicum 2019 - WildEarth Guardians/Data/Not Geospatial/OCD Well Dataset.xls')\n",
        "expanded_wells_df = data[0]\n",
        "expanded_wells_df = expanded_wells_df[['API', 'Initial APD Approval Date', 'Spud Date']]\n",
        "expanded_wells_df.head()"
      ],
      "execution_count": 0,
      "outputs": []
    },
    {
      "cell_type": "markdown",
      "metadata": {
        "id": "yeX5vqRh1wOz",
        "colab_type": "text"
      },
      "source": [
        "**Join the geospatial data from OCD and the downloaded well site data from OCD to see if records are missing. The first three columns are from the downloaded wellsite data. If there are ant NaNs in the API then that means there is data missing from the downloaded well site data.**"
      ]
    },
    {
      "cell_type": "code",
      "metadata": {
        "id": "XmmyQLHlnxCf",
        "colab_type": "code",
        "colab": {}
      },
      "source": [
        "#Join dfs together to we have the api and apd dates\n",
        "df_complete_wells = expanded_wells_df.merge(df_wells, left_on = 'API', right_on = 'API_geospatial', how = 'right')\n",
        "df_complete_wells.head()"
      ],
      "execution_count": 0,
      "outputs": []
    },
    {
      "cell_type": "markdown",
      "metadata": {
        "id": "A-24a-yoGNtR",
        "colab_type": "text"
      },
      "source": [
        "**How many wells are there?**"
      ]
    },
    {
      "cell_type": "code",
      "metadata": {
        "id": "m6cpYNU12Wdb",
        "colab_type": "code",
        "colab": {}
      },
      "source": [
        "df_complete_wells.shape"
      ],
      "execution_count": 0,
      "outputs": []
    },
    {
      "cell_type": "markdown",
      "metadata": {
        "id": "XpEiCQvcGSee",
        "colab_type": "text"
      },
      "source": [
        "**How many wells do not have an inital APD approval date?**"
      ]
    },
    {
      "cell_type": "code",
      "metadata": {
        "id": "7ftt_uV8pEoD",
        "colab_type": "code",
        "colab": {}
      },
      "source": [
        "df_complete_wells[df_complete_wells['Initial APD Approval Date'].isnull()].shape"
      ],
      "execution_count": 0,
      "outputs": []
    },
    {
      "cell_type": "code",
      "metadata": {
        "id": "TWkmDyEfgBZv",
        "colab_type": "code",
        "colab": {}
      },
      "source": [
        "subset = df_complete_wells[(df_complete_wells['county'] == 'San Juan') & (df_complete_wells['ogrid_name'].str.contains('WPX')) & (df_complete_wells['status_code'] != 'C')]\n",
        "subset.head()"
      ],
      "execution_count": 0,
      "outputs": []
    },
    {
      "cell_type": "code",
      "metadata": {
        "id": "uZfwcVGGgrJl",
        "colab_type": "code",
        "colab": {}
      },
      "source": [
        "#Scrape away!\n",
        "apis = subset['API_geospatial']\n",
        "\n",
        "well_dict = {}\n",
        "\n",
        "base_url = 'https://wwwapps.emnrd.state.nm.us/ocd/ocdpermitting/Data/WellDetails.aspx?api='\n",
        "\n",
        "for num, api in enumerate(apis):\n",
        "  url = base_url + str(api)\n",
        "  response = requests.request(\"GET\", url)\n",
        "\n",
        "  soup = BeautifulSoup(response.content)\n",
        "\n",
        "  well_dict[str(api)] = [soup.find(id = 'ctl00_ctl00__main_main_ucGeneralWellInformation_lblSpudDate').get_text(),\n",
        "                             soup.find(id = 'ctl00_ctl00__main_main_ucGeneralWellInformation_lblApdInitialApprovalDate').get_text(),\n",
        "                             soup.find(id = 'ctl00_ctl00__main_main_ucGeneralWellInformation_lblApdEffectiveDate').get_text(),\n",
        "                         soup.find(id = 'ctl00_ctl00__main_main_ucGeneralWellInformation_lblPluggedDate').get_text()]\n",
        "\n",
        "  if num % 10 == 0:\n",
        "    print(num)\n",
        "\n",
        "  else:\n",
        "    continue\n",
        "\n",
        "  time.sleep(0.5)"
      ],
      "execution_count": 0,
      "outputs": []
    },
    {
      "cell_type": "code",
      "metadata": {
        "id": "w-XTwyJ0hnuA",
        "colab_type": "code",
        "colab": {}
      },
      "source": [
        "df = pd.DataFrame.from_dict(well_dict).T.reset_index()\n",
        "df = df.rename(columns = {'index':'API',0:'spud', 1:'Initial APD', 2:'Most recent APD', 3:'Plug date'})\n",
        "df"
      ],
      "execution_count": 0,
      "outputs": []
    },
    {
      "cell_type": "code",
      "metadata": {
        "id": "aRi6fncSlE7h",
        "colab_type": "code",
        "colab": {}
      },
      "source": [
        "#Focus on San Juan county\n",
        "san_juan = df_complete_wells[df_complete_wells['county'] == 'San Juan']\n",
        "\n",
        "san_juan['Initial APD Approval Date'] = pd.to_datetime(san_juan['Initial APD Approval Date'])\n",
        "san_juan['Spud Date'] = pd.to_datetime(san_juan['Spud Date'])\n",
        "\n",
        "#What are most prominent companies in SJ\n",
        "sj_count = san_juan.groupby('ogrid_name').count().reset_index()"
      ],
      "execution_count": 0,
      "outputs": []
    },
    {
      "cell_type": "code",
      "metadata": {
        "id": "YSxakd68uxOD",
        "colab_type": "code",
        "colab": {}
      },
      "source": [
        "#How many wells apis do companies have in san juan with a inital apd approval 2005 and newer\n",
        "company_count = {}\n",
        "for company in san_juan['ogrid_name'].unique():\n",
        "  df = san_juan[(san_juan['ogrid_name'] == company) & (san_juan['ogrid_name'] == company) & (san_juan['status_code'] == 'N')]\n",
        "\n",
        "  num_ops = df.shape[0]\n",
        "\n",
        "  #Only take company name and count if more than 5 new ops\n",
        "  if num_ops > 5:\n",
        "    company_count[company] = [df.shape[0]]\n",
        "\n",
        "  #If 5 or less move on\n",
        "  else:\n",
        "    continue"
      ],
      "execution_count": 0,
      "outputs": []
    },
    {
      "cell_type": "code",
      "metadata": {
        "id": "dUZu0bvkS3aW",
        "colab_type": "code",
        "colab": {}
      },
      "source": [
        "san_juan.sort_values(by = 'Spud Date', ascending=False).head(30)"
      ],
      "execution_count": 0,
      "outputs": []
    },
    {
      "cell_type": "code",
      "metadata": {
        "id": "X2Jwi4hhwIhH",
        "colab_type": "code",
        "colab": {}
      },
      "source": [
        "df = pd.DataFrame.from_dict(company_count).T.reset_index()\n",
        "df = df.rename(columns = {'index':'Company', 0:'Number New Operations'})\n",
        "df = df.sort_values(by = 'Number New Operations')\n",
        "\n",
        "#Plot num new operations by company\n",
        "fig, ax = plt.subplots(figsize = (8,5))\n",
        "ax = sns.barplot(x = 'Company', y = 'Number New Operations', data = df, color = 'steelblue')\n",
        "\n",
        "plt.xticks(rotation = 45)\n",
        "ax.set_xticklabels(['Juniper', 'Vision', 'Logos', 'Dugan', 'XTO', 'BP America', 'NMOGC', 'Hilcorp', 'Enduring', 'DJR'])\n",
        "\n",
        "ax.set_title('Number of New Operations in San Juan County, NM')"
      ],
      "execution_count": 0,
      "outputs": []
    },
    {
      "cell_type": "markdown",
      "metadata": {
        "id": "oJASuAlwsQ63",
        "colab_type": "text"
      },
      "source": [
        "**Focus on just Hilcorp and Enduring in San Juan.**"
      ]
    },
    {
      "cell_type": "code",
      "metadata": {
        "id": "Th7xj4zmyTiU",
        "colab_type": "code",
        "colab": {}
      },
      "source": [
        "hilcorp_sanjuan = san_juan[(san_juan['ogrid_name'].str.contains('HILCORP')) & (san_juan['status_code'] == 'N')]\n",
        "enduring_sanjuan = san_juan[(san_juan['ogrid_name'].str.contains('ENDURING')) & (san_juan['status_code'] == 'N')]"
      ],
      "execution_count": 0,
      "outputs": []
    },
    {
      "cell_type": "markdown",
      "metadata": {
        "id": "_61FYNUUEwns",
        "colab_type": "text"
      },
      "source": [
        "Python approach to grouping wells: https://geoffboeing.com/2014/08/clustering-to-reduce-spatial-data-set-size/"
      ]
    },
    {
      "cell_type": "code",
      "metadata": {
        "id": "ey4Te6qNezrS",
        "colab_type": "code",
        "colab": {}
      },
      "source": [
        "import pandas as pd, numpy as np, matplotlib.pyplot as plt\n",
        "from sklearn.cluster import DBSCAN\n",
        "from geopy.distance import great_circle\n",
        "from shapely.geometry import MultiPoint"
      ],
      "execution_count": 0,
      "outputs": []
    },
    {
      "cell_type": "markdown",
      "metadata": {
        "id": "p5GrvvLNEy9H",
        "colab_type": "text"
      },
      "source": [
        "## Enduring Analysis"
      ]
    },
    {
      "cell_type": "code",
      "metadata": {
        "id": "Rrt8T0KUe2cZ",
        "colab_type": "code",
        "colab": {}
      },
      "source": [
        "df = enduring_sanjuan\n",
        "coords = df.as_matrix(columns = ['latitude', 'longitude'])"
      ],
      "execution_count": 0,
      "outputs": []
    },
    {
      "cell_type": "code",
      "metadata": {
        "id": "6HKUQf48ssTs",
        "colab_type": "code",
        "colab": {}
      },
      "source": [
        "#Plot all new\n",
        "fig, ax = plt.subplots(figsize=[10, 6])\n",
        "df_scatter = ax.scatter(df['longitude'], df['latitude'], c='k', alpha=0.9, s=3)\n",
        "ax.set_title('Enduring New Wells')\n",
        "ax.set_xlabel('Longitude')\n",
        "ax.set_ylabel('Latitude')\n",
        "ax.legend([df_scatter,], ['Enduring Well'], loc='upper right')\n",
        "plt.show()"
      ],
      "execution_count": 0,
      "outputs": []
    },
    {
      "cell_type": "code",
      "metadata": {
        "id": "4xmpmu6XkG-a",
        "colab_type": "code",
        "colab": {}
      },
      "source": [
        "kms_per_radian = 6371.0088\n",
        "epsilon = 0.2 / kms_per_radian\n",
        "db = DBSCAN(eps=epsilon, min_samples=1, algorithm='ball_tree', metric='haversine').fit(np.radians(coords))\n",
        "cluster_labels = db.labels_\n",
        "num_clusters = len(set(cluster_labels))\n",
        "clusters = pd.Series([coords[cluster_labels == n] for n in range(num_clusters)])\n",
        "print('Number of clusters: {}'.format(num_clusters))"
      ],
      "execution_count": 0,
      "outputs": []
    },
    {
      "cell_type": "code",
      "metadata": {
        "id": "_oimCu6RkH3s",
        "colab_type": "code",
        "colab": {}
      },
      "source": [
        "def get_centermost_point(cluster):\n",
        "    centroid = (MultiPoint(cluster).centroid.x, MultiPoint(cluster).centroid.y)\n",
        "    centermost_point = min(cluster, key=lambda point: great_circle(point, centroid).m)\n",
        "    return tuple(centermost_point)\n",
        "centermost_points = clusters.map(get_centermost_point)"
      ],
      "execution_count": 0,
      "outputs": []
    },
    {
      "cell_type": "code",
      "metadata": {
        "id": "Jr6rC9AdlM_B",
        "colab_type": "code",
        "colab": {}
      },
      "source": [
        "lats, lons = zip(*centermost_points)\n",
        "rep_points = pd.DataFrame({'lon':lons, 'lat':lats})"
      ],
      "execution_count": 0,
      "outputs": []
    },
    {
      "cell_type": "code",
      "metadata": {
        "id": "v9ilXtA0lPTH",
        "colab_type": "code",
        "colab": {}
      },
      "source": [
        "rs = rep_points.apply(lambda row: df[(df['latitude']==row['lat'])&(df['longitude']==row['lon'])].iloc[0], axis=1)"
      ],
      "execution_count": 0,
      "outputs": []
    },
    {
      "cell_type": "code",
      "metadata": {
        "id": "RoJR5cWAmN4O",
        "colab_type": "code",
        "colab": {}
      },
      "source": [
        "fig, ax = plt.subplots(figsize=[10, 6])\n",
        "rs_scatter = ax.scatter(rs['longitude'], rs['latitude'], c='#99cc99', edgecolor='None', alpha=0.7, s=120)\n",
        "df_scatter = ax.scatter(df['longitude'], df['latitude'], c='k', alpha=0.9, s=3)\n",
        "ax.set_title('Full data set vs DBSCAN reduced set')\n",
        "ax.set_xlabel('Longitude')\n",
        "ax.set_ylabel('Latitude')\n",
        "ax.legend([df_scatter, rs_scatter], ['Full set', 'Reduced set'], loc='upper right')\n",
        "plt.show()"
      ],
      "execution_count": 0,
      "outputs": []
    },
    {
      "cell_type": "markdown",
      "metadata": {
        "id": "5rOmnpZLVvno",
        "colab_type": "text"
      },
      "source": [
        "**For each row in df we need to know what cluster it was a part of.**\n",
        "\n",
        "\n"
      ]
    },
    {
      "cell_type": "code",
      "metadata": {
        "id": "mhDjlRXUxk_J",
        "colab_type": "code",
        "colab": {}
      },
      "source": [
        "df['Cluster'] = np.nan\n",
        "\n",
        "for i in range(len(clusters)):\n",
        "  #Get ith cluster\n",
        "  cluster = clusters[i]\n",
        "\n",
        "  #Iterate through each coord pair in cluster\n",
        "  for j in cluster:\n",
        "   df.loc[(df['latitude'] == j[0]) & (df['longitude'] == j[1]), ['Cluster']] = int(i)"
      ],
      "execution_count": 0,
      "outputs": []
    },
    {
      "cell_type": "markdown",
      "metadata": {
        "id": "xXOR7U-bV2sK",
        "colab_type": "text"
      },
      "source": [
        "**Do same with center points (rs)**"
      ]
    },
    {
      "cell_type": "code",
      "metadata": {
        "id": "5JuUTbOCJZEI",
        "colab_type": "code",
        "colab": {}
      },
      "source": [
        "rs['Cluster'] = np.nan\n",
        "\n",
        "for i in range(len(clusters)):\n",
        "  #Get ith cluster\n",
        "  cluster = clusters[i]\n",
        "\n",
        "  #Iterate through each coord pair in cluster\n",
        "  for j in cluster:\n",
        "   rs.loc[(rs['latitude'] == j[0]) & (rs['longitude'] == j[1]), ['Cluster']] = int(i)"
      ],
      "execution_count": 0,
      "outputs": []
    },
    {
      "cell_type": "markdown",
      "metadata": {
        "id": "bXI9a8AOH3i7",
        "colab_type": "text"
      },
      "source": [
        "Now we need to find the closest facilities to each cluster"
      ]
    },
    {
      "cell_type": "code",
      "metadata": {
        "id": "QFd6EYW_y0EQ",
        "colab_type": "code",
        "colab": {}
      },
      "source": [
        "facilities = pd.read_csv('/content/AQBP-LatLong-20-01-06.csv')\n",
        "\n",
        "#Only oil and gas facilities in San Juan county\n",
        "og_facilities = facilities[(facilities['Industry'].str.contains('O&G')) & (facilities['County'] == 'San Juan')]\n",
        "\n",
        "#Filter out outliers by max lat and lon of well locations\n",
        "\n",
        "#Bottom right: Must be less than or equal to this\n",
        "max_lon = df['longitude'].max() + 0.1\n",
        "\n",
        "#Bottom left: Must be greater than or equal to this \n",
        "min_lon = df['longitude'].min() - 0.1\n",
        "\n",
        "#Top right: Must be less than or equal to this\n",
        "max_lat = df['latitude'].max() +0.1\n",
        "\n",
        "#Top: Must be greater than or equal to this\n",
        "min_lat = df['latitude'].min() - 0.1\n",
        "\n",
        "#Facilities inside the box (need to tweak boundaries)\n",
        "og_facilities = og_facilities[(og_facilities['Latitude'].between(min_lat,max_lat, inclusive = True)) & (og_facilities['Longitude'].between(min_lon,max_lon, inclusive = True))]"
      ],
      "execution_count": 0,
      "outputs": []
    },
    {
      "cell_type": "code",
      "metadata": {
        "id": "xRa-0dlu6kC0",
        "colab_type": "code",
        "colab": {}
      },
      "source": [
        "facilities[facilities['Facility Name'].str.contains('787H')]"
      ],
      "execution_count": 0,
      "outputs": []
    },
    {
      "cell_type": "code",
      "metadata": {
        "id": "W-yO-Zul9ICR",
        "colab_type": "code",
        "colab": {}
      },
      "source": [
        "print(min_lat, max_lat)\n",
        "print(min_lon, max_lon)"
      ],
      "execution_count": 0,
      "outputs": []
    },
    {
      "cell_type": "code",
      "metadata": {
        "id": "9qfC8QvQ8k6b",
        "colab_type": "code",
        "colab": {}
      },
      "source": [
        "og_facilities[og_facilities['Facility Name'].str.contains('787H')]"
      ],
      "execution_count": 0,
      "outputs": []
    },
    {
      "cell_type": "code",
      "metadata": {
        "id": "ul7vw333EOY5",
        "colab_type": "code",
        "colab": {}
      },
      "source": [
        "print(min_lat, max_lat)\n",
        "print(min_lon, max_lon)"
      ],
      "execution_count": 0,
      "outputs": []
    },
    {
      "cell_type": "markdown",
      "metadata": {
        "id": "EeaF-6mASpvC",
        "colab_type": "text"
      },
      "source": [
        "Plot grouped wells and facilities together"
      ]
    },
    {
      "cell_type": "code",
      "metadata": {
        "id": "0MIR-jmhNdo_",
        "colab_type": "code",
        "colab": {}
      },
      "source": [
        "fig, ax = plt.subplots(figsize=[10, 6])\n",
        "rs_scatter = ax.scatter(rs['longitude'], rs['latitude'], c='#99cc99', edgecolor='None', alpha=0.7, s=120)\n",
        "#df_scatter = ax.scatter(df['longitude'], df['latitude'], c='#99cc99', alpha=0.7, s=50)\n",
        "fac_scatter = ax.scatter(og_facilities['Longitude'], og_facilities['Latitude'], c='black', edgecolor='None', alpha=0.7, s=25)\n",
        "\n",
        "ax.set_title('Enduring Well Clusters vs Facility Location')\n",
        "ax.set_xlabel('Longitude')\n",
        "ax.set_ylabel('Latitude')\n",
        "\n",
        "ax.legend([rs_scatter, fac_scatter], ['Well Clusters', 'Facilities'], loc='upper right')"
      ],
      "execution_count": 0,
      "outputs": []
    },
    {
      "cell_type": "code",
      "metadata": {
        "id": "ojUcCjo9RVAV",
        "colab_type": "code",
        "colab": {}
      },
      "source": [
        "import math\n",
        "\n",
        "def haversine(coord1, coord2):\n",
        "    R = 6372800  # Earth radius in meters\n",
        "    lat1, lon1 = coord1\n",
        "    lat2, lon2 = coord2\n",
        "    \n",
        "    phi1, phi2 = math.radians(lat1), math.radians(lat2) \n",
        "    dphi       = math.radians(lat2 - lat1)\n",
        "    dlambda    = math.radians(lon2 - lon1)\n",
        "    \n",
        "    a = math.sin(dphi/2)**2 + \\\n",
        "        math.cos(phi1)*math.cos(phi2)*math.sin(dlambda/2)**2\n",
        "    \n",
        "    return 2*R*math.atan2(math.sqrt(a), math.sqrt(1 - a))\n"
      ],
      "execution_count": 0,
      "outputs": []
    },
    {
      "cell_type": "code",
      "metadata": {
        "id": "wUI0DytGaFyG",
        "colab_type": "code",
        "colab": {}
      },
      "source": [
        "coord1 = (36.26690, -107.697510)\n",
        "coord2 = (36.254586, -107.714890)\n",
        "\n",
        "haversine(coord1, coord2)\n",
        "#In meters"
      ],
      "execution_count": 0,
      "outputs": []
    },
    {
      "cell_type": "code",
      "metadata": {
        "id": "fMXAMurZaZK5",
        "colab_type": "code",
        "colab": {}
      },
      "source": [
        "#Find the distance between cluster center point and all facilities. If distance < 300 meters than give facility same cluster name\n",
        "\n",
        "og_facilities['Cluster'] = np.nan\n",
        "\n",
        "#Iterate through center points\n",
        "for i in rs['API_geospatial'].unique():\n",
        "  well_lat = rs[rs['API_geospatial'] == i]['latitude'].values[0]\n",
        "  well_lon = rs[rs['API_geospatial'] == i]['longitude'].values[0]\n",
        "  well_point = (well_lat, well_lon)\n",
        "\n",
        "  #Get cluster values\n",
        "  cluster_num = rs[rs['API_geospatial'] == i]['Cluster'].values[0]\n",
        "\n",
        "  #Iterate through facilities\n",
        "  for j in og_facilities['AI'].unique():\n",
        "    fac_lat = og_facilities[og_facilities['AI'] == j]['Latitude'].values[0]\n",
        "    fac_lon = og_facilities[og_facilities['AI'] == j]['Longitude'].values[0]\n",
        "    fac_point = (fac_lat, fac_lon)\n",
        "\n",
        "    distance = haversine(well_point, fac_point)\n",
        "\n",
        "    if distance < 200:\n",
        "      print(i, j, cluster_num)\n",
        "      og_facilities.loc[og_facilities['AI'] == j, ['Cluster']] = cluster_num\n",
        "      #Label it with cluster number of rs center point\n",
        "\n",
        "    #Too far away to be associated\n",
        "    else:\n",
        "      continue"
      ],
      "execution_count": 0,
      "outputs": []
    },
    {
      "cell_type": "code",
      "metadata": {
        "id": "JjiGs68tieSq",
        "colab_type": "code",
        "colab": {}
      },
      "source": [
        "#So now we can join the facilities and wells df\n",
        "\n",
        "df_well_fac = df.merge(og_facilities, on = 'Cluster', how = 'inner', suffixes = ('_well', '_fac'))\n",
        "\n",
        "df_well_fac_filter = df_well_fac[['Initial APD Approval Date', 'name', 'ogrid_name', 'AI', 'Facility Name', 'Cluster']]\n",
        "\n",
        "#Should be 8 rows because there are 4 wells and 2 facilities\n",
        "df_well_fac_filter[df_well_fac_filter['Cluster'] == 5]"
      ],
      "execution_count": 0,
      "outputs": []
    },
    {
      "cell_type": "code",
      "metadata": {
        "id": "EqCnSu38fJTa",
        "colab_type": "code",
        "colab": {}
      },
      "source": [
        "fig, ax = plt.subplots(figsize=[10, 6])\n",
        "rs_scatter = ax.scatter(rs['longitude'], rs['latitude'], c='#99cc99', edgecolor='None', alpha=0.7, s=120)\n",
        "#df_scatter = ax.scatter(df['longitude'], df['latitude'], c='#99cc99', alpha=0.7, s=50)\n",
        "fac_scatter = sns.scatterplot(x= 'Longitude', y = 'Latitude', data = og_facilities, hue = 'Cluster')\n",
        "\n",
        "ax.set_title('Enduring Well Clusters vs Facility Location')\n",
        "ax.set_xlabel('Longitude')\n",
        "ax.set_ylabel('Latitude')\n",
        "\n",
        "ax.legend([rs_scatter, fac_scatter], ['Well Clusters', 'Facilities'], loc='upper right')"
      ],
      "execution_count": 0,
      "outputs": []
    },
    {
      "cell_type": "code",
      "metadata": {
        "id": "7qSW8K3lDhkV",
        "colab_type": "code",
        "colab": {}
      },
      "source": [
        "df_well_fac_filter['AI'].unique()"
      ],
      "execution_count": 0,
      "outputs": []
    },
    {
      "cell_type": "code",
      "metadata": {
        "id": "zutnMUMHMmtX",
        "colab_type": "code",
        "colab": {}
      },
      "source": [
        "#In air map: 37765, 38839"
      ],
      "execution_count": 0,
      "outputs": []
    },
    {
      "cell_type": "code",
      "metadata": {
        "id": "bKbsG7PAf7l5",
        "colab_type": "code",
        "colab": {}
      },
      "source": [
        "#We need to know if the permits for these facilities are online are not\n",
        "air_map_data = pd.read_csv('/content/nmed-aqb-rsmt-02-24-2020.csv')\n",
        "air_map_data.head()"
      ],
      "execution_count": 0,
      "outputs": []
    },
    {
      "cell_type": "code",
      "metadata": {
        "id": "Z_38-c7R-9le",
        "colab_type": "code",
        "colab": {}
      },
      "source": [
        "not_in = []\n",
        "yes_in = []\n",
        "#AI and NMED ID are the same thing\n",
        "for i in df_well_fac_filter['AI'].unique():\n",
        "  df = air_map_data[air_map_data['NMED ID'] == i]\n",
        "\n",
        "  if df.shape[0] == 0:\n",
        "    not_in.append(i)\n",
        "\n",
        "  else:\n",
        "    yes_in.append(i)"
      ],
      "execution_count": 0,
      "outputs": []
    },
    {
      "cell_type": "code",
      "metadata": {
        "id": "C9CvyBMWgAiv",
        "colab_type": "code",
        "colab": {}
      },
      "source": [
        "df_well_fac_filter.head()"
      ],
      "execution_count": 0,
      "outputs": []
    },
    {
      "cell_type": "code",
      "metadata": {
        "id": "EMQllq__h2aJ",
        "colab_type": "code",
        "colab": {}
      },
      "source": [
        "air_map_data[air_map_data['Facility'] == 'Enduring Resources - Chaco 2308-061 No398H'].shape[0] == 0"
      ],
      "execution_count": 0,
      "outputs": []
    },
    {
      "cell_type": "code",
      "metadata": {
        "id": "mVb4J7qV_VnT",
        "colab_type": "code",
        "colab": {}
      },
      "source": [
        "not_in"
      ],
      "execution_count": 0,
      "outputs": []
    },
    {
      "cell_type": "code",
      "metadata": {
        "id": "jNIBx3Xk_n70",
        "colab_type": "code",
        "colab": {}
      },
      "source": [
        "yes_in"
      ],
      "execution_count": 0,
      "outputs": []
    },
    {
      "cell_type": "code",
      "metadata": {
        "id": "mJ-8_3iW_osT",
        "colab_type": "code",
        "colab": {}
      },
      "source": [
        "#Request permits for these guys\n",
        "ais = df_well_fac_filter['AI'].unique()\n",
        "og_facilities[og_facilities['AI'].isin(ais)]"
      ],
      "execution_count": 0,
      "outputs": []
    },
    {
      "cell_type": "code",
      "metadata": {
        "id": "x73ZK_DHBq_K",
        "colab_type": "code",
        "colab": {}
      },
      "source": [
        "len(not_in)"
      ],
      "execution_count": 0,
      "outputs": []
    },
    {
      "cell_type": "markdown",
      "metadata": {
        "id": "XZnpT3MyE9R0",
        "colab_type": "text"
      },
      "source": [
        "## Hilcorp Analysis"
      ]
    },
    {
      "cell_type": "code",
      "metadata": {
        "id": "MgI0UCNIE_sC",
        "colab_type": "code",
        "colab": {}
      },
      "source": [
        "df = hilcorp_sanjuan = san_juan[(san_juan['ogrid_name'].str.contains('HILCORP')) & (san_juan['status_code'] == 'N')]\n",
        "coords = df.as_matrix(columns = ['latitude', 'longitude'])"
      ],
      "execution_count": 0,
      "outputs": []
    },
    {
      "cell_type": "code",
      "metadata": {
        "id": "qtsG_i49EfkM",
        "colab_type": "code",
        "colab": {}
      },
      "source": [
        "#Plot all new\n",
        "fig, ax = plt.subplots(figsize=[10, 6])\n",
        "df_scatter = ax.scatter(df['longitude'], df['latitude'], c='k', alpha=0.9, s=3)\n",
        "ax.set_title('Enduring New Wells')\n",
        "ax.set_xlabel('Longitude')\n",
        "ax.set_ylabel('Latitude')\n",
        "ax.legend([df_scatter,], ['Hilcorp Well'], loc='upper right')\n",
        "plt.show()"
      ],
      "execution_count": 0,
      "outputs": []
    },
    {
      "cell_type": "code",
      "metadata": {
        "id": "8dOMWYvjFJHp",
        "colab_type": "code",
        "colab": {}
      },
      "source": [
        "kms_per_radian = 6371.0088\n",
        "epsilon = 0.2 / kms_per_radian\n",
        "db = DBSCAN(eps=epsilon, min_samples=1, algorithm='ball_tree', metric='haversine').fit(np.radians(coords))\n",
        "cluster_labels = db.labels_\n",
        "num_clusters = len(set(cluster_labels))\n",
        "clusters = pd.Series([coords[cluster_labels == n] for n in range(num_clusters)])\n",
        "print('Number of clusters: {}'.format(num_clusters))"
      ],
      "execution_count": 0,
      "outputs": []
    },
    {
      "cell_type": "code",
      "metadata": {
        "id": "KpjFj-AHFPC9",
        "colab_type": "code",
        "colab": {}
      },
      "source": [
        "def get_centermost_point(cluster):\n",
        "    centroid = (MultiPoint(cluster).centroid.x, MultiPoint(cluster).centroid.y)\n",
        "    centermost_point = min(cluster, key=lambda point: great_circle(point, centroid).m)\n",
        "    return tuple(centermost_point)\n",
        "centermost_points = clusters.map(get_centermost_point)"
      ],
      "execution_count": 0,
      "outputs": []
    },
    {
      "cell_type": "code",
      "metadata": {
        "id": "nvwcTQMAFW0g",
        "colab_type": "code",
        "colab": {}
      },
      "source": [
        "lats, lons = zip(*centermost_points)\n",
        "rep_points = pd.DataFrame({'lon':lons, 'lat':lats})"
      ],
      "execution_count": 0,
      "outputs": []
    },
    {
      "cell_type": "code",
      "metadata": {
        "id": "uKkHTBQaFZMV",
        "colab_type": "code",
        "colab": {}
      },
      "source": [
        "rs = rep_points.apply(lambda row: df[(df['latitude']==row['lat'])&(df['longitude']==row['lon'])].iloc[0], axis=1)"
      ],
      "execution_count": 0,
      "outputs": []
    },
    {
      "cell_type": "code",
      "metadata": {
        "id": "6wjAXTHGFbkL",
        "colab_type": "code",
        "colab": {}
      },
      "source": [
        "fig, ax = plt.subplots(figsize=[10, 6])\n",
        "rs_scatter = ax.scatter(rs['longitude'], rs['latitude'], c='#99cc99', edgecolor='None', alpha=0.7, s=120)\n",
        "df_scatter = ax.scatter(df['longitude'], df['latitude'], c='k', alpha=0.9, s=3)\n",
        "ax.set_title('Full data set vs DBSCAN reduced set')\n",
        "ax.set_xlabel('Longitude')\n",
        "ax.set_ylabel('Latitude')\n",
        "ax.legend([df_scatter, rs_scatter], ['Full set', 'Reduced set'], loc='best')\n",
        "plt.show()"
      ],
      "execution_count": 0,
      "outputs": []
    },
    {
      "cell_type": "code",
      "metadata": {
        "id": "UsbjScEGFfix",
        "colab_type": "code",
        "colab": {}
      },
      "source": [
        "df['Cluster'] = np.nan\n",
        "\n",
        "for i in range(len(clusters)):\n",
        "  #Get ith cluster\n",
        "  cluster = clusters[i]\n",
        "\n",
        "  #Iterate through each coord pair in cluster\n",
        "  for j in cluster:\n",
        "   df.loc[(df['latitude'] == j[0]) & (df['longitude'] == j[1]), ['Cluster']] = int(i)"
      ],
      "execution_count": 0,
      "outputs": []
    },
    {
      "cell_type": "code",
      "metadata": {
        "id": "uGmDnbR-R5y9",
        "colab_type": "code",
        "colab": {}
      },
      "source": [
        "rs['Cluster'] = np.nan\n",
        "\n",
        "for i in range(len(clusters)):\n",
        "  #Get ith cluster\n",
        "  cluster = clusters[i]\n",
        "\n",
        "  #Iterate through each coord pair in cluster\n",
        "  for j in cluster:\n",
        "   rs.loc[(rs['latitude'] == j[0]) & (rs['longitude'] == j[1]), ['Cluster']] = int(i)"
      ],
      "execution_count": 0,
      "outputs": []
    },
    {
      "cell_type": "code",
      "metadata": {
        "id": "sLH2gVNlR-YF",
        "colab_type": "code",
        "colab": {}
      },
      "source": [
        "facilities = pd.read_csv('/content/AQBP-LatLong-20-01-06.csv')\n",
        "\n",
        "#Only oil and gas facilities in San Juan county\n",
        "og_facilities = facilities[(facilities['Industry'].str.contains('O&G')) & (facilities['County'] == 'San Juan')]\n",
        "\n",
        "#Filter out outliers by max lat and lon of well locations\n",
        "\n",
        "#Bottom right: Must be less than or equal to this\n",
        "max_lon = df['longitude'].max() + 0.1\n",
        "\n",
        "#Bottom left: Must be greater than or equal to this \n",
        "min_lon = df['longitude'].min() - 0.1\n",
        "\n",
        "#Top right: Must be less than or equal to this\n",
        "max_lat = df['latitude'].max() +0.1\n",
        "\n",
        "#Top: Must be greater than or equal to this\n",
        "min_lat = df['latitude'].min() - 0.1\n",
        "\n",
        "#Facilities inside the box (need to tweak boundaries)\n",
        "og_facilities = og_facilities[(og_facilities['Latitude'].between(min_lat,max_lat, inclusive = True)) & (og_facilities['Longitude'].between(min_lon,max_lon, inclusive = True))]"
      ],
      "execution_count": 0,
      "outputs": []
    },
    {
      "cell_type": "code",
      "metadata": {
        "id": "dc523aIgSFE7",
        "colab_type": "code",
        "colab": {}
      },
      "source": [
        "fig, ax = plt.subplots(figsize=[10, 6])\n",
        "rs_scatter = ax.scatter(rs['longitude'], rs['latitude'], c='#99cc99', edgecolor='None', alpha=0.7, s=120)\n",
        "#df_scatter = ax.scatter(df['longitude'], df['latitude'], c='#99cc99', alpha=0.7, s=50)\n",
        "fac_scatter = ax.scatter(og_facilities['Longitude'], og_facilities['Latitude'], c='black', edgecolor='None', alpha=0.7, s=25)\n",
        "\n",
        "ax.set_title('Hilcorp Well Clusters vs Facility Location')\n",
        "ax.set_xlabel('Longitude')\n",
        "ax.set_ylabel('Latitude')\n",
        "\n",
        "ax.legend([rs_scatter, fac_scatter], ['Well Clusters', 'Facilities'], loc='upper right')"
      ],
      "execution_count": 0,
      "outputs": []
    },
    {
      "cell_type": "code",
      "metadata": {
        "id": "olPFYT_9SJpz",
        "colab_type": "code",
        "colab": {}
      },
      "source": [
        "og_facilities['Cluster'] = np.nan\n",
        "\n",
        "#Iterate through center points\n",
        "for i in rs['API_geospatial'].unique():\n",
        "  well_lat = rs[rs['API_geospatial'] == i]['latitude'].values[0]\n",
        "  well_lon = rs[rs['API_geospatial'] == i]['longitude'].values[0]\n",
        "  well_point = (well_lat, well_lon)\n",
        "\n",
        "  #Get cluster values\n",
        "  cluster_num = rs[rs['API_geospatial'] == i]['Cluster'].values[0]\n",
        "\n",
        "  #Iterate through facilities\n",
        "  for j in og_facilities['AI'].unique():\n",
        "    fac_lat = og_facilities[og_facilities['AI'] == j]['Latitude'].values[0]\n",
        "    fac_lon = og_facilities[og_facilities['AI'] == j]['Longitude'].values[0]\n",
        "    fac_point = (fac_lat, fac_lon)\n",
        "\n",
        "    distance = haversine(well_point, fac_point)\n",
        "\n",
        "    if distance < 200:\n",
        "      print(i, j, cluster_num)\n",
        "      og_facilities.loc[og_facilities['AI'] == j, ['Cluster']] = cluster_num\n",
        "      #Label it with cluster number of rs center point\n",
        "\n",
        "    #Too far away to be associated\n",
        "    else:\n",
        "      continue"
      ],
      "execution_count": 0,
      "outputs": []
    },
    {
      "cell_type": "code",
      "metadata": {
        "id": "-UsZb0OrSPrO",
        "colab_type": "code",
        "colab": {}
      },
      "source": [
        "#So now we can join the facilities and wells df\n",
        "\n",
        "df_well_fac = df.merge(og_facilities, on = 'Cluster', how = 'inner', suffixes = ('_well', '_fac'))\n",
        "\n",
        "df_well_fac_filter = df_well_fac[['Initial APD Approval Date', 'name', 'ogrid_name', 'AI', 'Facility Name', 'Cluster']]\n",
        "\n",
        "#Should be 8 rows because there are 4 wells and 2 facilities\n",
        "df_well_fac_filter[df_well_fac_filter['Cluster'] == 0]"
      ],
      "execution_count": 0,
      "outputs": []
    },
    {
      "cell_type": "code",
      "metadata": {
        "id": "A2ppnEChSUSf",
        "colab_type": "code",
        "colab": {}
      },
      "source": [
        "fig, ax = plt.subplots(figsize=[10, 6])\n",
        "rs_scatter = ax.scatter(rs['longitude'], rs['latitude'], c='#99cc99', edgecolor='None', alpha=0.7, s=120)\n",
        "#df_scatter = ax.scatter(df['longitude'], df['latitude'], c='#99cc99', alpha=0.7, s=50)\n",
        "fac_scatter = sns.scatterplot(x= 'Longitude', y = 'Latitude', data = og_facilities, hue = 'Cluster')\n",
        "\n",
        "ax.set_title('Enduring Well Clusters vs Facility Location')\n",
        "ax.set_xlabel('Longitude')\n",
        "ax.set_ylabel('Latitude')\n",
        "\n",
        "ax.legend([rs_scatter, fac_scatter], ['Well Clusters', 'Facilities'], loc='upper right')"
      ],
      "execution_count": 0,
      "outputs": []
    },
    {
      "cell_type": "markdown",
      "metadata": {
        "id": "H3MEVopxTylM",
        "colab_type": "text"
      },
      "source": [
        "# Week 9\n",
        "\n",
        "Instead of looking for new wells we want to look for active wells. Plan here is to find active wels from Hilcorp and Endring from OCD's geospatial data (the onelacking the APD and spud)."
      ]
    },
    {
      "cell_type": "code",
      "metadata": {
        "id": "XzW7SYjLT1US",
        "colab_type": "code",
        "colab": {}
      },
      "source": [
        "#Find the wells from the geospatial dataset that are in San Juan County, operated by Hilcorp or Enduring, and have a status of Active\n",
        "\n",
        "# 120782 = WPX ENERGY PRODUCTION, LLC, \n",
        "# 372286 = Enduring\n",
        "# 372171 = Hilcorp\n",
        "\n",
        "#Find apis\n",
        "apis = df_wells[(df_wells['county'] == 'San Juan')&\n",
        "                (df_wells['ogrid'].isin([120782, 372286, 372171]))&\n",
        "                (df_wells['status'] == 'Active')]['API_geospatial']\n",
        "\n",
        "#How many wells are there?\n",
        "len(apis)"
      ],
      "execution_count": 0,
      "outputs": []
    },
    {
      "cell_type": "markdown",
      "metadata": {
        "id": "XrG_r1snAvpu",
        "colab_type": "text"
      },
      "source": [
        "**Use the web scraper on the APIs we collected. This will take 2+ hours.**"
      ]
    },
    {
      "cell_type": "code",
      "metadata": {
        "id": "wQuWRHykUMbd",
        "colab_type": "code",
        "colab": {}
      },
      "source": [
        "#Scrape away!\n",
        "well_dict = {}\n",
        "\n",
        "base_url = 'https://wwwapps.emnrd.state.nm.us/ocd/ocdpermitting/Data/WellDetails.aspx?api='\n",
        "\n",
        "interesting_content = SoupStrainer('div', {'class': 'left_column'})\n",
        "\n",
        "for num, api in enumerate(apis):\n",
        "  url = base_url + str(api)\n",
        "  response = requests.request(\"GET\", url)\n",
        "\n",
        "  soup = BeautifulSoup(response.content, 'lxml', parse_only= interesting_content)\n",
        "\n",
        "  well_dict[str(api)] = [soup.find(id = 'ctl00_ctl00__main_main_ucGeneralWellInformation_lblSpudDate').get_text(),\n",
        "                             soup.find(id = 'ctl00_ctl00__main_main_ucGeneralWellInformation_lblApdInitialApprovalDate').get_text(),\n",
        "                             soup.find(id = 'ctl00_ctl00__main_main_ucGeneralWellInformation_lblApdEffectiveDate').get_text()]\n",
        "\n",
        "  if num % 10 == 0:\n",
        "    print(num)\n",
        "\n",
        "  else:\n",
        "    continue\n",
        "\n",
        "  time.sleep(0.25)\n",
        "\n",
        "df = pd.DataFrame.from_dict(well_dict).T\n",
        "df.to_csv('San_Juan.csv')\n",
        "\n",
        "from google.colab import files\n",
        "files.download('San_Juan.csv') "
      ],
      "execution_count": 0,
      "outputs": []
    },
    {
      "cell_type": "markdown",
      "metadata": {
        "id": "9YEIMKjxA68j",
        "colab_type": "text"
      },
      "source": [
        "**Convert dict to df and format**"
      ]
    },
    {
      "cell_type": "code",
      "metadata": {
        "id": "nGZONmLxMGhE",
        "colab_type": "code",
        "colab": {}
      },
      "source": [
        "df = pd.DataFrame.from_dict(well_dict).T\n",
        "df1 = df.rename(columns = {0:'Spud Date', 1:'Initial APD', 2:'Recent APD'})\n",
        "df1.to_csv('San_Juan.csv')"
      ],
      "execution_count": 0,
      "outputs": []
    },
    {
      "cell_type": "markdown",
      "metadata": {
        "id": "FyZJnZrQBC28",
        "colab_type": "text"
      },
      "source": [
        "**Now we can use the scraped data.**"
      ]
    },
    {
      "cell_type": "code",
      "metadata": {
        "id": "CrMETtwxiroe",
        "colab_type": "code",
        "colab": {}
      },
      "source": [
        "sj = pd.read_csv('/content/drive/My Drive/Practicum 2019 - WildEarth Guardians/Data/Not Geospatial/San_Juan.csv')\n",
        "\n",
        "sj = sj.rename(columns = {'Unnamed: 0':'API'})\n",
        "\n",
        "#Convert string dates to datetime\n",
        "for col in sj.columns:\n",
        "  if col == 'API':\n",
        "    continue\n",
        "  else:\n",
        "    sj[col] = pd.to_datetime(sj[col])\n",
        "\n",
        "#Preview\n",
        "sj.head()"
      ],
      "execution_count": 0,
      "outputs": []
    },
    {
      "cell_type": "markdown",
      "metadata": {
        "id": "nEEe04y0B3xL",
        "colab_type": "text"
      },
      "source": [
        "**So how many Spuds are in recent years?**"
      ]
    },
    {
      "cell_type": "code",
      "metadata": {
        "id": "XcsMFYsvWJQp",
        "colab_type": "code",
        "colab": {}
      },
      "source": [
        "count_spuds = sj.groupby(sj['Spud Date'].dt.year).count()\n",
        "count_spuds= count_spuds.rename(columns = {'Spud Date':'Num Spuds'})\n",
        "count_spuds = count_spuds.reset_index()\n",
        "\n",
        "fig, ax = plt.subplots(figsize = (18,5))\n",
        "\n",
        "ax = sns.barplot(x = 'Spud Date', y = 'Num Spuds', data = count_spuds)\n",
        "\n",
        "plt.xticks(rotation = 90)\n",
        "\n",
        "ax.set_title('Number of SPUDS in Given Year\\nActive Wells in San Juan County Operated by Hilcorp or Enduring')"
      ],
      "execution_count": 0,
      "outputs": []
    },
    {
      "cell_type": "markdown",
      "metadata": {
        "id": "YQCDXms6GW-6",
        "colab_type": "text"
      },
      "source": [
        "**Now we need to join additional information about the well such as the company and location. Take this information from the geospatial dataset.**"
      ]
    },
    {
      "cell_type": "code",
      "metadata": {
        "id": "gpjVd6axCGdr",
        "colab_type": "code",
        "colab": {}
      },
      "source": [
        "##Load in geospatial data\n",
        "\n",
        "#FTP version of this earlier in notebook\n",
        "layers = fiona.listlayers('/content/drive/My Drive/Practicum 2019 - WildEarth Guardians/Data/Geospatial/Wells/NMOCD_GISData.gdb')\n",
        "df_wells = gpd.read_file('/content/drive/My Drive/Practicum 2019 - WildEarth Guardians/Data/Geospatial/Wells/NMOCD_GISData.gdb', layer = 'WellGIS')\n",
        "\n",
        "df_wells = df_wells.rename(columns = {'id':'API_geospatial'})\n",
        "\n",
        "df_wells.head()"
      ],
      "execution_count": 0,
      "outputs": []
    },
    {
      "cell_type": "code",
      "metadata": {
        "id": "Ziwc3-cGG04l",
        "colab_type": "code",
        "colab": {}
      },
      "source": [
        "#Perform inner join\n",
        "df = sj.merge(df_wells, left_on = 'API', right_on = 'API_geospatial', how = 'inner')\n",
        "\n",
        "#Remove some excess columns\n",
        "df = df.drop(columns = ['API_geospatial'])\n",
        "\n",
        "df.head()"
      ],
      "execution_count": 0,
      "outputs": []
    },
    {
      "cell_type": "markdown",
      "metadata": {
        "id": "n04PDW6XHqAA",
        "colab_type": "text"
      },
      "source": [
        "**We are only interested in wells that had a recent (since 2010) spud date.**"
      ]
    },
    {
      "cell_type": "code",
      "metadata": {
        "id": "GT5dZJvqHAqA",
        "colab_type": "code",
        "colab": {}
      },
      "source": [
        "df_recent = df[df['Spud Date'].dt.year > 2009]\n",
        "\n",
        "#How many wells are there?\n",
        "df_recent.shape\n",
        "\n",
        "#How many wells by each company?\n",
        "plot=df_recent.groupby(['ogrid_name', df_recent['Spud Date'].dt.year]).count()\n",
        "plot = plot.rename(columns = {'Spud Date':'Num Spud'})\n",
        "plot = plot.reset_index()\n",
        "\n",
        "g = sns.catplot(x = 'Spud Date', y = 'Num Spud', data = plot, hue = 'ogrid_name', kind = 'bar', palette = 'Reds')\n",
        "axes = g.axes.flatten()\n",
        "axes[0].set_title('Spuds per Year by Company')"
      ],
      "execution_count": 0,
      "outputs": []
    },
    {
      "cell_type": "markdown",
      "metadata": {
        "id": "2MsowjSwLEWa",
        "colab_type": "text"
      },
      "source": [
        "**Now split by company and whether oil or gas well and begin clustering.**"
      ]
    },
    {
      "cell_type": "code",
      "metadata": {
        "id": "vjhJQhb_KcD-",
        "colab_type": "code",
        "colab": {}
      },
      "source": [
        "hilcorp = df_recent[df_recent['ogrid_name'] == 'HILCORP ENERGY COMPANY']\n",
        "hilcorp_gas = hilcorp[hilcorp['type_code'] == 'G']\n",
        "hilcorp_oil = hilcorp[hilcorp['type_code'] == 'O']\n",
        "\n",
        "enduring = df_recent[df_recent['ogrid_name'] == 'ENDURING RESOURCES, LLC']\n",
        "enduring_gas = enduring[enduring['type_code'] == 'G']\n",
        "enduring_oil = enduring[enduring['type_code'] == 'O']"
      ],
      "execution_count": 0,
      "outputs": []
    },
    {
      "cell_type": "code",
      "metadata": {
        "id": "IgKaC5M72tyC",
        "colab_type": "code",
        "colab": {}
      },
      "source": [
        "#Dict for coloring well type\n",
        "\n",
        "type_colors = {'Gas':'darkslateblue',\n",
        "               'Oil':'mediumslateblue',\n",
        "               'Salt Water Disposal':'plum'}"
      ],
      "execution_count": 0,
      "outputs": []
    },
    {
      "cell_type": "code",
      "metadata": {
        "id": "zKyNvfeIBIs8",
        "colab_type": "code",
        "colab": {}
      },
      "source": [
        "#Split between oil and gas wells for hilcorp?\n",
        "plot = hilcorp.groupby(['type', df_recent['Spud Date'].dt.year]).count()\n",
        "plot = plot.rename(columns = {'Spud Date':'Num Spud'})\n",
        "plot = plot.reset_index()\n",
        "\n",
        "g = sns.catplot(x = 'Spud Date', y = 'Num Spud', data = plot, hue = 'type', kind = 'bar', palette = type_colors)\n",
        "\n",
        "axes = g.axes.flatten()\n",
        "axes[0].set_title('Spuds per Year by Well Type\\nHilcorp')\n",
        "axes[0].set_ylabel('Number of Spuds')"
      ],
      "execution_count": 0,
      "outputs": []
    },
    {
      "cell_type": "code",
      "metadata": {
        "id": "G0I3xerR5tOx",
        "colab_type": "code",
        "colab": {}
      },
      "source": [
        "plot = enduring.groupby(['type', df_recent['Spud Date'].dt.year]).count()\n",
        "plot = plot.rename(columns = {'Spud Date':'Num Spud'})\n",
        "plot = plot.reset_index()\n",
        "g = sns.catplot(x = 'Spud Date', y = 'Num Spud', data = plot, hue = 'type', kind = 'bar', palette = type_colors)\n",
        "\n",
        "axes = g.axes.flatten()\n",
        "axes[0].set_title('Spuds per Year by Well Type\\nEnduring')\n",
        "axes[0].set_ylabel('Number of Spuds')"
      ],
      "execution_count": 0,
      "outputs": []
    },
    {
      "cell_type": "code",
      "metadata": {
        "id": "i2-MBwg3ThO8",
        "colab_type": "code",
        "colab": {}
      },
      "source": [
        "#Save these as csv for ArcMap\n",
        "hilcorp.to_csv('hilcorp_active_sj.csv')\n",
        "enduring.to_csv('enduring_active_sj.csv')"
      ],
      "execution_count": 0,
      "outputs": []
    },
    {
      "cell_type": "markdown",
      "metadata": {
        "id": "P5mwUrcaceEV",
        "colab_type": "text"
      },
      "source": [
        "## Enduring Gas"
      ]
    },
    {
      "cell_type": "code",
      "metadata": {
        "id": "EsLSf4SSLWVf",
        "colab_type": "code",
        "colab": {}
      },
      "source": [
        "#Plot all new gas wells for enduring\n",
        "fig, ax = plt.subplots(figsize=[10, 6])\n",
        "df_scatter = ax.scatter(enduring_gas['longitude'], enduring_gas['latitude'], c='k', alpha=0.9, s=3)\n",
        "\n",
        "wells = enduring_gas.shape[0]\n",
        "\n",
        "ax.set_title('Enduring New Wells\\n' + str(wells) + ' Wells')\n",
        "ax.set_xlabel('Longitude')\n",
        "ax.set_ylabel('Latitude')\n",
        "ax.legend([df_scatter,], ['Enduring Well'], loc='upper right')\n",
        "plt.show()"
      ],
      "execution_count": 0,
      "outputs": []
    },
    {
      "cell_type": "code",
      "metadata": {
        "id": "NkqynAUP4xGL",
        "colab_type": "code",
        "colab": {}
      },
      "source": [
        "import pandas as pd, numpy as np, matplotlib.pyplot as plt\n",
        "from sklearn.cluster import DBSCAN\n",
        "from geopy.distance import great_circle\n",
        "from shapely.geometry import MultiPoint"
      ],
      "execution_count": 0,
      "outputs": []
    },
    {
      "cell_type": "code",
      "metadata": {
        "id": "7K-cZPZoHkkN",
        "colab_type": "code",
        "colab": {}
      },
      "source": [
        "coords = enduring_gas[['latitude', 'longitude']].values\n",
        "\n",
        "kms_per_radian = 6371.0088\n",
        "epsilon = 0.4 / kms_per_radian\n",
        "db = DBSCAN(eps=epsilon, min_samples=1, algorithm='ball_tree', metric='haversine').fit(np.radians(coords))\n",
        "cluster_labels = db.labels_\n",
        "num_clusters = len(set(cluster_labels))\n",
        "clusters = pd.Series([coords[cluster_labels == n] for n in range(num_clusters)])\n",
        "print('Number of clusters: {}'.format(num_clusters))"
      ],
      "execution_count": 0,
      "outputs": []
    },
    {
      "cell_type": "code",
      "metadata": {
        "id": "v_Lj4vEGLor_",
        "colab_type": "code",
        "colab": {}
      },
      "source": [
        "# function as_matrix is now depricated.\n",
        "# coords = enduring_gas.as_matrix(columns = ['latitude', 'longitude'])\n",
        "\n",
        "# kms_per_radian = 6371.0088\n",
        "# epsilon = 0.4 / kms_per_radian\n",
        "# db = DBSCAN(eps=epsilon, min_samples=1, algorithm='ball_tree', metric='haversine').fit(np.radians(coords))\n",
        "# cluster_labels = db.labels_\n",
        "# num_clusters = len(set(cluster_labels))\n",
        "# clusters = pd.Series([coords[cluster_labels == n] for n in range(num_clusters)])\n",
        "# print('Number of clusters: {}'.format(num_clusters))"
      ],
      "execution_count": 0,
      "outputs": []
    },
    {
      "cell_type": "code",
      "metadata": {
        "id": "SlhJNtR5L_3T",
        "colab_type": "code",
        "colab": {}
      },
      "source": [
        "def get_centermost_point(cluster):\n",
        "    centroid = (MultiPoint(cluster).centroid.x, MultiPoint(cluster).centroid.y)\n",
        "    centermost_point = min(cluster, key=lambda point: great_circle(point, centroid).m)\n",
        "    return tuple(centermost_point)\n",
        "\n",
        "centermost_points = clusters.map(get_centermost_point)\n",
        "\n",
        "\n",
        "lats, lons = zip(*centermost_points)\n",
        "rep_points = pd.DataFrame({'lon':lons, 'lat':lats})\n",
        "\n",
        "rs = rep_points.apply(lambda row: df[(df['latitude']==row['lat'])&(df['longitude']==row['lon'])].iloc[0], axis=1)\n",
        "\n",
        "fig, ax = plt.subplots(figsize=[10, 6])\n",
        "rs_scatter = ax.scatter(rs['longitude'], rs['latitude'], c='#99cc99', edgecolor='None', alpha=0.7, s=120)\n",
        "df_scatter = ax.scatter(enduring_gas['longitude'], enduring_gas['latitude'], c='k', alpha=0.9, s=3)\n",
        "ax.set_title('Enduring Gas: Full data set vs DBSCAN reduced set')\n",
        "ax.set_xlabel('Longitude')\n",
        "ax.set_ylabel('Latitude')\n",
        "ax.legend([df_scatter, rs_scatter], ['Gas Full set', 'Gas Reduced set'], loc='best')\n",
        "plt.show()"
      ],
      "execution_count": 0,
      "outputs": []
    },
    {
      "cell_type": "code",
      "metadata": {
        "id": "iuKKj6ZYMba5",
        "colab_type": "code",
        "colab": {}
      },
      "source": [
        "enduring_gas['Cluster'] = np.nan\n",
        "\n",
        "for i in range(len(clusters)):\n",
        "  #Get ith cluster\n",
        "  cluster = clusters[i]\n",
        "\n",
        "  #Iterate through each coord pair in cluster\n",
        "  for j in cluster:\n",
        "   enduring_gas.loc[(enduring_gas['latitude'] == j[0]) & (enduring_gas['longitude'] == j[1]), ['Cluster']] = int(i)"
      ],
      "execution_count": 0,
      "outputs": []
    },
    {
      "cell_type": "code",
      "metadata": {
        "id": "nrvSrC4wGghm",
        "colab_type": "code",
        "colab": {}
      },
      "source": [
        "rs['Cluster'] = np.nan\n",
        "\n",
        "for i in range(len(clusters)):\n",
        "  #Get ith cluster\n",
        "  cluster = clusters[i]\n",
        "\n",
        "  #Iterate through each coord pair in cluster\n",
        "  for j in cluster:\n",
        "   rs.loc[(rs['latitude'] == j[0]) & (rs['longitude'] == j[1]), ['Cluster']] = int(i)"
      ],
      "execution_count": 0,
      "outputs": []
    },
    {
      "cell_type": "code",
      "metadata": {
        "id": "XNjnIhxqHZnO",
        "colab_type": "code",
        "colab": {}
      },
      "source": [
        "facilities = pd.read_csv('/content/AQBP-LatLong-20-01-06.csv')\n",
        "\n",
        "#Only oil and gas facilities in San Juan county\n",
        "og_facilities = facilities[(facilities['Industry'].str.contains('O&G')) & (facilities['County'] == 'San Juan')]\n",
        "\n",
        "#Filter out outliers by max lat and lon of well locations\n",
        "\n",
        "#Bottom right: Must be less than or equal to this\n",
        "max_lon = enduring_gas['longitude'].max() + 0.1\n",
        "\n",
        "#Bottom left: Must be greater than or equal to this \n",
        "min_lon = enduring_gas['longitude'].min() - 0.1\n",
        "\n",
        "#Top right: Must be less than or equal to this\n",
        "max_lat = enduring_gas['latitude'].max() +0.1\n",
        "\n",
        "#Top: Must be greater than or equal to this\n",
        "min_lat = enduring_gas['latitude'].min() - 0.1\n",
        "\n",
        "#Facilities inside the box (need to tweak boundaries)\n",
        "og_facilities = og_facilities[(og_facilities['Latitude'].between(min_lat,max_lat, inclusive = True)) & (og_facilities['Longitude'].between(min_lon,max_lon, inclusive = True))]"
      ],
      "execution_count": 0,
      "outputs": []
    },
    {
      "cell_type": "code",
      "metadata": {
        "id": "IdFvy0zlHesJ",
        "colab_type": "code",
        "colab": {}
      },
      "source": [
        "fig, ax = plt.subplots(figsize=[10, 6])\n",
        "rs_scatter = ax.scatter(rs['longitude'], rs['latitude'], c='#99cc99', edgecolor='None', alpha=0.7, s=120)\n",
        "fac_scatter = ax.scatter(og_facilities['Longitude'], og_facilities['Latitude'], c='black', edgecolor='None', alpha=0.7, s=25)\n",
        "\n",
        "ax.set_title('Enduring Gas Well Clusters vs Facility Location')\n",
        "ax.set_xlabel('Longitude')\n",
        "ax.set_ylabel('Latitude')\n",
        "\n",
        "ax.legend([rs_scatter, fac_scatter], ['Gas Well Clusters', 'Facilities'], loc='upper right')"
      ],
      "execution_count": 0,
      "outputs": []
    },
    {
      "cell_type": "code",
      "metadata": {
        "id": "DAUMRSx5ISJ6",
        "colab_type": "code",
        "colab": {}
      },
      "source": [
        "#Haversine function for distance calculation\n",
        "import math\n",
        "\n",
        "def haversine(coord1, coord2):\n",
        "    R = 6372800  # Earth radius in meters\n",
        "    lat1, lon1 = coord1\n",
        "    lat2, lon2 = coord2\n",
        "    \n",
        "    phi1, phi2 = math.radians(lat1), math.radians(lat2) \n",
        "    dphi       = math.radians(lat2 - lat1)\n",
        "    dlambda    = math.radians(lon2 - lon1)\n",
        "    \n",
        "    a = math.sin(dphi/2)**2 + \\\n",
        "        math.cos(phi1)*math.cos(phi2)*math.sin(dlambda/2)**2\n",
        "    \n",
        "    return 2*R*math.atan2(math.sqrt(a), math.sqrt(1 - a))"
      ],
      "execution_count": 0,
      "outputs": []
    },
    {
      "cell_type": "code",
      "metadata": {
        "id": "udRr6wTdPxAo",
        "colab_type": "code",
        "colab": {}
      },
      "source": [
        "#I want to have a seperate path for isolated well sites.\n",
        "#So if no facilities within 200 m, I want to expand search radius to 500\n",
        "#Need a running count of the number of faciliites per well\n",
        "\n",
        "og_facilities['Cluster'] = np.nan\n",
        "\n",
        "#How many facilities per center point?\n",
        "isolated = []\n",
        "\n",
        "#Iterate through center points\n",
        "for i in rs['API'].unique():\n",
        "  well_lat = rs[rs['API'] == i]['latitude'].values[0]\n",
        "  well_lon = rs[rs['API'] == i]['longitude'].values[0]\n",
        "  well_point = (well_lat, well_lon)\n",
        "\n",
        "  #Get cluster values\n",
        "  cluster_num = rs[rs['API'] == i]['Cluster'].values[0]\n",
        "  \n",
        "  count = 0\n",
        "\n",
        "  #Iterate through facilities\n",
        "  for j in og_facilities['AI'].unique():\n",
        "    fac_lat = og_facilities[og_facilities['AI'] == j]['Latitude'].values[0]\n",
        "    fac_lon = og_facilities[og_facilities['AI'] == j]['Longitude'].values[0]\n",
        "    fac_point = (fac_lat, fac_lon)\n",
        "\n",
        "    distance = haversine(well_point, fac_point)\n",
        "\n",
        "    if distance < 200:\n",
        "      print(i, j, cluster_num)\n",
        "      #Label it with cluster number of rs center point\n",
        "      og_facilities.loc[og_facilities['AI'] == j, ['Cluster']] = cluster_num\n",
        "\n",
        "      count = count + 1\n",
        "      \n",
        "    #Too far away to be associated\n",
        "    else:\n",
        "      continue\n",
        "\n",
        "  if count == 0:\n",
        "    isolated.append(i)\n",
        "\n",
        "  else:\n",
        "    continue"
      ],
      "execution_count": 0,
      "outputs": []
    },
    {
      "cell_type": "markdown",
      "metadata": {
        "id": "2ts_nvU7clUL",
        "colab_type": "text"
      },
      "source": [
        "**Go through isolated well clusters.**"
      ]
    },
    {
      "cell_type": "code",
      "metadata": {
        "id": "w75f-h4gY7-1",
        "colab_type": "code",
        "colab": {}
      },
      "source": [
        "#Iterate through center points\n",
        "for i in np.unique(isolated):\n",
        "  well_lat = rs[rs['API'] == i]['latitude'].values[0]\n",
        "  well_lon = rs[rs['API'] == i]['longitude'].values[0]\n",
        "  well_point = (well_lat, well_lon)\n",
        "\n",
        "  #Get cluster values\n",
        "  cluster_num = rs[rs['API'] == i]['Cluster'].values[0]\n",
        "\n",
        "  #Iterate through facilities\n",
        "  for j in og_facilities['AI'].unique():\n",
        "    fac_lat = og_facilities[og_facilities['AI'] == j]['Latitude'].values[0]\n",
        "    fac_lon = og_facilities[og_facilities['AI'] == j]['Longitude'].values[0]\n",
        "    fac_point = (fac_lat, fac_lon)\n",
        "\n",
        "    distance = haversine(well_point, fac_point)\n",
        "\n",
        "    if distance < 500:\n",
        "      print(i, j, cluster_num)\n",
        "      og_facilities.loc[og_facilities['AI'] == j, ['Cluster']] = cluster_num\n",
        "      #Label it with cluster number of rs center point\n",
        "\n",
        "    #Too far away to be associated\n",
        "    else:\n",
        "      continue"
      ],
      "execution_count": 0,
      "outputs": []
    },
    {
      "cell_type": "code",
      "metadata": {
        "id": "ORcqQX7gIT0y",
        "colab_type": "code",
        "colab": {}
      },
      "source": [
        "#So now we can join the facilities and wells df\n",
        "\n",
        "df_well_fac = enduring_gas.merge(og_facilities, on = 'Cluster', how = 'inner', suffixes = ('_well', '_fac'))\n",
        "\n",
        "df_well_fac_filter = df_well_fac[['Initial APD', 'Spud Date', 'API', 'name', 'ogrid_name', 'latitude', \n",
        "                                  'longitude', 'AI', 'Facility Name', 'Cluster', 'Latitude', 'Longitude',\n",
        "                                  'NO_TPY','CO_TPY','VOC_TPY','PM10_TPY','SO2_TPY']]\n",
        "\n",
        "#Rename columns\n",
        "df_well_fac_filter = df_well_fac_filter.rename(columns = {'latitude':'Well Latitude',\n",
        "                                    'longitude':'Well Longitude',\n",
        "                                    'Latitude':'Facility Latitude',\n",
        "                                    'Longitude':'Facility Longitude',\n",
        "                                    'name':'Well Name',\n",
        "                                    'API':'Well API',\n",
        "                                    'AI':'Facility AI'})\n",
        "\n",
        "#Save as csv\n",
        "df_well_fac_filter.to_csv('enduring_gas_well_facility_match.csv')"
      ],
      "execution_count": 0,
      "outputs": []
    },
    {
      "cell_type": "code",
      "metadata": {
        "id": "ZQnOsArVJVRW",
        "colab_type": "code",
        "colab": {}
      },
      "source": [
        "fig, ax = plt.subplots(figsize=[10, 6])\n",
        "rs_scatter = ax.scatter(rs['longitude'], rs['latitude'], c='#99cc99', edgecolor='None', alpha=0.7, s=120)\n",
        "fac_scatter = sns.scatterplot(x= 'Longitude', y = 'Latitude', data = og_facilities, hue = 'Cluster')\n",
        "\n",
        "ax.set_title('Enduring Gas Well Clusters vs Facility Location')\n",
        "ax.set_xlabel('Longitude')\n",
        "ax.set_ylabel('Latitude')\n",
        "\n",
        "ax.legend([rs_scatter, fac_scatter], ['Gas Well Clusters', 'Facilities'], loc='upper right')"
      ],
      "execution_count": 0,
      "outputs": []
    },
    {
      "cell_type": "markdown",
      "metadata": {
        "id": "hrOKwMtOcqwd",
        "colab_type": "text"
      },
      "source": [
        "## Enduring Oil"
      ]
    },
    {
      "cell_type": "code",
      "metadata": {
        "id": "F9YEMbpgNawb",
        "colab_type": "code",
        "colab": {}
      },
      "source": [
        "#Plot all new gas wells for enduring\n",
        "fig, ax = plt.subplots(figsize=[10, 6])\n",
        "df_scatter = ax.scatter(enduring_oil['longitude'], enduring_oil['latitude'], c='k', alpha=0.9, s=3)\n",
        "ax.set_title('Enduring New Wells')\n",
        "ax.set_xlabel('Longitude')\n",
        "ax.set_ylabel('Latitude')\n",
        "ax.legend([df_scatter,], ['Enduring Well'], loc='upper right')\n",
        "plt.show()"
      ],
      "execution_count": 0,
      "outputs": []
    },
    {
      "cell_type": "code",
      "metadata": {
        "id": "d6omUWxGcwzx",
        "colab_type": "code",
        "colab": {}
      },
      "source": [
        "coords = enduring_oil[['latitude', 'longitude']].values\n",
        "\n",
        "kms_per_radian = 6371.0088\n",
        "epsilon = 0.4 / kms_per_radian\n",
        "db = DBSCAN(eps=epsilon, min_samples=1, algorithm='ball_tree', metric='haversine').fit(np.radians(coords))\n",
        "cluster_labels = db.labels_\n",
        "num_clusters = len(set(cluster_labels))\n",
        "clusters = pd.Series([coords[cluster_labels == n] for n in range(num_clusters)])\n",
        "print('Number of clusters: {}'.format(num_clusters))\n",
        "\n",
        "#Plot\n",
        "def get_centermost_point(cluster):\n",
        "    centroid = (MultiPoint(cluster).centroid.x, MultiPoint(cluster).centroid.y)\n",
        "    centermost_point = min(cluster, key=lambda point: great_circle(point, centroid).m)\n",
        "    return tuple(centermost_point)\n",
        "\n",
        "centermost_points = clusters.map(get_centermost_point)\n",
        "\n",
        "\n",
        "lats, lons = zip(*centermost_points)\n",
        "rep_points = pd.DataFrame({'lon':lons, 'lat':lats})\n",
        "\n",
        "rs = rep_points.apply(lambda row: df[(df['latitude']==row['lat'])&(df['longitude']==row['lon'])].iloc[0], axis=1)\n",
        "\n",
        "fig, ax = plt.subplots(figsize=[10, 6])\n",
        "rs_scatter = ax.scatter(rs['longitude'], rs['latitude'], c='#99cc99', edgecolor='None', alpha=0.7, s=120)\n",
        "df_scatter = ax.scatter(enduring_oil['longitude'], enduring_oil['latitude'], c='k', alpha=0.9, s=3)\n",
        "ax.set_title('Enduring Oil: Full data set vs DBSCAN reduced set')\n",
        "ax.set_xlabel('Longitude')\n",
        "ax.set_ylabel('Latitude')\n",
        "ax.legend([df_scatter, rs_scatter], ['Oil Full set', 'Oil Reduced set'], loc='best')\n",
        "plt.show()"
      ],
      "execution_count": 0,
      "outputs": []
    },
    {
      "cell_type": "code",
      "metadata": {
        "id": "c6AqLU3Hc3oP",
        "colab_type": "code",
        "colab": {}
      },
      "source": [
        "#Associate wells with cluster\n",
        "enduring_oil['Cluster'] = np.nan\n",
        "\n",
        "for i in range(len(clusters)):\n",
        "  #Get ith cluster\n",
        "  cluster = clusters[i]\n",
        "\n",
        "  #Iterate through each coord pair in cluster\n",
        "  for j in cluster:\n",
        "   enduring_oil.loc[(enduring_oil['latitude'] == j[0]) & (enduring_oil['longitude'] == j[1]), ['Cluster']] = int(i)\n",
        "\n",
        "##Same as above but with center points##\n",
        "\n",
        "rs['Cluster'] = np.nan\n",
        "\n",
        "for i in range(len(clusters)):\n",
        "  #Get ith cluster\n",
        "  cluster = clusters[i]\n",
        "\n",
        "  #Iterate through each coord pair in cluster\n",
        "  for j in cluster:\n",
        "   rs.loc[(rs['latitude'] == j[0]) & (rs['longitude'] == j[1]), ['Cluster']] = int(i)"
      ],
      "execution_count": 0,
      "outputs": []
    },
    {
      "cell_type": "code",
      "metadata": {
        "id": "IL5tLJKld6om",
        "colab_type": "code",
        "colab": {}
      },
      "source": [
        "facilities = pd.read_csv('/content/AQBP-LatLong-20-01-06.csv')\n",
        "\n",
        "#Only oil and gas facilities in San Juan county\n",
        "og_facilities = facilities[(facilities['Industry'].str.contains('O&G')) & (facilities['County'] == 'San Juan')]\n",
        "\n",
        "#Filter out outliers by max lat and lon of well locations\n",
        "\n",
        "#Bottom right: Must be less than or equal to this\n",
        "max_lon = enduring_oil['longitude'].max() + 0.1\n",
        "\n",
        "#Bottom left: Must be greater than or equal to this \n",
        "min_lon = enduring_oil['longitude'].min() - 0.1\n",
        "\n",
        "#Top right: Must be less than or equal to this\n",
        "max_lat = enduring_oil['latitude'].max() +0.1\n",
        "\n",
        "#Top: Must be greater than or equal to this\n",
        "min_lat = enduring_oil['latitude'].min() - 0.1\n",
        "\n",
        "#Facilities inside the box (need to tweak boundaries)\n",
        "og_facilities = og_facilities[(og_facilities['Latitude'].between(min_lat,max_lat, inclusive = True)) & (og_facilities['Longitude'].between(min_lon,max_lon, inclusive = True))]"
      ],
      "execution_count": 0,
      "outputs": []
    },
    {
      "cell_type": "code",
      "metadata": {
        "id": "WeMXwJp3ePbb",
        "colab_type": "code",
        "colab": {}
      },
      "source": [
        "fig, ax = plt.subplots(figsize=[10, 6])\n",
        "rs_scatter = ax.scatter(rs['longitude'], rs['latitude'], c='#99cc99', edgecolor='None', alpha=0.7, s=120)\n",
        "fac_scatter = ax.scatter(og_facilities['Longitude'], og_facilities['Latitude'], c='black', edgecolor='None', alpha=0.7, s=25)\n",
        "\n",
        "ax.set_title('Enduring Oil Well Clusters vs Facility Location')\n",
        "ax.set_xlabel('Longitude')\n",
        "ax.set_ylabel('Latitude')\n",
        "\n",
        "ax.legend([rs_scatter, fac_scatter], ['Oil Well Clusters', 'Facilities'], loc='upper right')"
      ],
      "execution_count": 0,
      "outputs": []
    },
    {
      "cell_type": "code",
      "metadata": {
        "id": "XhYMKms4eVCy",
        "colab_type": "code",
        "colab": {}
      },
      "source": [
        "og_facilities['Cluster'] = np.nan\n",
        "\n",
        "#Iterate through center points\n",
        "for i in rs['API'].unique():\n",
        "  well_lat = rs[rs['API'] == i]['latitude'].values[0]\n",
        "  well_lon = rs[rs['API'] == i]['longitude'].values[0]\n",
        "  well_point = (well_lat, well_lon)\n",
        "\n",
        "  #Get cluster values\n",
        "  cluster_num = rs[rs['API'] == i]['Cluster'].values[0]\n",
        "\n",
        "  #Iterate through facilities\n",
        "  for j in og_facilities['AI'].unique():\n",
        "    fac_lat = og_facilities[og_facilities['AI'] == j]['Latitude'].values[0]\n",
        "    fac_lon = og_facilities[og_facilities['AI'] == j]['Longitude'].values[0]\n",
        "    fac_point = (fac_lat, fac_lon)\n",
        "\n",
        "    distance = haversine(well_point, fac_point)\n",
        "\n",
        "    if distance < 200:\n",
        "      print(i, j, cluster_num)\n",
        "      #Label it with cluster number of rs center point\n",
        "      og_facilities.loc[og_facilities['AI'] == j, ['Cluster']] = cluster_num\n",
        "      \n",
        "    #Too far away to be associated\n",
        "    else:\n",
        "      continue"
      ],
      "execution_count": 0,
      "outputs": []
    },
    {
      "cell_type": "code",
      "metadata": {
        "id": "PgOgfy9Pec-q",
        "colab_type": "code",
        "colab": {}
      },
      "source": [
        "df_well_fac = enduring_oil.merge(og_facilities, on = 'Cluster', how = 'inner', suffixes = ('_well', '_fac'))\n",
        "\n",
        "df_well_fac_filter = df_well_fac[['Initial APD', 'Spud Date', 'API', 'name', 'ogrid_name', 'latitude', \n",
        "                                  'longitude', 'AI', 'Facility Name', 'Cluster', 'Latitude', 'Longitude',\n",
        "                                  'NO_TPY','CO_TPY','VOC_TPY','PM10_TPY','SO2_TPY']]\n",
        "\n",
        "#Rename columns\n",
        "df_well_fac_filter = df_well_fac_filter.rename(columns = {'latitude':'Well Latitude',\n",
        "                                    'longitude':'Well Longitude',\n",
        "                                    'Latitude':'Facility Latitude',\n",
        "                                    'Longitude':'Facility Longitude',\n",
        "                                    'name':'Well Name',\n",
        "                                    'API':'Well API',\n",
        "                                    'AI':'Facility AI'})\n",
        "\n",
        "#Save as csv\n",
        "df_well_fac_filter.to_csv('enduring_oil_well_facility_match.csv')"
      ],
      "execution_count": 0,
      "outputs": []
    },
    {
      "cell_type": "code",
      "metadata": {
        "id": "ggpEf5U4EmIz",
        "colab_type": "code",
        "colab": {}
      },
      "source": [
        "fig, ax = plt.subplots(figsize=[10, 6])\n",
        "rs_scatter = ax.scatter(rs['longitude'], rs['latitude'], c='#99cc99', edgecolor='None', alpha=0.7, s=120)\n",
        "fac_scatter = sns.scatterplot(x= 'Longitude', y = 'Latitude', data = og_facilities, hue = 'Cluster')\n",
        "\n",
        "ax.set_title('Enduring Oil Well Clusters vs Facility Location')\n",
        "ax.set_xlabel('Longitude')\n",
        "ax.set_ylabel('Latitude')\n",
        "\n",
        "ax.legend([rs_scatter, fac_scatter], ['Oil Well Clusters', 'Facilities'], loc='upper right')"
      ],
      "execution_count": 0,
      "outputs": []
    },
    {
      "cell_type": "markdown",
      "metadata": {
        "id": "zV4aF5k8grfz",
        "colab_type": "text"
      },
      "source": [
        "## Hilcorp Gas"
      ]
    },
    {
      "cell_type": "code",
      "metadata": {
        "id": "7S3hGB3MglDE",
        "colab_type": "code",
        "colab": {}
      },
      "source": [
        "df = hilcorp_gas\n",
        "\n",
        "fig, ax = plt.subplots(figsize=[10, 6])\n",
        "df_scatter = ax.scatter(df['longitude'], df['latitude'], c='k', alpha=0.9, s=3)\n",
        "ax.set_title('Hilcorp Active Gas Wells')\n",
        "ax.set_xlabel('Longitude')\n",
        "ax.set_ylabel('Latitude')\n",
        "ax.legend([df_scatter,], ['Hilcorp Well'], loc='upper right')\n",
        "plt.show()"
      ],
      "execution_count": 0,
      "outputs": []
    },
    {
      "cell_type": "code",
      "metadata": {
        "id": "ILLafRVkhi_r",
        "colab_type": "code",
        "colab": {}
      },
      "source": [
        "facilities = pd.read_csv('/content/AQBP-LatLong-20-01-06.csv')\n",
        "\n",
        "#Only oil and gas facilities in San Juan county\n",
        "og_facilities = facilities[(facilities['Industry'].str.contains('O&G')) & (facilities['County'] == 'San Juan')]\n",
        "\n",
        "#Filter out outliers by max lat and lon of well locations\n",
        "\n",
        "#Bottom right: Must be less than or equal to this\n",
        "max_lon = df['longitude'].max() + 0.1\n",
        "\n",
        "#Bottom left: Must be greater than or equal to this \n",
        "min_lon = df['longitude'].min() - 0.1\n",
        "\n",
        "#Top right: Must be less than or equal to this\n",
        "max_lat = df['latitude'].max() +0.1\n",
        "\n",
        "#Top: Must be greater than or equal to this\n",
        "min_lat = df['latitude'].min() - 0.1\n",
        "\n",
        "#Facilities inside the box (need to tweak boundaries)\n",
        "og_facilities = og_facilities[(og_facilities['Latitude'].between(min_lat,max_lat, inclusive = True)) & (og_facilities['Longitude'].between(min_lon,max_lon, inclusive = True))]\n",
        "\n",
        "#Only Hilcorp facilities\n",
        "og_facilities = og_facilities[og_facilities['Facility Name'].str.contains('Hilcorp', na = False)]"
      ],
      "execution_count": 0,
      "outputs": []
    },
    {
      "cell_type": "code",
      "metadata": {
        "id": "ImHU8eGOozmm",
        "colab_type": "code",
        "colab": {}
      },
      "source": [
        "fig, ax = plt.subplots(figsize=[10, 6])\n",
        "rs_scatter = ax.scatter(df['longitude'], df['latitude'], c='#99cc99', edgecolor='None', alpha=0.7, s=120)\n",
        "fac_scatter = ax.scatter(og_facilities['Longitude'], og_facilities['Latitude'], c='black', edgecolor='None', alpha=0.7, s=25)\n",
        "\n",
        "ax.set_title('Enduring Well Clusters vs Facility Location')\n",
        "ax.set_xlabel('Longitude')\n",
        "ax.set_ylabel('Latitude')\n",
        "\n",
        "ax.legend([rs_scatter, fac_scatter], ['Well Clusters', 'Facilities'], loc='upper right')"
      ],
      "execution_count": 0,
      "outputs": []
    },
    {
      "cell_type": "code",
      "metadata": {
        "id": "fhtJqdCgrkzE",
        "colab_type": "code",
        "colab": {}
      },
      "source": [
        "og_facilities['Cluster'] = np.nan\n",
        "well_facs = {}\n",
        "#Iterate through center points\n",
        "for i in df['API'].unique():\n",
        "  well_lat = df[df['API'] == i]['latitude'].values[0]\n",
        "  well_lon = df[df['API'] == i]['longitude'].values[0]\n",
        "  well_point = (well_lat, well_lon)\n",
        "\n",
        "  #Iterate through facilities\n",
        "  fac_list = []\n",
        "  for j in og_facilities['AI'].unique():\n",
        "    fac_lat = og_facilities[og_facilities['AI'] == j]['Latitude'].values[0]\n",
        "    fac_lon = og_facilities[og_facilities['AI'] == j]['Longitude'].values[0]\n",
        "    fac_point = (fac_lat, fac_lon)\n",
        "\n",
        "    distance = haversine(well_point, fac_point)\n",
        "\n",
        "    if distance < 200:\n",
        "      print(i, j)\n",
        "      fac_list.append(j)\n",
        "      #Label it with cluster number of rs center point\n",
        "      og_facilities.loc[og_facilities['AI'] == j, ['Cluster']] = cluster_num\n",
        "      \n",
        "    #Too far away to be associated\n",
        "    else:\n",
        "      continue\n",
        "\n",
        "    well_facs[i] = fac_list"
      ],
      "execution_count": 0,
      "outputs": []
    },
    {
      "cell_type": "code",
      "metadata": {
        "id": "i8uQqbArxLcR",
        "colab_type": "code",
        "colab": {}
      },
      "source": [
        "hilcorp_gas_facs = pd.DataFrame.from_dict(well_facs).T.reset_index().rename(columns = {'index':'API', 0:'AI'})"
      ],
      "execution_count": 0,
      "outputs": []
    },
    {
      "cell_type": "code",
      "metadata": {
        "id": "JbERcfRjxZp4",
        "colab_type": "code",
        "colab": {}
      },
      "source": [
        "hilcorp_gas_facs = og_facilities.merge(hilcorp_gas_facs, on = 'AI', how = 'inner')\n",
        "hilcorp_gas_facs = hilcorp_gas_facs.merge(hilcorp_gas, on = 'API', how = 'inner')\n",
        "\n",
        "\n",
        "hilcorp_gas_facs.head()"
      ],
      "execution_count": 0,
      "outputs": []
    },
    {
      "cell_type": "code",
      "metadata": {
        "id": "548H3Qk7JdO5",
        "colab_type": "code",
        "colab": {}
      },
      "source": [
        "df_well_fac_filter = hilcorp_gas_facs[['Initial APD', 'Spud Date', 'API', 'name', 'ogrid_name', 'latitude', \n",
        "                                  'longitude', 'AI', 'Facility Name', 'Cluster', 'Latitude', 'Longitude',\n",
        "                                  'NO_TPY','CO_TPY','VOC_TPY','PM10_TPY','SO2_TPY']]\n",
        "\n",
        "#Rename columns\n",
        "df_well_fac_filter = df_well_fac_filter.rename(columns = {'latitude':'Well Latitude',\n",
        "                                    'longitude':'Well Longitude',\n",
        "                                    'Latitude':'Facility Latitude',\n",
        "                                    'Longitude':'Facility Longitude',\n",
        "                                    'name':'Well Name',\n",
        "                                    'API':'Well API',\n",
        "                                    'AI':'Facility AI'})\n",
        "\n",
        "#Save as csv\n",
        "df_well_fac_filter.to_csv('hilcorp_gas_well_facility_match.csv')"
      ],
      "execution_count": 0,
      "outputs": []
    },
    {
      "cell_type": "code",
      "metadata": {
        "id": "MNdGI37hyOWf",
        "colab_type": "code",
        "colab": {}
      },
      "source": [
        "fig, ax = plt.subplots(figsize=[10, 6])\n",
        "rs_scatter = ax.scatter(hilcorp_gas_facs['longitude'], hilcorp_gas_facs['latitude'], c='#99cc99', edgecolor='None', alpha=0.7, s=120)\n",
        "fac_scatter = ax.scatter(hilcorp_gas_facs['Longitude'], hilcorp_gas_facs['Latitude'], c='black', edgecolor='None', alpha=0.7, s=25)\n",
        "\n",
        "ax.set_title('Hilcorp Gas Well Clusters vs Facility Location')\n",
        "ax.set_xlabel('Longitude')\n",
        "ax.set_ylabel('Latitude')\n",
        "\n",
        "ax.legend([rs_scatter, fac_scatter], ['Gas Wells', 'Facilities'], loc='upper right')"
      ],
      "execution_count": 0,
      "outputs": []
    },
    {
      "cell_type": "markdown",
      "metadata": {
        "id": "54KhRztPI7TN",
        "colab_type": "text"
      },
      "source": [
        "## Matching NOI info with facilities and wells"
      ]
    },
    {
      "cell_type": "code",
      "metadata": {
        "id": "JmJztaM3cma0",
        "colab_type": "code",
        "colab": {}
      },
      "source": [
        "import pandas as pd\n",
        "import numpy as np\n",
        "import matplotlib.pyplot as plt"
      ],
      "execution_count": 0,
      "outputs": []
    },
    {
      "cell_type": "markdown",
      "metadata": {
        "id": "OHEawkyWJDF4",
        "colab_type": "text"
      },
      "source": [
        "**Read in all the well cluster and facility matches that we just identified.**"
      ]
    },
    {
      "cell_type": "code",
      "metadata": {
        "id": "jRU3Snp-y9Hy",
        "colab_type": "code",
        "outputId": "3c5c2f9e-5624-458f-d027-09f42cbe852b",
        "colab": {
          "base_uri": "https://localhost:8080/",
          "height": 452
        }
      },
      "source": [
        "enduring_gas_facwell = pd.read_csv('/content/drive/My Drive/Practicum 2019 - WildEarth Guardians/Data/Not Geospatial/Updated Facility Well Match (yes spuds)/enduring_gas_well_facility_match.csv')\n",
        "enduring_oil_facwell = pd.read_csv('/content/drive/My Drive/Practicum 2019 - WildEarth Guardians/Data/Not Geospatial/Updated Facility Well Match (yes spuds)/enduring_oil_well_facility_match.csv')\n",
        "hilcorp_oil_facwell = pd.read_csv('/content/drive/My Drive/Practicum 2019 - WildEarth Guardians/Data/Not Geospatial/Updated Facility Well Match (yes spuds)/hilcorp_gas_well_facility_match.csv')\n",
        "\n",
        "#Concat them all together\n",
        "facility_well_match = pd.concat([enduring_gas_facwell, enduring_oil_facwell, hilcorp_oil_facwell])\n",
        "facility_well_match = facility_well_match.drop(columns = ['Unnamed: 0'])\n",
        "facility_well_match.head()\n",
        "\n",
        "#Clean\n",
        "#Column naming convention\n",
        "facility_well_match = facility_well_match.rename(columns = {'Initial APD':'initial_apd',\n",
        "                                                            'Spud Date':'spud_date',\n",
        "                                                            'Well API':'well_api',\n",
        "                                                            'Well Name':'well_name',\n",
        "                                                            'Well Latitude':'well_latitude',\n",
        "                                                            'Well Longitude':'well_longitude',\n",
        "                                                            'Facility AI':'facility_ai',\n",
        "                                                            'Facility Name':'facility_name',\n",
        "                                                            'Cluster':'cluster',\n",
        "                                                            'Facility Latitude':'facility_latitude',\n",
        "                                                            'Facility Longitude':'facility_longitude'})\n",
        "#Datetime implementation\n",
        "facility_well_match['initial_apd'] = pd.to_datetime(facility_well_match['initial_apd'])\n",
        "facility_well_match['spud_date'] = pd.to_datetime(facility_well_match['spud_date'])\n",
        "\n",
        "#Inspect\n",
        "facility_well_match.head()"
      ],
      "execution_count": 0,
      "outputs": [
        {
          "output_type": "execute_result",
          "data": {
            "text/html": [
              "<div>\n",
              "<style scoped>\n",
              "    .dataframe tbody tr th:only-of-type {\n",
              "        vertical-align: middle;\n",
              "    }\n",
              "\n",
              "    .dataframe tbody tr th {\n",
              "        vertical-align: top;\n",
              "    }\n",
              "\n",
              "    .dataframe thead th {\n",
              "        text-align: right;\n",
              "    }\n",
              "</style>\n",
              "<table border=\"1\" class=\"dataframe\">\n",
              "  <thead>\n",
              "    <tr style=\"text-align: right;\">\n",
              "      <th></th>\n",
              "      <th>initial_apd</th>\n",
              "      <th>spud_date</th>\n",
              "      <th>well_api</th>\n",
              "      <th>well_name</th>\n",
              "      <th>ogrid_name</th>\n",
              "      <th>well_latitude</th>\n",
              "      <th>well_longitude</th>\n",
              "      <th>facility_ai</th>\n",
              "      <th>facility_name</th>\n",
              "      <th>cluster</th>\n",
              "      <th>facility_latitude</th>\n",
              "      <th>facility_longitude</th>\n",
              "      <th>NO_TPY</th>\n",
              "      <th>CO_TPY</th>\n",
              "      <th>VOC_TPY</th>\n",
              "      <th>PM10_TPY</th>\n",
              "      <th>SO2_TPY</th>\n",
              "    </tr>\n",
              "  </thead>\n",
              "  <tbody>\n",
              "    <tr>\n",
              "      <th>0</th>\n",
              "      <td>2018-08-31</td>\n",
              "      <td>2018-09-06</td>\n",
              "      <td>30-045-35879</td>\n",
              "      <td>KIMBETO WASH UNIT #767H</td>\n",
              "      <td>ENDURING RESOURCES, LLC</td>\n",
              "      <td>36.220745</td>\n",
              "      <td>-107.806892</td>\n",
              "      <td>36843</td>\n",
              "      <td>Enduring Resources - Kimbeto Wash UT No768,769...</td>\n",
              "      <td>0.0</td>\n",
              "      <td>36.220703</td>\n",
              "      <td>-107.806936</td>\n",
              "      <td>10.6</td>\n",
              "      <td>18.9</td>\n",
              "      <td>94.3</td>\n",
              "      <td>2.1</td>\n",
              "      <td>NaN</td>\n",
              "    </tr>\n",
              "    <tr>\n",
              "      <th>1</th>\n",
              "      <td>2017-05-26</td>\n",
              "      <td>2017-05-31</td>\n",
              "      <td>30-045-35800</td>\n",
              "      <td>RODEO UNIT #501H</td>\n",
              "      <td>ENDURING RESOURCES, LLC</td>\n",
              "      <td>36.220442</td>\n",
              "      <td>-107.715623</td>\n",
              "      <td>36842</td>\n",
              "      <td>Enduring Resources - Rodeo UT No500,501</td>\n",
              "      <td>1.0</td>\n",
              "      <td>36.217803</td>\n",
              "      <td>-107.711514</td>\n",
              "      <td>24.3</td>\n",
              "      <td>24.8</td>\n",
              "      <td>83.8</td>\n",
              "      <td>3.2</td>\n",
              "      <td>NaN</td>\n",
              "    </tr>\n",
              "    <tr>\n",
              "      <th>2</th>\n",
              "      <td>2017-05-26</td>\n",
              "      <td>2017-05-31</td>\n",
              "      <td>30-045-35796</td>\n",
              "      <td>RODEO UNIT #500H</td>\n",
              "      <td>ENDURING RESOURCES, LLC</td>\n",
              "      <td>36.220413</td>\n",
              "      <td>-107.715566</td>\n",
              "      <td>36842</td>\n",
              "      <td>Enduring Resources - Rodeo UT No500,501</td>\n",
              "      <td>1.0</td>\n",
              "      <td>36.217803</td>\n",
              "      <td>-107.711514</td>\n",
              "      <td>24.3</td>\n",
              "      <td>24.8</td>\n",
              "      <td>83.8</td>\n",
              "      <td>3.2</td>\n",
              "      <td>NaN</td>\n",
              "    </tr>\n",
              "    <tr>\n",
              "      <th>3</th>\n",
              "      <td>2018-04-16</td>\n",
              "      <td>2018-09-24</td>\n",
              "      <td>30-045-35869</td>\n",
              "      <td>RODEO UNIT #508H</td>\n",
              "      <td>ENDURING RESOURCES, LLC</td>\n",
              "      <td>36.200969</td>\n",
              "      <td>-107.733028</td>\n",
              "      <td>38352</td>\n",
              "      <td>Enduring - Rodeo UT No508/509/510</td>\n",
              "      <td>2.0</td>\n",
              "      <td>36.200956</td>\n",
              "      <td>-107.732417</td>\n",
              "      <td>14.6</td>\n",
              "      <td>NaN</td>\n",
              "      <td>81.3</td>\n",
              "      <td>4.0</td>\n",
              "      <td>0.11</td>\n",
              "    </tr>\n",
              "    <tr>\n",
              "      <th>4</th>\n",
              "      <td>2018-04-17</td>\n",
              "      <td>2018-09-25</td>\n",
              "      <td>30-045-35871</td>\n",
              "      <td>RODEO UNIT #510H</td>\n",
              "      <td>ENDURING RESOURCES, LLC</td>\n",
              "      <td>36.200912</td>\n",
              "      <td>-107.732912</td>\n",
              "      <td>38352</td>\n",
              "      <td>Enduring - Rodeo UT No508/509/510</td>\n",
              "      <td>2.0</td>\n",
              "      <td>36.200956</td>\n",
              "      <td>-107.732417</td>\n",
              "      <td>14.6</td>\n",
              "      <td>NaN</td>\n",
              "      <td>81.3</td>\n",
              "      <td>4.0</td>\n",
              "      <td>0.11</td>\n",
              "    </tr>\n",
              "  </tbody>\n",
              "</table>\n",
              "</div>"
            ],
            "text/plain": [
              "  initial_apd  spud_date      well_api  ... VOC_TPY PM10_TPY  SO2_TPY\n",
              "0  2018-08-31 2018-09-06  30-045-35879  ...    94.3      2.1      NaN\n",
              "1  2017-05-26 2017-05-31  30-045-35800  ...    83.8      3.2      NaN\n",
              "2  2017-05-26 2017-05-31  30-045-35796  ...    83.8      3.2      NaN\n",
              "3  2018-04-16 2018-09-24  30-045-35869  ...    81.3      4.0     0.11\n",
              "4  2018-04-17 2018-09-25  30-045-35871  ...    81.3      4.0     0.11\n",
              "\n",
              "[5 rows x 17 columns]"
            ]
          },
          "metadata": {
            "tags": []
          },
          "execution_count": 136
        }
      ]
    },
    {
      "cell_type": "markdown",
      "metadata": {
        "id": "nADotvf-Mzhy",
        "colab_type": "text"
      },
      "source": [
        "**Load and clean NOI info.**"
      ]
    },
    {
      "cell_type": "code",
      "metadata": {
        "id": "V1DVRkZXM4gR",
        "colab_type": "code",
        "outputId": "6009b7b2-3544-448a-f694-dab7d2d60d6e",
        "colab": {
          "base_uri": "https://localhost:8080/",
          "height": 206
        }
      },
      "source": [
        "df_noi = pd.read_csv('/content/drive/My Drive/Practicum 2019 - WildEarth Guardians/Data/Not Geospatial/Facility Permits/noi_info_4172020.csv')\n",
        "\n",
        "#Clean dataset\n",
        "#Drop extra rows (we know all rows should have an ai number)\n",
        "df_noi = df_noi.dropna(subset = ['ai_number'])\n",
        "\n",
        "#Convert ai number to int\n",
        "df_noi['ai_number'] = pd.to_numeric(df_noi['ai_number'], downcast = 'integer')\n",
        "\n",
        "#Clean column names\n",
        "df_noi = df_noi.rename(columns = {'date_sent_to_nmed (mm/dd/yyyy)':'date_sent_to_nmed'})\n",
        "\n",
        "#Drop extra columns\n",
        "df_noi = df_noi.drop(columns = ['gdrive_link', 'comments'])\n",
        "\n",
        "#Convert dates to datetime\n",
        "df_noi['date_sent_to_nmed'] = pd.to_datetime(df_noi['date_sent_to_nmed'])\n",
        "df_noi['date_received'] = pd.to_datetime(df_noi['date_received'])\n",
        "df_noi['date_sent_to_company'] = pd.to_datetime(df_noi['date_sent_to_company'])\n",
        "\n",
        "#Inspect\n",
        "df_noi.head()"
      ],
      "execution_count": 0,
      "outputs": [
        {
          "output_type": "execute_result",
          "data": {
            "text/html": [
              "<div>\n",
              "<style scoped>\n",
              "    .dataframe tbody tr th:only-of-type {\n",
              "        vertical-align: middle;\n",
              "    }\n",
              "\n",
              "    .dataframe tbody tr th {\n",
              "        vertical-align: top;\n",
              "    }\n",
              "\n",
              "    .dataframe thead th {\n",
              "        text-align: right;\n",
              "    }\n",
              "</style>\n",
              "<table border=\"1\" class=\"dataframe\">\n",
              "  <thead>\n",
              "    <tr style=\"text-align: right;\">\n",
              "      <th></th>\n",
              "      <th>ai_number</th>\n",
              "      <th>facility_name</th>\n",
              "      <th>noi_number</th>\n",
              "      <th>date_sent_to_nmed</th>\n",
              "      <th>date_received</th>\n",
              "      <th>date_sent_to_company</th>\n",
              "    </tr>\n",
              "  </thead>\n",
              "  <tbody>\n",
              "    <tr>\n",
              "      <th>0</th>\n",
              "      <td>31357</td>\n",
              "      <td>Nell Hall 1E</td>\n",
              "      <td>4746</td>\n",
              "      <td>NaT</td>\n",
              "      <td>2012-04-24</td>\n",
              "      <td>2012-04-24</td>\n",
              "    </tr>\n",
              "    <tr>\n",
              "      <th>1</th>\n",
              "      <td>31358</td>\n",
              "      <td>Jackson Com 1N</td>\n",
              "      <td>4747</td>\n",
              "      <td>NaT</td>\n",
              "      <td>2012-04-24</td>\n",
              "      <td>2012-04-24</td>\n",
              "    </tr>\n",
              "    <tr>\n",
              "      <th>2</th>\n",
              "      <td>31360</td>\n",
              "      <td>Blanco Wash Federal 3M</td>\n",
              "      <td>4748</td>\n",
              "      <td>NaT</td>\n",
              "      <td>2012-04-24</td>\n",
              "      <td>2012-04-24</td>\n",
              "    </tr>\n",
              "    <tr>\n",
              "      <th>3</th>\n",
              "      <td>31361</td>\n",
              "      <td>Grenier B 3P</td>\n",
              "      <td>4749</td>\n",
              "      <td>NaT</td>\n",
              "      <td>2012-04-24</td>\n",
              "      <td>2012-04-24</td>\n",
              "    </tr>\n",
              "    <tr>\n",
              "      <th>4</th>\n",
              "      <td>31347</td>\n",
              "      <td>Huerfanito Unit 98N</td>\n",
              "      <td>4753</td>\n",
              "      <td>2012-04-16</td>\n",
              "      <td>2012-04-19</td>\n",
              "      <td>2012-05-07</td>\n",
              "    </tr>\n",
              "  </tbody>\n",
              "</table>\n",
              "</div>"
            ],
            "text/plain": [
              "   ai_number           facility_name  ... date_received date_sent_to_company\n",
              "0      31357            Nell Hall 1E  ...    2012-04-24           2012-04-24\n",
              "1      31358          Jackson Com 1N  ...    2012-04-24           2012-04-24\n",
              "2      31360  Blanco Wash Federal 3M  ...    2012-04-24           2012-04-24\n",
              "3      31361            Grenier B 3P  ...    2012-04-24           2012-04-24\n",
              "4      31347     Huerfanito Unit 98N  ...    2012-04-19           2012-05-07\n",
              "\n",
              "[5 rows x 6 columns]"
            ]
          },
          "metadata": {
            "tags": []
          },
          "execution_count": 137
        }
      ]
    },
    {
      "cell_type": "markdown",
      "metadata": {
        "id": "MywPgdn2PtQB",
        "colab_type": "text"
      },
      "source": [
        "**Join NOI and facility well match dfs.**"
      ]
    },
    {
      "cell_type": "code",
      "metadata": {
        "id": "KTt7iTj8Pxk4",
        "colab_type": "code",
        "outputId": "7cbcff03-c61d-4bec-c871-85e99c94239b",
        "colab": {
          "base_uri": "https://localhost:8080/",
          "height": 487
        }
      },
      "source": [
        "df = facility_well_match.merge(df_noi, how = 'outer', left_on = 'facility_ai', right_on = 'ai_number')\n",
        "df.head()"
      ],
      "execution_count": 0,
      "outputs": [
        {
          "output_type": "execute_result",
          "data": {
            "text/html": [
              "<div>\n",
              "<style scoped>\n",
              "    .dataframe tbody tr th:only-of-type {\n",
              "        vertical-align: middle;\n",
              "    }\n",
              "\n",
              "    .dataframe tbody tr th {\n",
              "        vertical-align: top;\n",
              "    }\n",
              "\n",
              "    .dataframe thead th {\n",
              "        text-align: right;\n",
              "    }\n",
              "</style>\n",
              "<table border=\"1\" class=\"dataframe\">\n",
              "  <thead>\n",
              "    <tr style=\"text-align: right;\">\n",
              "      <th></th>\n",
              "      <th>initial_apd</th>\n",
              "      <th>spud_date</th>\n",
              "      <th>well_api</th>\n",
              "      <th>well_name</th>\n",
              "      <th>ogrid_name</th>\n",
              "      <th>well_latitude</th>\n",
              "      <th>well_longitude</th>\n",
              "      <th>facility_ai</th>\n",
              "      <th>facility_name_x</th>\n",
              "      <th>cluster</th>\n",
              "      <th>facility_latitude</th>\n",
              "      <th>facility_longitude</th>\n",
              "      <th>NO_TPY</th>\n",
              "      <th>CO_TPY</th>\n",
              "      <th>VOC_TPY</th>\n",
              "      <th>PM10_TPY</th>\n",
              "      <th>SO2_TPY</th>\n",
              "      <th>ai_number</th>\n",
              "      <th>facility_name_y</th>\n",
              "      <th>noi_number</th>\n",
              "      <th>date_sent_to_nmed</th>\n",
              "      <th>date_received</th>\n",
              "      <th>date_sent_to_company</th>\n",
              "    </tr>\n",
              "  </thead>\n",
              "  <tbody>\n",
              "    <tr>\n",
              "      <th>0</th>\n",
              "      <td>2018-08-31</td>\n",
              "      <td>2018-09-06</td>\n",
              "      <td>30-045-35879</td>\n",
              "      <td>KIMBETO WASH UNIT #767H</td>\n",
              "      <td>ENDURING RESOURCES, LLC</td>\n",
              "      <td>36.220745</td>\n",
              "      <td>-107.806892</td>\n",
              "      <td>36843.0</td>\n",
              "      <td>Enduring Resources - Kimbeto Wash UT No768,769...</td>\n",
              "      <td>0.0</td>\n",
              "      <td>36.220703</td>\n",
              "      <td>-107.806936</td>\n",
              "      <td>10.6</td>\n",
              "      <td>18.9</td>\n",
              "      <td>94.3</td>\n",
              "      <td>2.1</td>\n",
              "      <td>NaN</td>\n",
              "      <td>NaN</td>\n",
              "      <td>NaN</td>\n",
              "      <td>NaN</td>\n",
              "      <td>NaT</td>\n",
              "      <td>NaT</td>\n",
              "      <td>NaT</td>\n",
              "    </tr>\n",
              "    <tr>\n",
              "      <th>1</th>\n",
              "      <td>2016-05-05</td>\n",
              "      <td>2018-09-07</td>\n",
              "      <td>30-045-35753</td>\n",
              "      <td>KIMBETO WASH UNIT #768H</td>\n",
              "      <td>ENDURING RESOURCES, LLC</td>\n",
              "      <td>36.220704</td>\n",
              "      <td>-107.806937</td>\n",
              "      <td>36843.0</td>\n",
              "      <td>Enduring Resources - Kimbeto Wash UT No768,769...</td>\n",
              "      <td>1.0</td>\n",
              "      <td>36.220703</td>\n",
              "      <td>-107.806936</td>\n",
              "      <td>10.6</td>\n",
              "      <td>18.9</td>\n",
              "      <td>94.3</td>\n",
              "      <td>2.1</td>\n",
              "      <td>NaN</td>\n",
              "      <td>NaN</td>\n",
              "      <td>NaN</td>\n",
              "      <td>NaN</td>\n",
              "      <td>NaT</td>\n",
              "      <td>NaT</td>\n",
              "      <td>NaT</td>\n",
              "    </tr>\n",
              "    <tr>\n",
              "      <th>2</th>\n",
              "      <td>2016-05-05</td>\n",
              "      <td>2016-05-19</td>\n",
              "      <td>30-045-35756</td>\n",
              "      <td>KIMBETO WASH UNIT #771H</td>\n",
              "      <td>ENDURING RESOURCES, LLC</td>\n",
              "      <td>36.220539</td>\n",
              "      <td>-107.807116</td>\n",
              "      <td>36843.0</td>\n",
              "      <td>Enduring Resources - Kimbeto Wash UT No768,769...</td>\n",
              "      <td>1.0</td>\n",
              "      <td>36.220703</td>\n",
              "      <td>-107.806936</td>\n",
              "      <td>10.6</td>\n",
              "      <td>18.9</td>\n",
              "      <td>94.3</td>\n",
              "      <td>2.1</td>\n",
              "      <td>NaN</td>\n",
              "      <td>NaN</td>\n",
              "      <td>NaN</td>\n",
              "      <td>NaN</td>\n",
              "      <td>NaT</td>\n",
              "      <td>NaT</td>\n",
              "      <td>NaT</td>\n",
              "    </tr>\n",
              "    <tr>\n",
              "      <th>3</th>\n",
              "      <td>2016-05-05</td>\n",
              "      <td>2018-09-06</td>\n",
              "      <td>30-045-35754</td>\n",
              "      <td>KIMBETO WASH UNIT #769H</td>\n",
              "      <td>ENDURING RESOURCES, LLC</td>\n",
              "      <td>36.220663</td>\n",
              "      <td>-107.806982</td>\n",
              "      <td>36843.0</td>\n",
              "      <td>Enduring Resources - Kimbeto Wash UT No768,769...</td>\n",
              "      <td>1.0</td>\n",
              "      <td>36.220703</td>\n",
              "      <td>-107.806936</td>\n",
              "      <td>10.6</td>\n",
              "      <td>18.9</td>\n",
              "      <td>94.3</td>\n",
              "      <td>2.1</td>\n",
              "      <td>NaN</td>\n",
              "      <td>NaN</td>\n",
              "      <td>NaN</td>\n",
              "      <td>NaN</td>\n",
              "      <td>NaT</td>\n",
              "      <td>NaT</td>\n",
              "      <td>NaT</td>\n",
              "    </tr>\n",
              "    <tr>\n",
              "      <th>4</th>\n",
              "      <td>2016-05-13</td>\n",
              "      <td>2018-09-05</td>\n",
              "      <td>30-045-35755</td>\n",
              "      <td>KIMBETO WASH UNIT #770H</td>\n",
              "      <td>ENDURING RESOURCES, LLC</td>\n",
              "      <td>36.220580</td>\n",
              "      <td>-107.807071</td>\n",
              "      <td>36843.0</td>\n",
              "      <td>Enduring Resources - Kimbeto Wash UT No768,769...</td>\n",
              "      <td>1.0</td>\n",
              "      <td>36.220703</td>\n",
              "      <td>-107.806936</td>\n",
              "      <td>10.6</td>\n",
              "      <td>18.9</td>\n",
              "      <td>94.3</td>\n",
              "      <td>2.1</td>\n",
              "      <td>NaN</td>\n",
              "      <td>NaN</td>\n",
              "      <td>NaN</td>\n",
              "      <td>NaN</td>\n",
              "      <td>NaT</td>\n",
              "      <td>NaT</td>\n",
              "      <td>NaT</td>\n",
              "    </tr>\n",
              "  </tbody>\n",
              "</table>\n",
              "</div>"
            ],
            "text/plain": [
              "  initial_apd  spud_date  ... date_received date_sent_to_company\n",
              "0  2018-08-31 2018-09-06  ...           NaT                  NaT\n",
              "1  2016-05-05 2018-09-07  ...           NaT                  NaT\n",
              "2  2016-05-05 2016-05-19  ...           NaT                  NaT\n",
              "3  2016-05-05 2018-09-06  ...           NaT                  NaT\n",
              "4  2016-05-13 2018-09-05  ...           NaT                  NaT\n",
              "\n",
              "[5 rows x 23 columns]"
            ]
          },
          "metadata": {
            "tags": []
          },
          "execution_count": 138
        }
      ]
    },
    {
      "cell_type": "markdown",
      "metadata": {
        "id": "IuyGI2zjQw1W",
        "colab_type": "text"
      },
      "source": [
        "**Function to detect potential violation. Potential violation would be starting the well before obtaining an NOI for the supporting facility.**"
      ]
    },
    {
      "cell_type": "code",
      "metadata": {
        "id": "aigXUB8aQztD",
        "colab_type": "code",
        "colab": {}
      },
      "source": [
        "def violation_detection(x):\n",
        "  if x['spud_date'] < x['date_sent_to_company']:\n",
        "    return 'Yes'\n",
        "\n",
        "  else:\n",
        "    return 'No'"
      ],
      "execution_count": 0,
      "outputs": []
    },
    {
      "cell_type": "markdown",
      "metadata": {
        "id": "yPiJQT_-htbe",
        "colab_type": "text"
      },
      "source": [
        "**Perform an inner join to match only the facilities that we have looked at the NOI for. Apply the violation detection function.**"
      ]
    },
    {
      "cell_type": "code",
      "metadata": {
        "id": "EEcbOhwChU6V",
        "colab_type": "code",
        "outputId": "cdfd875b-dd6d-44fc-bc97-ba0748f23496",
        "colab": {
          "base_uri": "https://localhost:8080/",
          "height": 206
        }
      },
      "source": [
        "#Remove duplicate rows\n",
        "well_fac = facility_well_match.drop_duplicates()\n",
        "\n",
        "#Perform inner join\n",
        "df_complete = df_noi.merge(well_fac, how = 'inner', left_on = 'ai_number', right_on = 'facility_ai')\n",
        "\n",
        "#Apply violation detection function\n",
        "df_complete['potential_violation']= df_complete.apply(violation_detection, axis = 1)\n",
        "\n",
        "#Keep a subset of columns\n",
        "df = df_complete[['well_name', 'ai_number', 'noi_number', 'well_api', 'initial_apd','spud_date', 'date_sent_to_nmed', 'date_received', 'date_sent_to_company', 'potential_violation']]\n",
        "\n",
        "#Inspect\n",
        "df.head()"
      ],
      "execution_count": 0,
      "outputs": [
        {
          "output_type": "execute_result",
          "data": {
            "text/html": [
              "<div>\n",
              "<style scoped>\n",
              "    .dataframe tbody tr th:only-of-type {\n",
              "        vertical-align: middle;\n",
              "    }\n",
              "\n",
              "    .dataframe tbody tr th {\n",
              "        vertical-align: top;\n",
              "    }\n",
              "\n",
              "    .dataframe thead th {\n",
              "        text-align: right;\n",
              "    }\n",
              "</style>\n",
              "<table border=\"1\" class=\"dataframe\">\n",
              "  <thead>\n",
              "    <tr style=\"text-align: right;\">\n",
              "      <th></th>\n",
              "      <th>well_name</th>\n",
              "      <th>ai_number</th>\n",
              "      <th>noi_number</th>\n",
              "      <th>well_api</th>\n",
              "      <th>initial_apd</th>\n",
              "      <th>spud_date</th>\n",
              "      <th>date_sent_to_nmed</th>\n",
              "      <th>date_received</th>\n",
              "      <th>date_sent_to_company</th>\n",
              "      <th>potential_violation</th>\n",
              "    </tr>\n",
              "  </thead>\n",
              "  <tbody>\n",
              "    <tr>\n",
              "      <th>0</th>\n",
              "      <td>JACKSON COM #001N</td>\n",
              "      <td>31358</td>\n",
              "      <td>4747</td>\n",
              "      <td>30-045-35415</td>\n",
              "      <td>2013-01-08</td>\n",
              "      <td>2014-12-11</td>\n",
              "      <td>NaT</td>\n",
              "      <td>2012-04-24</td>\n",
              "      <td>2012-04-24</td>\n",
              "      <td>No</td>\n",
              "    </tr>\n",
              "    <tr>\n",
              "      <th>1</th>\n",
              "      <td>BLANCO WASH FEDERAL #003M</td>\n",
              "      <td>31360</td>\n",
              "      <td>4748</td>\n",
              "      <td>30-045-35250</td>\n",
              "      <td>2011-04-20</td>\n",
              "      <td>2013-04-08</td>\n",
              "      <td>NaT</td>\n",
              "      <td>2012-04-24</td>\n",
              "      <td>2012-04-24</td>\n",
              "      <td>No</td>\n",
              "    </tr>\n",
              "    <tr>\n",
              "      <th>2</th>\n",
              "      <td>GRENIER B #003P</td>\n",
              "      <td>31361</td>\n",
              "      <td>4749</td>\n",
              "      <td>30-045-35263</td>\n",
              "      <td>2011-05-17</td>\n",
              "      <td>2014-12-03</td>\n",
              "      <td>NaT</td>\n",
              "      <td>2012-04-24</td>\n",
              "      <td>2012-04-24</td>\n",
              "      <td>No</td>\n",
              "    </tr>\n",
              "    <tr>\n",
              "      <th>3</th>\n",
              "      <td>HUERFANITO UNIT #098N</td>\n",
              "      <td>31347</td>\n",
              "      <td>4753</td>\n",
              "      <td>30-045-35262</td>\n",
              "      <td>2011-06-23</td>\n",
              "      <td>2011-11-21</td>\n",
              "      <td>2012-04-16</td>\n",
              "      <td>2012-04-19</td>\n",
              "      <td>2012-05-07</td>\n",
              "      <td>Yes</td>\n",
              "    </tr>\n",
              "    <tr>\n",
              "      <th>4</th>\n",
              "      <td>HUERFANITO UNIT #099E</td>\n",
              "      <td>31348</td>\n",
              "      <td>4754</td>\n",
              "      <td>30-045-35257</td>\n",
              "      <td>2011-04-29</td>\n",
              "      <td>2012-03-15</td>\n",
              "      <td>2012-04-18</td>\n",
              "      <td>2012-04-19</td>\n",
              "      <td>2012-05-07</td>\n",
              "      <td>Yes</td>\n",
              "    </tr>\n",
              "  </tbody>\n",
              "</table>\n",
              "</div>"
            ],
            "text/plain": [
              "                   well_name  ...  potential_violation\n",
              "0          JACKSON COM #001N  ...                   No\n",
              "1  BLANCO WASH FEDERAL #003M  ...                   No\n",
              "2            GRENIER B #003P  ...                   No\n",
              "3      HUERFANITO UNIT #098N  ...                  Yes\n",
              "4      HUERFANITO UNIT #099E  ...                  Yes\n",
              "\n",
              "[5 rows x 10 columns]"
            ]
          },
          "metadata": {
            "tags": []
          },
          "execution_count": 140
        }
      ]
    },
    {
      "cell_type": "markdown",
      "metadata": {
        "id": "2wrQFC2qiEDV",
        "colab_type": "text"
      },
      "source": [
        "**Many of the NOIs are actually revisions of an original NOI. All revisions appear to be marked with an \"R\" in the NOI number. We are interested in the original NOI which is presumed to be for the initial construction of a facility.**"
      ]
    },
    {
      "cell_type": "code",
      "metadata": {
        "id": "RFpQ60MLfiEk",
        "colab_type": "code",
        "outputId": "49f06535-0e6f-45e2-cfc0-faa59df135a6",
        "colab": {
          "base_uri": "https://localhost:8080/",
          "height": 1000
        }
      },
      "source": [
        "#Remove rows that have a revised noi\n",
        "df_original_noi = df_complete[~df_complete['noi_number'].str.contains('R')]\n",
        "df_original_noi_all_columns = df_complete[~df_complete['noi_number'].str.contains('R')]\n",
        "\n",
        "##Save a cleaned copy as a csv\n",
        "#Drop duplicate columns\n",
        "df_original_noi_csv = df_original_noi_all_columns.drop(columns = ['ai_number', 'facility_name_x'])\n",
        "df_original_noi_csv = df_original_noi_csv.rename(columns = {'facility_name_y':'facility_name'})\n",
        "\n",
        "#Save as csv\n",
        "df_original_noi_csv.to_csv('well_facility_violations.csv')\n",
        "\n",
        "#Filter to only rows that have a potential violation\n",
        "df_original_noi[df_original_noi['potential_violation'] == 'Yes']"
      ],
      "execution_count": 0,
      "outputs": [
        {
          "output_type": "execute_result",
          "data": {
            "text/html": [
              "<div>\n",
              "<style scoped>\n",
              "    .dataframe tbody tr th:only-of-type {\n",
              "        vertical-align: middle;\n",
              "    }\n",
              "\n",
              "    .dataframe tbody tr th {\n",
              "        vertical-align: top;\n",
              "    }\n",
              "\n",
              "    .dataframe thead th {\n",
              "        text-align: right;\n",
              "    }\n",
              "</style>\n",
              "<table border=\"1\" class=\"dataframe\">\n",
              "  <thead>\n",
              "    <tr style=\"text-align: right;\">\n",
              "      <th></th>\n",
              "      <th>ai_number</th>\n",
              "      <th>facility_name_x</th>\n",
              "      <th>noi_number</th>\n",
              "      <th>date_sent_to_nmed</th>\n",
              "      <th>date_received</th>\n",
              "      <th>date_sent_to_company</th>\n",
              "      <th>initial_apd</th>\n",
              "      <th>spud_date</th>\n",
              "      <th>well_api</th>\n",
              "      <th>well_name</th>\n",
              "      <th>ogrid_name</th>\n",
              "      <th>well_latitude</th>\n",
              "      <th>well_longitude</th>\n",
              "      <th>facility_ai</th>\n",
              "      <th>facility_name_y</th>\n",
              "      <th>cluster</th>\n",
              "      <th>facility_latitude</th>\n",
              "      <th>facility_longitude</th>\n",
              "      <th>NO_TPY</th>\n",
              "      <th>CO_TPY</th>\n",
              "      <th>VOC_TPY</th>\n",
              "      <th>PM10_TPY</th>\n",
              "      <th>SO2_TPY</th>\n",
              "      <th>potential_violation</th>\n",
              "    </tr>\n",
              "  </thead>\n",
              "  <tbody>\n",
              "    <tr>\n",
              "      <th>3</th>\n",
              "      <td>31347</td>\n",
              "      <td>Huerfanito Unit 98N</td>\n",
              "      <td>4753</td>\n",
              "      <td>2012-04-16</td>\n",
              "      <td>2012-04-19</td>\n",
              "      <td>2012-05-07</td>\n",
              "      <td>2011-06-23</td>\n",
              "      <td>2011-11-21</td>\n",
              "      <td>30-045-35262</td>\n",
              "      <td>HUERFANITO UNIT #098N</td>\n",
              "      <td>HILCORP ENERGY COMPANY</td>\n",
              "      <td>36.528862</td>\n",
              "      <td>-107.750565</td>\n",
              "      <td>31347</td>\n",
              "      <td>Hilcorp - Huerfanito Unit 98N</td>\n",
              "      <td>26.0</td>\n",
              "      <td>36.528889</td>\n",
              "      <td>-107.749886</td>\n",
              "      <td>NaN</td>\n",
              "      <td>NaN</td>\n",
              "      <td>NaN</td>\n",
              "      <td>NaN</td>\n",
              "      <td>NaN</td>\n",
              "      <td>Yes</td>\n",
              "    </tr>\n",
              "    <tr>\n",
              "      <th>4</th>\n",
              "      <td>31348</td>\n",
              "      <td>Huerfanito Unit 99E</td>\n",
              "      <td>4754</td>\n",
              "      <td>2012-04-18</td>\n",
              "      <td>2012-04-19</td>\n",
              "      <td>2012-05-07</td>\n",
              "      <td>2011-04-29</td>\n",
              "      <td>2012-03-15</td>\n",
              "      <td>30-045-35257</td>\n",
              "      <td>HUERFANITO UNIT #099E</td>\n",
              "      <td>HILCORP ENERGY COMPANY</td>\n",
              "      <td>36.534225</td>\n",
              "      <td>-107.762260</td>\n",
              "      <td>31348</td>\n",
              "      <td>Hilcorp - Huerfanito Unit 99E</td>\n",
              "      <td>26.0</td>\n",
              "      <td>36.534167</td>\n",
              "      <td>-107.761667</td>\n",
              "      <td>NaN</td>\n",
              "      <td>NaN</td>\n",
              "      <td>NaN</td>\n",
              "      <td>NaN</td>\n",
              "      <td>NaN</td>\n",
              "      <td>Yes</td>\n",
              "    </tr>\n",
              "    <tr>\n",
              "      <th>5</th>\n",
              "      <td>31349</td>\n",
              "      <td>Sadie West 2M</td>\n",
              "      <td>4755</td>\n",
              "      <td>2012-04-13</td>\n",
              "      <td>2012-04-19</td>\n",
              "      <td>2012-05-07</td>\n",
              "      <td>2011-09-20</td>\n",
              "      <td>2012-02-23</td>\n",
              "      <td>30-045-35305</td>\n",
              "      <td>SADIE WEST #002M</td>\n",
              "      <td>HILCORP ENERGY COMPANY</td>\n",
              "      <td>36.880913</td>\n",
              "      <td>-108.105629</td>\n",
              "      <td>31349</td>\n",
              "      <td>Hilcorp - Sadie West 2M</td>\n",
              "      <td>26.0</td>\n",
              "      <td>36.880833</td>\n",
              "      <td>-108.105000</td>\n",
              "      <td>NaN</td>\n",
              "      <td>NaN</td>\n",
              "      <td>NaN</td>\n",
              "      <td>NaN</td>\n",
              "      <td>NaN</td>\n",
              "      <td>Yes</td>\n",
              "    </tr>\n",
              "    <tr>\n",
              "      <th>8</th>\n",
              "      <td>31155</td>\n",
              "      <td>Sandia Federal 1F</td>\n",
              "      <td>4695</td>\n",
              "      <td>2012-02-03</td>\n",
              "      <td>2012-02-09</td>\n",
              "      <td>2012-03-06</td>\n",
              "      <td>2009-09-18</td>\n",
              "      <td>2011-12-28</td>\n",
              "      <td>30-045-35016</td>\n",
              "      <td>SANDIA FEDERAL #001F</td>\n",
              "      <td>HILCORP ENERGY COMPANY</td>\n",
              "      <td>36.784687</td>\n",
              "      <td>-108.011795</td>\n",
              "      <td>31155</td>\n",
              "      <td>Hilcorp - Sandia Federal 1F</td>\n",
              "      <td>26.0</td>\n",
              "      <td>36.784444</td>\n",
              "      <td>-108.011111</td>\n",
              "      <td>NaN</td>\n",
              "      <td>NaN</td>\n",
              "      <td>NaN</td>\n",
              "      <td>NaN</td>\n",
              "      <td>NaN</td>\n",
              "      <td>Yes</td>\n",
              "    </tr>\n",
              "    <tr>\n",
              "      <th>9</th>\n",
              "      <td>31156</td>\n",
              "      <td>Federal C 1M</td>\n",
              "      <td>4696</td>\n",
              "      <td>2012-02-03</td>\n",
              "      <td>2012-02-09</td>\n",
              "      <td>2012-03-01</td>\n",
              "      <td>2008-11-07</td>\n",
              "      <td>2011-12-15</td>\n",
              "      <td>30-045-34825</td>\n",
              "      <td>FEDERAL C #001M</td>\n",
              "      <td>HILCORP ENERGY COMPANY</td>\n",
              "      <td>36.778698</td>\n",
              "      <td>-108.001839</td>\n",
              "      <td>31156</td>\n",
              "      <td>Hilcorp - Federal C 1M</td>\n",
              "      <td>26.0</td>\n",
              "      <td>36.778611</td>\n",
              "      <td>-108.001111</td>\n",
              "      <td>NaN</td>\n",
              "      <td>NaN</td>\n",
              "      <td>NaN</td>\n",
              "      <td>NaN</td>\n",
              "      <td>NaN</td>\n",
              "      <td>Yes</td>\n",
              "    </tr>\n",
              "    <tr>\n",
              "      <th>43</th>\n",
              "      <td>33013</td>\n",
              "      <td>WPX Energy - Chaco 2408-36P No 143H</td>\n",
              "      <td>5304</td>\n",
              "      <td>2013-09-27</td>\n",
              "      <td>2013-10-01</td>\n",
              "      <td>2013-10-29</td>\n",
              "      <td>2013-06-06</td>\n",
              "      <td>2013-09-21</td>\n",
              "      <td>30-045-35474</td>\n",
              "      <td>NW LYBROOK UNIT #143H</td>\n",
              "      <td>ENDURING RESOURCES, LLC</td>\n",
              "      <td>36.265697</td>\n",
              "      <td>-107.625038</td>\n",
              "      <td>33013</td>\n",
              "      <td>Enduring Resources -  NW Lybrook UT No143,132</td>\n",
              "      <td>24.0</td>\n",
              "      <td>36.265681</td>\n",
              "      <td>-107.625069</td>\n",
              "      <td>12.00</td>\n",
              "      <td>22.30</td>\n",
              "      <td>62.80</td>\n",
              "      <td>NaN</td>\n",
              "      <td>NaN</td>\n",
              "      <td>Yes</td>\n",
              "    </tr>\n",
              "    <tr>\n",
              "      <th>67</th>\n",
              "      <td>32517</td>\n",
              "      <td>Chaco 2408-32P No. 114H</td>\n",
              "      <td>5122</td>\n",
              "      <td>2013-05-01</td>\n",
              "      <td>2013-05-07</td>\n",
              "      <td>2013-06-05</td>\n",
              "      <td>2012-12-13</td>\n",
              "      <td>2013-01-04</td>\n",
              "      <td>30-045-35441</td>\n",
              "      <td>CHACO 2408 32P #114H</td>\n",
              "      <td>ENDURING RESOURCES, LLC</td>\n",
              "      <td>36.266895</td>\n",
              "      <td>-107.697495</td>\n",
              "      <td>32517</td>\n",
              "      <td>Enduring Resources Inc - Chaco 2408-32P No114H</td>\n",
              "      <td>20.0</td>\n",
              "      <td>36.266900</td>\n",
              "      <td>-107.697510</td>\n",
              "      <td>14.10</td>\n",
              "      <td>24.30</td>\n",
              "      <td>93.20</td>\n",
              "      <td>1.7</td>\n",
              "      <td>NaN</td>\n",
              "      <td>Yes</td>\n",
              "    </tr>\n",
              "    <tr>\n",
              "      <th>99</th>\n",
              "      <td>32567</td>\n",
              "      <td>Chaco 2308-161 No. 147H</td>\n",
              "      <td>5141</td>\n",
              "      <td>2013-05-22</td>\n",
              "      <td>2013-05-24</td>\n",
              "      <td>2013-06-18</td>\n",
              "      <td>2012-12-13</td>\n",
              "      <td>2013-02-20</td>\n",
              "      <td>30-045-35439</td>\n",
              "      <td>CHACO 2308 16I #147H</td>\n",
              "      <td>ENDURING RESOURCES, LLC</td>\n",
              "      <td>36.223904</td>\n",
              "      <td>-107.679031</td>\n",
              "      <td>32567</td>\n",
              "      <td>Enduring Resources - Chaco 2308-161 No147H</td>\n",
              "      <td>11.0</td>\n",
              "      <td>36.223900</td>\n",
              "      <td>-107.679039</td>\n",
              "      <td>14.10</td>\n",
              "      <td>24.40</td>\n",
              "      <td>93.60</td>\n",
              "      <td>NaN</td>\n",
              "      <td>NaN</td>\n",
              "      <td>Yes</td>\n",
              "    </tr>\n",
              "    <tr>\n",
              "      <th>104</th>\n",
              "      <td>35268</td>\n",
              "      <td>WPX - Warner Caldwell No. 3B</td>\n",
              "      <td>6157</td>\n",
              "      <td>2014-12-11</td>\n",
              "      <td>2014-12-22</td>\n",
              "      <td>2014-12-31</td>\n",
              "      <td>2014-02-25</td>\n",
              "      <td>2014-03-10</td>\n",
              "      <td>30-045-35506</td>\n",
              "      <td>WARNER CALDWELL #003B</td>\n",
              "      <td>ENDURING RESOURCES, LLC</td>\n",
              "      <td>36.247940</td>\n",
              "      <td>-107.702393</td>\n",
              "      <td>35268</td>\n",
              "      <td>Enduring - Warner Caldwell No 3B</td>\n",
              "      <td>13.0</td>\n",
              "      <td>36.247928</td>\n",
              "      <td>-107.702400</td>\n",
              "      <td>20.50</td>\n",
              "      <td>24.40</td>\n",
              "      <td>8.10</td>\n",
              "      <td>NaN</td>\n",
              "      <td>NaN</td>\n",
              "      <td>Yes</td>\n",
              "    </tr>\n",
              "    <tr>\n",
              "      <th>107</th>\n",
              "      <td>31480</td>\n",
              "      <td>Hodges 12E</td>\n",
              "      <td>4779</td>\n",
              "      <td>2012-05-18</td>\n",
              "      <td>2012-04-19</td>\n",
              "      <td>2012-06-04</td>\n",
              "      <td>2011-03-16</td>\n",
              "      <td>2012-04-30</td>\n",
              "      <td>30-045-35229</td>\n",
              "      <td>HODGES #012E</td>\n",
              "      <td>HILCORP ENERGY COMPANY</td>\n",
              "      <td>36.437264</td>\n",
              "      <td>-107.677208</td>\n",
              "      <td>31480</td>\n",
              "      <td>Hilcorp - Hodges 12E</td>\n",
              "      <td>26.0</td>\n",
              "      <td>36.437222</td>\n",
              "      <td>-107.676389</td>\n",
              "      <td>NaN</td>\n",
              "      <td>NaN</td>\n",
              "      <td>NaN</td>\n",
              "      <td>NaN</td>\n",
              "      <td>NaN</td>\n",
              "      <td>Yes</td>\n",
              "    </tr>\n",
              "    <tr>\n",
              "      <th>108</th>\n",
              "      <td>31481</td>\n",
              "      <td>Hodges 13F</td>\n",
              "      <td>4780</td>\n",
              "      <td>2012-05-18</td>\n",
              "      <td>2012-04-19</td>\n",
              "      <td>2012-06-04</td>\n",
              "      <td>2010-08-27</td>\n",
              "      <td>2012-04-27</td>\n",
              "      <td>30-045-35185</td>\n",
              "      <td>HODGES #013F</td>\n",
              "      <td>HILCORP ENERGY COMPANY</td>\n",
              "      <td>36.441471</td>\n",
              "      <td>-107.662247</td>\n",
              "      <td>31481</td>\n",
              "      <td>Hilcorp - Hodges 13F</td>\n",
              "      <td>26.0</td>\n",
              "      <td>36.441667</td>\n",
              "      <td>-107.661667</td>\n",
              "      <td>NaN</td>\n",
              "      <td>NaN</td>\n",
              "      <td>NaN</td>\n",
              "      <td>NaN</td>\n",
              "      <td>NaN</td>\n",
              "      <td>Yes</td>\n",
              "    </tr>\n",
              "    <tr>\n",
              "      <th>110</th>\n",
              "      <td>31482</td>\n",
              "      <td>Hodges 14E</td>\n",
              "      <td>4781</td>\n",
              "      <td>2012-05-18</td>\n",
              "      <td>2012-04-19</td>\n",
              "      <td>2012-06-04</td>\n",
              "      <td>2011-05-17</td>\n",
              "      <td>2012-04-16</td>\n",
              "      <td>30-045-35261</td>\n",
              "      <td>HODGES #014E</td>\n",
              "      <td>HILCORP ENERGY COMPANY</td>\n",
              "      <td>36.476421</td>\n",
              "      <td>-107.685127</td>\n",
              "      <td>31482</td>\n",
              "      <td>Hilcorp - Hodges 14E</td>\n",
              "      <td>26.0</td>\n",
              "      <td>36.476389</td>\n",
              "      <td>-107.684722</td>\n",
              "      <td>NaN</td>\n",
              "      <td>NaN</td>\n",
              "      <td>NaN</td>\n",
              "      <td>NaN</td>\n",
              "      <td>NaN</td>\n",
              "      <td>Yes</td>\n",
              "    </tr>\n",
              "    <tr>\n",
              "      <th>113</th>\n",
              "      <td>31881</td>\n",
              "      <td>San Juan 20 &amp; 20S Twinned Location</td>\n",
              "      <td>4897</td>\n",
              "      <td>2012-09-12</td>\n",
              "      <td>2012-09-21</td>\n",
              "      <td>2012-10-16</td>\n",
              "      <td>2009-06-10</td>\n",
              "      <td>2010-10-08</td>\n",
              "      <td>30-045-34982</td>\n",
              "      <td>SAN JUAN #020S</td>\n",
              "      <td>HILCORP ENERGY COMPANY</td>\n",
              "      <td>36.680538</td>\n",
              "      <td>-107.754387</td>\n",
              "      <td>31881</td>\n",
              "      <td>Hilcorp - San Juan 20 &amp; 20S Twinned Location</td>\n",
              "      <td>26.0</td>\n",
              "      <td>36.680556</td>\n",
              "      <td>-107.753889</td>\n",
              "      <td>9.73</td>\n",
              "      <td>4.44</td>\n",
              "      <td>5.93</td>\n",
              "      <td>NaN</td>\n",
              "      <td>NaN</td>\n",
              "      <td>Yes</td>\n",
              "    </tr>\n",
              "    <tr>\n",
              "      <th>116</th>\n",
              "      <td>35261</td>\n",
              "      <td>WPX - Logo No 6</td>\n",
              "      <td>6155</td>\n",
              "      <td>2014-12-11</td>\n",
              "      <td>2014-12-22</td>\n",
              "      <td>2015-01-02</td>\n",
              "      <td>2013-01-23</td>\n",
              "      <td>2013-02-06</td>\n",
              "      <td>30-045-35422</td>\n",
              "      <td>LOGOS #006</td>\n",
              "      <td>ENDURING RESOURCES, LLC</td>\n",
              "      <td>36.244430</td>\n",
              "      <td>-107.702400</td>\n",
              "      <td>35261</td>\n",
              "      <td>Enduring Resources - Logo No6</td>\n",
              "      <td>7.0</td>\n",
              "      <td>36.244439</td>\n",
              "      <td>-107.702450</td>\n",
              "      <td>20.40</td>\n",
              "      <td>24.70</td>\n",
              "      <td>7.40</td>\n",
              "      <td>NaN</td>\n",
              "      <td>NaN</td>\n",
              "      <td>Yes</td>\n",
              "    </tr>\n",
              "    <tr>\n",
              "      <th>127</th>\n",
              "      <td>36366</td>\n",
              "      <td>Horton 1A-1B-2 Wellsite</td>\n",
              "      <td>6651</td>\n",
              "      <td>2015-10-14</td>\n",
              "      <td>2015-10-19</td>\n",
              "      <td>2015-11-18</td>\n",
              "      <td>2011-04-20</td>\n",
              "      <td>2011-11-09</td>\n",
              "      <td>30-045-35252</td>\n",
              "      <td>HORTON #001B</td>\n",
              "      <td>HILCORP ENERGY COMPANY</td>\n",
              "      <td>36.938213</td>\n",
              "      <td>-107.953354</td>\n",
              "      <td>36366</td>\n",
              "      <td>Hilcorp - Horton 1A,1B2 Wellsite</td>\n",
              "      <td>26.0</td>\n",
              "      <td>36.938222</td>\n",
              "      <td>-107.953361</td>\n",
              "      <td>11.30</td>\n",
              "      <td>19.10</td>\n",
              "      <td>8.00</td>\n",
              "      <td>NaN</td>\n",
              "      <td>NaN</td>\n",
              "      <td>Yes</td>\n",
              "    </tr>\n",
              "    <tr>\n",
              "      <th>128</th>\n",
              "      <td>32672</td>\n",
              "      <td>XTO Energy - Ropco 16-01, 16-01H &amp; Salty Dog N...</td>\n",
              "      <td>5169</td>\n",
              "      <td>2014-05-28</td>\n",
              "      <td>2014-05-30</td>\n",
              "      <td>2014-06-11</td>\n",
              "      <td>2013-03-08</td>\n",
              "      <td>2013-05-18</td>\n",
              "      <td>30-045-35455</td>\n",
              "      <td>ROPCO 16 #001H</td>\n",
              "      <td>HILCORP ENERGY COMPANY</td>\n",
              "      <td>36.731296</td>\n",
              "      <td>-108.309441</td>\n",
              "      <td>32672</td>\n",
              "      <td>Hilcorp - Ropco 16-01, 16-01H &amp; Salty Dog No 5...</td>\n",
              "      <td>26.0</td>\n",
              "      <td>36.731111</td>\n",
              "      <td>-108.311111</td>\n",
              "      <td>6.35</td>\n",
              "      <td>11.04</td>\n",
              "      <td>11.41</td>\n",
              "      <td>NaN</td>\n",
              "      <td>NaN</td>\n",
              "      <td>Yes</td>\n",
              "    </tr>\n",
              "    <tr>\n",
              "      <th>129</th>\n",
              "      <td>32672</td>\n",
              "      <td>XTO Energy - Ropco 16-01, 16-01H &amp; Salty Dog N...</td>\n",
              "      <td>5169</td>\n",
              "      <td>2013-06-27</td>\n",
              "      <td>2013-06-28</td>\n",
              "      <td>2013-07-10</td>\n",
              "      <td>2013-03-08</td>\n",
              "      <td>2013-05-18</td>\n",
              "      <td>30-045-35455</td>\n",
              "      <td>ROPCO 16 #001H</td>\n",
              "      <td>HILCORP ENERGY COMPANY</td>\n",
              "      <td>36.731296</td>\n",
              "      <td>-108.309441</td>\n",
              "      <td>32672</td>\n",
              "      <td>Hilcorp - Ropco 16-01, 16-01H &amp; Salty Dog No 5...</td>\n",
              "      <td>26.0</td>\n",
              "      <td>36.731111</td>\n",
              "      <td>-108.311111</td>\n",
              "      <td>6.35</td>\n",
              "      <td>11.04</td>\n",
              "      <td>11.41</td>\n",
              "      <td>NaN</td>\n",
              "      <td>NaN</td>\n",
              "      <td>Yes</td>\n",
              "    </tr>\n",
              "    <tr>\n",
              "      <th>130</th>\n",
              "      <td>32887</td>\n",
              "      <td>ConocoPhillips - Day 2C</td>\n",
              "      <td>5245</td>\n",
              "      <td>2013-08-26</td>\n",
              "      <td>2013-08-27</td>\n",
              "      <td>2013-09-12</td>\n",
              "      <td>2011-01-20</td>\n",
              "      <td>2013-01-30</td>\n",
              "      <td>30-045-35221</td>\n",
              "      <td>DAY #002C</td>\n",
              "      <td>HILCORP ENERGY COMPANY</td>\n",
              "      <td>36.735809</td>\n",
              "      <td>-107.682900</td>\n",
              "      <td>32887</td>\n",
              "      <td>Hilcorp - Day 2C</td>\n",
              "      <td>26.0</td>\n",
              "      <td>36.735833</td>\n",
              "      <td>-107.682778</td>\n",
              "      <td>19.30</td>\n",
              "      <td>15.70</td>\n",
              "      <td>52.50</td>\n",
              "      <td>10.1</td>\n",
              "      <td>10.4</td>\n",
              "      <td>Yes</td>\n",
              "    </tr>\n",
              "    <tr>\n",
              "      <th>131</th>\n",
              "      <td>35601</td>\n",
              "      <td>ConocoPhillips - Newberry 8A &amp; 8B</td>\n",
              "      <td>6323</td>\n",
              "      <td>2015-03-26</td>\n",
              "      <td>2015-03-31</td>\n",
              "      <td>2015-04-24</td>\n",
              "      <td>2010-01-04</td>\n",
              "      <td>2011-02-24</td>\n",
              "      <td>30-045-35048</td>\n",
              "      <td>NEWBERRY #008B</td>\n",
              "      <td>HILCORP ENERGY COMPANY</td>\n",
              "      <td>36.908886</td>\n",
              "      <td>-108.097908</td>\n",
              "      <td>35601</td>\n",
              "      <td>Hilcorp - Newberry 8A and 8B</td>\n",
              "      <td>26.0</td>\n",
              "      <td>36.908889</td>\n",
              "      <td>-108.097778</td>\n",
              "      <td>18.30</td>\n",
              "      <td>18.60</td>\n",
              "      <td>10.30</td>\n",
              "      <td>NaN</td>\n",
              "      <td>NaN</td>\n",
              "      <td>Yes</td>\n",
              "    </tr>\n",
              "    <tr>\n",
              "      <th>132</th>\n",
              "      <td>32508</td>\n",
              "      <td>XTO - Energy Martin Gas Com 1</td>\n",
              "      <td>5121</td>\n",
              "      <td>2013-05-06</td>\n",
              "      <td>2013-05-07</td>\n",
              "      <td>2013-05-13</td>\n",
              "      <td>2013-04-10</td>\n",
              "      <td>2013-04-19</td>\n",
              "      <td>30-045-35452</td>\n",
              "      <td>MARTIN GAS COM F #001H</td>\n",
              "      <td>HILCORP ENERGY COMPANY</td>\n",
              "      <td>36.580791</td>\n",
              "      <td>-107.870605</td>\n",
              "      <td>32508</td>\n",
              "      <td>Hilcorp - Martin Gas Com 1 Production Location</td>\n",
              "      <td>26.0</td>\n",
              "      <td>36.580833</td>\n",
              "      <td>-107.870556</td>\n",
              "      <td>11.30</td>\n",
              "      <td>18.60</td>\n",
              "      <td>63.90</td>\n",
              "      <td>NaN</td>\n",
              "      <td>NaN</td>\n",
              "      <td>Yes</td>\n",
              "    </tr>\n",
              "    <tr>\n",
              "      <th>134</th>\n",
              "      <td>32433</td>\n",
              "      <td>XTO - Canyon 19H Production Location</td>\n",
              "      <td>5107</td>\n",
              "      <td>NaT</td>\n",
              "      <td>2013-04-10</td>\n",
              "      <td>2013-05-10</td>\n",
              "      <td>2012-08-17</td>\n",
              "      <td>2013-03-12</td>\n",
              "      <td>30-045-35387</td>\n",
              "      <td>CANYON #019H</td>\n",
              "      <td>HILCORP ENERGY COMPANY</td>\n",
              "      <td>36.427536</td>\n",
              "      <td>-107.965988</td>\n",
              "      <td>32433</td>\n",
              "      <td>Hilcorp - Canyon 19H Production Location</td>\n",
              "      <td>26.0</td>\n",
              "      <td>36.427556</td>\n",
              "      <td>-107.965944</td>\n",
              "      <td>1.20</td>\n",
              "      <td>18.50</td>\n",
              "      <td>63.90</td>\n",
              "      <td>NaN</td>\n",
              "      <td>NaN</td>\n",
              "      <td>Yes</td>\n",
              "    </tr>\n",
              "    <tr>\n",
              "      <th>137</th>\n",
              "      <td>31878</td>\n",
              "      <td>ConocoPhillips - Hughes A 6N &amp; Hardie 2E</td>\n",
              "      <td>4896</td>\n",
              "      <td>2012-09-20</td>\n",
              "      <td>2012-09-21</td>\n",
              "      <td>2012-10-12</td>\n",
              "      <td>2012-07-12</td>\n",
              "      <td>2012-10-11</td>\n",
              "      <td>30-045-35360</td>\n",
              "      <td>HUGHES A #006N</td>\n",
              "      <td>HILCORP ENERGY COMPANY</td>\n",
              "      <td>36.692127</td>\n",
              "      <td>-107.688461</td>\n",
              "      <td>31878</td>\n",
              "      <td>Hilcorp - Hughes A 6N and Hardie 2E</td>\n",
              "      <td>26.0</td>\n",
              "      <td>36.692222</td>\n",
              "      <td>-107.687778</td>\n",
              "      <td>NaN</td>\n",
              "      <td>NaN</td>\n",
              "      <td>NaN</td>\n",
              "      <td>NaN</td>\n",
              "      <td>NaN</td>\n",
              "      <td>Yes</td>\n",
              "    </tr>\n",
              "    <tr>\n",
              "      <th>139</th>\n",
              "      <td>39167</td>\n",
              "      <td>Hilcorp - Allison 110H/152H CDP</td>\n",
              "      <td>8483</td>\n",
              "      <td>2019-08-29</td>\n",
              "      <td>2019-09-09</td>\n",
              "      <td>2019-11-13</td>\n",
              "      <td>2014-06-05</td>\n",
              "      <td>2018-05-09</td>\n",
              "      <td>30-045-35559</td>\n",
              "      <td>ALLISON UNIT #152H</td>\n",
              "      <td>HILCORP ENERGY COMPANY</td>\n",
              "      <td>36.970642</td>\n",
              "      <td>-107.468910</td>\n",
              "      <td>39167</td>\n",
              "      <td>Hilcorp - Allison 110H/152H CDP</td>\n",
              "      <td>26.0</td>\n",
              "      <td>36.970556</td>\n",
              "      <td>-107.469167</td>\n",
              "      <td>24.30</td>\n",
              "      <td>18.90</td>\n",
              "      <td>28.70</td>\n",
              "      <td>NaN</td>\n",
              "      <td>NaN</td>\n",
              "      <td>Yes</td>\n",
              "    </tr>\n",
              "  </tbody>\n",
              "</table>\n",
              "</div>"
            ],
            "text/plain": [
              "     ai_number  ... potential_violation\n",
              "3        31347  ...                 Yes\n",
              "4        31348  ...                 Yes\n",
              "5        31349  ...                 Yes\n",
              "8        31155  ...                 Yes\n",
              "9        31156  ...                 Yes\n",
              "43       33013  ...                 Yes\n",
              "67       32517  ...                 Yes\n",
              "99       32567  ...                 Yes\n",
              "104      35268  ...                 Yes\n",
              "107      31480  ...                 Yes\n",
              "108      31481  ...                 Yes\n",
              "110      31482  ...                 Yes\n",
              "113      31881  ...                 Yes\n",
              "116      35261  ...                 Yes\n",
              "127      36366  ...                 Yes\n",
              "128      32672  ...                 Yes\n",
              "129      32672  ...                 Yes\n",
              "130      32887  ...                 Yes\n",
              "131      35601  ...                 Yes\n",
              "132      32508  ...                 Yes\n",
              "134      32433  ...                 Yes\n",
              "137      31878  ...                 Yes\n",
              "139      39167  ...                 Yes\n",
              "\n",
              "[23 rows x 24 columns]"
            ]
          },
          "metadata": {
            "tags": []
          },
          "execution_count": 141
        }
      ]
    },
    {
      "cell_type": "markdown",
      "metadata": {
        "id": "SevjCiPjmlrU",
        "colab_type": "text"
      },
      "source": [
        "**Time to make a graphical representation of all the violations.**"
      ]
    },
    {
      "cell_type": "code",
      "metadata": {
        "id": "CCpZr2ITmpoi",
        "colab_type": "code",
        "colab": {}
      },
      "source": [
        "#Number of original nois\n",
        "num_og_nois = df_original_noi.shape[0]\n",
        "\n",
        "#When plotting we want to spread out each \"timeline\" so multiply by three to make space\n",
        "df_original_noi['Plotting Line'] = np.arange(0,num_og_nois*3, 3)\n",
        "\n",
        "#Find the index positions of the violations. Use the \"plotting line\" based index\n",
        "violation_lines = df_original_noi[df_original_noi['potential_violation'] == 'Yes']['Plotting Line']\n",
        "\n",
        "#Find the minimum date and the maximum date overall\n",
        "min_date = np.min([df_original_noi['date_sent_to_nmed'].min(), df_original_noi['spud_date'].min(), df_original_noi['date_received'].min(), df_original_noi['date_sent_to_company'].min()])\n",
        "max_date = np.max([df_original_noi['date_sent_to_nmed'].max(), df_original_noi['spud_date'].max(), df_original_noi['date_received'].max(), df_original_noi['date_sent_to_company'].max()])"
      ],
      "execution_count": 0,
      "outputs": []
    },
    {
      "cell_type": "code",
      "metadata": {
        "id": "M08IhZYElWoH",
        "colab_type": "code",
        "colab": {}
      },
      "source": [
        "#I think that\n",
        "fig, ax = plt.subplots(figsize = (10,10))\n",
        "ax.scatter(np.arange(0,num_og_nois*3, 3), df_original_noi['spud_date'], color = 'Red', label = 'SPUD Date')\n",
        "ax.scatter(np.arange(0,num_og_nois*3, 3), df_original_noi['date_sent_to_company'], color = 'Yellow', label = 'NOI Sent Back to Company')\n",
        "ax.scatter(np.arange(0,num_og_nois*3, 3), df_original_noi['date_sent_to_nmed'], color = 'Green', label = 'NOI Application Submitted')\n",
        "\n",
        "ax.vlines(violation_lines.values, ymin = min_date, ymax = max_date, linestyles = 'dashed', color = 'black', label = 'Potential Violation')\n",
        "\n",
        "ax.set_ylabel('Date', size = 16, labelpad = 20)\n",
        "ax.set_xlabel('Well and Facility Pair', size = 20, labelpad = 20)\n",
        "ax.set_title('NM Oil and Gas Well Permitting\\nTimeline Progression', size = 22)\n",
        "ax.xaxis.set_tick_params(labelsize=17)\n",
        "ax.yaxis.set_tick_params(labelsize=17)\n",
        "plt.xticks([])\n",
        "\n",
        "plt.legend(prop = {'size':15}, bbox_to_anchor = (1,0.6), fancybox = True)"
      ],
      "execution_count": 0,
      "outputs": []
    },
    {
      "cell_type": "code",
      "metadata": {
        "id": "OUc9nyJWllXF",
        "colab_type": "code",
        "colab": {}
      },
      "source": [
        "#Percent of violations\n",
        "df_original_noi[df_original_noi['potential_violation'] == 'Yes'].shape[0] / df_original_noi.shape[0]"
      ],
      "execution_count": 0,
      "outputs": []
    },
    {
      "cell_type": "code",
      "metadata": {
        "id": "9MUM_8R-hN-l",
        "colab_type": "code",
        "colab": {}
      },
      "source": [
        "df_violations = df_original_noi[df_original_noi['potential_violation'] == 'Yes']\n",
        "df_violations['distance'] = df_violations['date_sent_to_company'] - df_violations['spud_date']\n",
        "\n",
        "months = sum(df_violations['distance'].dt.days.values < 31)\n",
        "days_90 = sum((df_violations['distance'].dt.days.values >= 31) & (df_violations['distance'].dt.days.values < 90))\n",
        "year = sum((df_violations['distance'].dt.days.values >= 90) & (df_violations['distance'].dt.days.values < 365))\n",
        "greater_than_year = sum((df_violations['distance'].dt.days.values >= 365))\n",
        "\n",
        "height = [months, days_90, year, greater_than_year]\n",
        "bars = ('0 - 31 Days', '31 - 90 Days', '90 - 365 Days', '> 365 Days')\n",
        "y_pos = np.arange(len(bars))\n",
        "\n",
        "# Create bars\n",
        "plt.bar(y_pos, height, color = 'salmon')\n",
        "# Create names on the x-axis\n",
        "plt.xticks(y_pos, bars)\n",
        "\n",
        "#Labels\n",
        "plt.title('Number of Days Spud Date Before Completed NOI')\n",
        "plt.ylabel('Number of Violations')\n",
        "plt.xlabel('Number of Days')\n",
        "\n",
        "# Show graphic\n",
        "plt.show()"
      ],
      "execution_count": 0,
      "outputs": []
    },
    {
      "cell_type": "code",
      "metadata": {
        "id": "eWJBQdMA2cNZ",
        "colab_type": "code",
        "colab": {}
      },
      "source": [
        "df_violations['distance'].dt.days.values "
      ],
      "execution_count": 0,
      "outputs": []
    },
    {
      "cell_type": "code",
      "metadata": {
        "id": "NR8Lgl20uHUq",
        "colab_type": "code",
        "colab": {}
      },
      "source": [
        ""
      ],
      "execution_count": 0,
      "outputs": []
    },
    {
      "cell_type": "markdown",
      "metadata": {
        "id": "Fal2lFzaYFvd",
        "colab_type": "text"
      },
      "source": [
        "# Final Analysis"
      ]
    },
    {
      "cell_type": "markdown",
      "metadata": {
        "id": "9_u0w-JaYQh5",
        "colab_type": "text"
      },
      "source": [
        "## Install and import packages"
      ]
    },
    {
      "cell_type": "markdown",
      "metadata": {
        "id": "W1mTPJgJYbfX",
        "colab_type": "text"
      },
      "source": [
        "**Install packages that are not preloaded into Google Colab.**"
      ]
    },
    {
      "cell_type": "code",
      "metadata": {
        "id": "qIo2COXaYJrA",
        "colab_type": "code",
        "outputId": "cd7a4326-a951-4144-f651-bafebb1a4eee",
        "colab": {
          "base_uri": "https://localhost:8080/",
          "height": 603
        }
      },
      "source": [
        "!pip install fiona\n",
        "!pip install geopandas"
      ],
      "execution_count": 3,
      "outputs": [
        {
          "output_type": "stream",
          "text": [
            "Requirement already satisfied: fiona in /usr/local/lib/python3.6/dist-packages (1.8.13.post1)\n",
            "Requirement already satisfied: click<8,>=4.0 in /usr/local/lib/python3.6/dist-packages (from fiona) (7.1.1)\n",
            "Requirement already satisfied: munch in /usr/local/lib/python3.6/dist-packages (from fiona) (2.5.0)\n",
            "Requirement already satisfied: cligj>=0.5 in /usr/local/lib/python3.6/dist-packages (from fiona) (0.5.0)\n",
            "Requirement already satisfied: six>=1.7 in /usr/local/lib/python3.6/dist-packages (from fiona) (1.12.0)\n",
            "Requirement already satisfied: click-plugins>=1.0 in /usr/local/lib/python3.6/dist-packages (from fiona) (1.1.1)\n",
            "Requirement already satisfied: attrs>=17 in /usr/local/lib/python3.6/dist-packages (from fiona) (19.3.0)\n",
            "Requirement already satisfied: geopandas in /usr/local/lib/python3.6/dist-packages (0.7.0)\n",
            "Requirement already satisfied: pandas>=0.23.0 in /usr/local/lib/python3.6/dist-packages (from geopandas) (1.0.3)\n",
            "Requirement already satisfied: fiona in /usr/local/lib/python3.6/dist-packages (from geopandas) (1.8.13.post1)\n",
            "Collecting pyproj>=2.2.0\n",
            "  Using cached https://files.pythonhosted.org/packages/ce/37/705ee471f71130d4ceee41bbcb06f3b52175cb89273cbb5755ed5e6374e0/pyproj-2.6.0-cp36-cp36m-manylinux2010_x86_64.whl\n",
            "Requirement already satisfied: shapely in /usr/local/lib/python3.6/dist-packages (from geopandas) (1.7.0)\n",
            "Requirement already satisfied: numpy>=1.13.3 in /usr/local/lib/python3.6/dist-packages (from pandas>=0.23.0->geopandas) (1.18.3)\n",
            "Requirement already satisfied: pytz>=2017.2 in /usr/local/lib/python3.6/dist-packages (from pandas>=0.23.0->geopandas) (2018.9)\n",
            "Requirement already satisfied: python-dateutil>=2.6.1 in /usr/local/lib/python3.6/dist-packages (from pandas>=0.23.0->geopandas) (2.8.1)\n",
            "Requirement already satisfied: munch in /usr/local/lib/python3.6/dist-packages (from fiona->geopandas) (2.5.0)\n",
            "Requirement already satisfied: cligj>=0.5 in /usr/local/lib/python3.6/dist-packages (from fiona->geopandas) (0.5.0)\n",
            "Requirement already satisfied: six>=1.7 in /usr/local/lib/python3.6/dist-packages (from fiona->geopandas) (1.12.0)\n",
            "Requirement already satisfied: click<8,>=4.0 in /usr/local/lib/python3.6/dist-packages (from fiona->geopandas) (7.1.1)\n",
            "Requirement already satisfied: click-plugins>=1.0 in /usr/local/lib/python3.6/dist-packages (from fiona->geopandas) (1.1.1)\n",
            "Requirement already satisfied: attrs>=17 in /usr/local/lib/python3.6/dist-packages (from fiona->geopandas) (19.3.0)\n",
            "Installing collected packages: pyproj\n",
            "  Found existing installation: pyproj 1.9.6\n",
            "    Uninstalling pyproj-1.9.6:\n",
            "      Successfully uninstalled pyproj-1.9.6\n",
            "Successfully installed pyproj-2.6.0\n"
          ],
          "name": "stdout"
        },
        {
          "output_type": "display_data",
          "data": {
            "application/vnd.colab-display-data+json": {
              "pip_warning": {
                "packages": [
                  "pyproj"
                ]
              }
            }
          },
          "metadata": {
            "tags": []
          }
        }
      ]
    },
    {
      "cell_type": "markdown",
      "metadata": {
        "id": "nQcJbpcbYg27",
        "colab_type": "text"
      },
      "source": [
        "**Import packages.**"
      ]
    },
    {
      "cell_type": "code",
      "metadata": {
        "id": "3Ap6t-zpYaBD",
        "colab_type": "code",
        "outputId": "9e5a9ab1-5227-491d-c92f-5d27de118f57",
        "colab": {
          "base_uri": "https://localhost:8080/",
          "height": 545
        }
      },
      "source": [
        "from ftplib import FTP\n",
        "from bs4 import BeautifulSoup\n",
        "from bs4 import SoupStrainer\n",
        "import requests\n",
        "import time\n",
        "import fiona\n",
        "import geopandas as gpd\n",
        "import pandas as pd\n",
        "import numpy as np\n",
        "import matplotlib.pyplot as plt\n",
        "from mpl_toolkits.basemap import Basemap\n",
        "import matplotlib.patches as patches\n",
        "from matplotlib import animation\n",
        "import datetime\n",
        "import seaborn as sns\n",
        "from sklearn.cluster import DBSCAN\n",
        "from geopy.distance import great_circle\n",
        "from shapely.geometry import MultiPoint"
      ],
      "execution_count": 4,
      "outputs": [
        {
          "output_type": "error",
          "ename": "ImportError",
          "evalue": "ignored",
          "traceback": [
            "\u001b[0;31m---------------------------------------------------------------------------\u001b[0m",
            "\u001b[0;31mImportError\u001b[0m                               Traceback (most recent call last)",
            "\u001b[0;32m<ipython-input-4-544978397f6f>\u001b[0m in \u001b[0;36m<module>\u001b[0;34m()\u001b[0m\n\u001b[1;32m      5\u001b[0m \u001b[0;32mimport\u001b[0m \u001b[0mtime\u001b[0m\u001b[0;34m\u001b[0m\u001b[0;34m\u001b[0m\u001b[0m\n\u001b[1;32m      6\u001b[0m \u001b[0;32mimport\u001b[0m \u001b[0mfiona\u001b[0m\u001b[0;34m\u001b[0m\u001b[0;34m\u001b[0m\u001b[0m\n\u001b[0;32m----> 7\u001b[0;31m \u001b[0;32mimport\u001b[0m \u001b[0mgeopandas\u001b[0m \u001b[0;32mas\u001b[0m \u001b[0mgpd\u001b[0m\u001b[0;34m\u001b[0m\u001b[0;34m\u001b[0m\u001b[0m\n\u001b[0m\u001b[1;32m      8\u001b[0m \u001b[0;32mimport\u001b[0m \u001b[0mpandas\u001b[0m \u001b[0;32mas\u001b[0m \u001b[0mpd\u001b[0m\u001b[0;34m\u001b[0m\u001b[0;34m\u001b[0m\u001b[0m\n\u001b[1;32m      9\u001b[0m \u001b[0;32mimport\u001b[0m \u001b[0mnumpy\u001b[0m \u001b[0;32mas\u001b[0m \u001b[0mnp\u001b[0m\u001b[0;34m\u001b[0m\u001b[0;34m\u001b[0m\u001b[0m\n",
            "\u001b[0;32m/usr/local/lib/python3.6/dist-packages/geopandas/__init__.py\u001b[0m in \u001b[0;36m<module>\u001b[0;34m()\u001b[0m\n\u001b[0;32m----> 1\u001b[0;31m \u001b[0;32mfrom\u001b[0m \u001b[0mgeopandas\u001b[0m\u001b[0;34m.\u001b[0m\u001b[0mgeoseries\u001b[0m \u001b[0;32mimport\u001b[0m \u001b[0mGeoSeries\u001b[0m  \u001b[0;31m# noqa\u001b[0m\u001b[0;34m\u001b[0m\u001b[0;34m\u001b[0m\u001b[0m\n\u001b[0m\u001b[1;32m      2\u001b[0m \u001b[0;32mfrom\u001b[0m \u001b[0mgeopandas\u001b[0m\u001b[0;34m.\u001b[0m\u001b[0mgeodataframe\u001b[0m \u001b[0;32mimport\u001b[0m \u001b[0mGeoDataFrame\u001b[0m  \u001b[0;31m# noqa\u001b[0m\u001b[0;34m\u001b[0m\u001b[0;34m\u001b[0m\u001b[0m\n\u001b[1;32m      3\u001b[0m \u001b[0;32mfrom\u001b[0m \u001b[0mgeopandas\u001b[0m\u001b[0;34m.\u001b[0m\u001b[0marray\u001b[0m \u001b[0;32mimport\u001b[0m \u001b[0m_points_from_xy\u001b[0m \u001b[0;32mas\u001b[0m \u001b[0mpoints_from_xy\u001b[0m  \u001b[0;31m# noqa\u001b[0m\u001b[0;34m\u001b[0m\u001b[0;34m\u001b[0m\u001b[0m\n\u001b[1;32m      4\u001b[0m \u001b[0;34m\u001b[0m\u001b[0m\n\u001b[1;32m      5\u001b[0m \u001b[0;32mfrom\u001b[0m \u001b[0mgeopandas\u001b[0m\u001b[0;34m.\u001b[0m\u001b[0mio\u001b[0m\u001b[0;34m.\u001b[0m\u001b[0mfile\u001b[0m \u001b[0;32mimport\u001b[0m \u001b[0mread_file\u001b[0m  \u001b[0;31m# noqa\u001b[0m\u001b[0;34m\u001b[0m\u001b[0;34m\u001b[0m\u001b[0m\n",
            "\u001b[0;32m/usr/local/lib/python3.6/dist-packages/geopandas/geoseries.py\u001b[0m in \u001b[0;36m<module>\u001b[0;34m()\u001b[0m\n\u001b[1;32m      7\u001b[0m \u001b[0;32mfrom\u001b[0m \u001b[0mpandas\u001b[0m\u001b[0;34m.\u001b[0m\u001b[0mcore\u001b[0m\u001b[0;34m.\u001b[0m\u001b[0minternals\u001b[0m \u001b[0;32mimport\u001b[0m \u001b[0mSingleBlockManager\u001b[0m\u001b[0;34m\u001b[0m\u001b[0;34m\u001b[0m\u001b[0m\n\u001b[1;32m      8\u001b[0m \u001b[0;34m\u001b[0m\u001b[0m\n\u001b[0;32m----> 9\u001b[0;31m \u001b[0;32mfrom\u001b[0m \u001b[0mpyproj\u001b[0m \u001b[0;32mimport\u001b[0m \u001b[0mCRS\u001b[0m\u001b[0;34m,\u001b[0m \u001b[0mTransformer\u001b[0m\u001b[0;34m\u001b[0m\u001b[0;34m\u001b[0m\u001b[0m\n\u001b[0m\u001b[1;32m     10\u001b[0m \u001b[0;32mfrom\u001b[0m \u001b[0mshapely\u001b[0m\u001b[0;34m.\u001b[0m\u001b[0mgeometry\u001b[0m\u001b[0;34m.\u001b[0m\u001b[0mbase\u001b[0m \u001b[0;32mimport\u001b[0m \u001b[0mBaseGeometry\u001b[0m\u001b[0;34m\u001b[0m\u001b[0;34m\u001b[0m\u001b[0m\n\u001b[1;32m     11\u001b[0m \u001b[0;32mfrom\u001b[0m \u001b[0mshapely\u001b[0m\u001b[0;34m.\u001b[0m\u001b[0mops\u001b[0m \u001b[0;32mimport\u001b[0m \u001b[0mtransform\u001b[0m\u001b[0;34m\u001b[0m\u001b[0;34m\u001b[0m\u001b[0m\n",
            "\u001b[0;31mImportError\u001b[0m: cannot import name 'CRS'",
            "",
            "\u001b[0;31m---------------------------------------------------------------------------\u001b[0;32m\nNOTE: If your import is failing due to a missing package, you can\nmanually install dependencies using either !pip or !apt.\n\nTo view examples of installing some common dependencies, click the\n\"Open Examples\" button below.\n\u001b[0;31m---------------------------------------------------------------------------\u001b[0m\n"
          ]
        }
      ]
    },
    {
      "cell_type": "code",
      "metadata": {
        "id": "_dnI38W3wAdL",
        "colab_type": "code",
        "colab": {}
      },
      "source": [
        "\n",
        "##For Basemap to work in Google Colab\n",
        "!apt-get install libgeos-3.5.0\n",
        "!apt-get install libgeos-dev\n",
        "!pip install https://github.com/matplotlib/basemap/archive/master.zip\n",
        "\n",
        "!pip install pyproj==1.9.6"
      ],
      "execution_count": 0,
      "outputs": []
    },
    {
      "cell_type": "markdown",
      "metadata": {
        "id": "vtIVWkqYYmMU",
        "colab_type": "text"
      },
      "source": [
        "##Data collection"
      ]
    },
    {
      "cell_type": "markdown",
      "metadata": {
        "id": "x2lOXQd3YpJc",
        "colab_type": "text"
      },
      "source": [
        "### OCD Well Data"
      ]
    },
    {
      "cell_type": "markdown",
      "metadata": {
        "id": "JQstoyUopigE",
        "colab_type": "text"
      },
      "source": [
        "**The New Mexico Oil Conservation Division has a geospatial dataset will all the wells in New Mexico. Use the FTP to download the geodatabase. Filter the wells to only active wells in San Juan County operated by Hilcorp or Enduring.**\n",
        "\n",
        "Source: [OCD GIS Data](ftp://164.64.106.6/Public/OCD/OCD%20GIS%20Data/)"
      ]
    },
    {
      "cell_type": "code",
      "metadata": {
        "id": "bqL9hf2_ZzDO",
        "colab_type": "code",
        "colab": {}
      },
      "source": [
        "# Connect to FTP\n",
        "ftp = FTP('164.64.106.6')\n",
        "ftp.login()\n",
        "\n",
        "#Move to directory\n",
        "ftp.cwd('/Public/OCD/OCD GIS Data/Geodatabase/')\n",
        "\n",
        "#Download file\n",
        "file = 'NMOCD_GISData.gdb.zip'\n",
        "ftp.retrbinary('RETR ' + file, open(file, 'wb').write)\n",
        "\n",
        "#Unzip the geodatabase\n",
        "!unzip /content/NMOCD_GISData.gdb.zip\n",
        "\n",
        "#Parse feature class from gdb\n",
        "df_wells = gpd.read_file('/content/NMOCD_GISData.gdb', layer = 'WellGIS')\n",
        "\n",
        "#Convert spud date column to datetime.\n",
        "df_wells['spud_date'] = pd.to_datetime(df_wells['spud_date'], errors = 'coerce')\n",
        "\n",
        "#Remove excess white space\n",
        "df_wells['type_code'] = df_wells['type_code'].str.replace(' ', '')\n",
        "\n",
        "#Only want wells in SAN JUAN COUNTY that are ACTIVE and operated by HILCORP or ENDURING\n",
        "df_san_juan = df_wells[(df_wells['county'] == 'San Juan') &\n",
        "                        (df_wells['ogrid'].isin([120782, 372286, 372171]))&\n",
        "                        (df_wells['status'] == 'Active')]\n",
        "\n",
        "#Save raw data\n",
        "df_wells.to_csv('nm_wells.csv')\n",
        "df_san_juan.to_csv('sanjuan_active_wells.csv')\n",
        "\n",
        "# ##INCASE OF FTP VERSION USE GEODATABASE DOWNLOADED 25 APRIL 2020###\n",
        "# df_wells = pd.read_csv('/content/drive/My Drive/Practicum 2019 - WildEarth Guardians/Data/Geospatial/Wells/nm_wells.csv')\n",
        "\n",
        "# #Convert spud date column to datetime.\n",
        "# df_wells['spud_date'] = pd.to_datetime(df_wells['spud_date'], errors = 'coerce')\n",
        "\n",
        "# #Remove excess white space\n",
        "# df_wells['type_code'] = df_wells['type_code'].str.replace(' ', '')\n",
        "\n",
        "# #Only want wells in SAN JUAN COUNTY that are ACTIVE and operated by HILCORP or ENDURING\n",
        "# df_san_juan = df_wells[(df_wells['county'] == 'San Juan') &\n",
        "#                         (df_wells['ogrid'].isin([120782, 372286, 372171]))&\n",
        "#                         (df_wells['status'] == 'Active')]"
      ],
      "execution_count": 0,
      "outputs": []
    },
    {
      "cell_type": "markdown",
      "metadata": {
        "id": "HEj9PdkGp5jA",
        "colab_type": "text"
      },
      "source": [
        "### NMED Facilities Data"
      ]
    },
    {
      "cell_type": "markdown",
      "metadata": {
        "id": "eYIhqLJZp92S",
        "colab_type": "text"
      },
      "source": [
        "**New Mexico Environment Department has a spreadsheet of all permitted facilities in New Mexico. We are interested in permitted oil and gas facilities in San Juan County.**\n",
        "\n",
        "Source: [NMED Facilities](https://www.env.nm.gov/air-quality/aqb-p_current_permitting_activites/)"
      ]
    },
    {
      "cell_type": "code",
      "metadata": {
        "id": "A7QKeay-p-pM",
        "colab_type": "code",
        "colab": {}
      },
      "source": [
        "facilities = pd.read_csv('/content/drive/My Drive/Practicum 2019 - WildEarth Guardians/Data/Geospatial/Facilities/AQBP-LatLong-20-01-06.csv')\n",
        "\n",
        "#Only oil and gas facilities in San Juan county\n",
        "og_facilities = facilities[(facilities['Industry'].str.contains('O&G')) & (facilities['County'] == 'San Juan')]"
      ],
      "execution_count": 0,
      "outputs": []
    },
    {
      "cell_type": "markdown",
      "metadata": {
        "id": "dWLmV7Arr8dN",
        "colab_type": "text"
      },
      "source": [
        "## Exploratory Analysis of Wells and Facilities\n",
        "\n",
        "\n",
        "\n",
        "*   Trend in spuds in San Juan County\n",
        "*   Who is spudding the most recently since 2005\n",
        "*   Break down of oil or gas wells\n",
        "\n"
      ]
    },
    {
      "cell_type": "markdown",
      "metadata": {
        "id": "kO4l09pgsASB",
        "colab_type": "text"
      },
      "source": [
        "**What is the general trend in Spud dates overtime in New Mexico regardless of operating company? We exclude the year 1900 because wells with this date are pre-ongard.**"
      ]
    },
    {
      "cell_type": "code",
      "metadata": {
        "id": "bOQidRFJsYfl",
        "colab_type": "code",
        "outputId": "4d73877a-1314-4828-e73c-b69302108af7",
        "colab": {
          "base_uri": "https://localhost:8080/",
          "height": 381
        }
      },
      "source": [
        "#Filter to only wells in San Juan County that were spudded after 1900\n",
        "df_wells_plot = df_wells[(df_wells['spud_date'].dt.year > 1900) & (df_wells['county'] == 'San Juan')]\n",
        "\n",
        "#Group by years and count the spuds in each year\n",
        "count_spuds = df_wells_plot.groupby(df_wells_plot['spud_date'].dt.year).count()\n",
        "count_spuds= count_spuds.rename(columns = {'spud_date':'Num Spuds'})\n",
        "count_spuds = count_spuds.reset_index()\n",
        "\n",
        "#Barplot\n",
        "fig, ax = plt.subplots(figsize = (18,5))\n",
        "ax = sns.barplot(x = 'spud_date', y = 'Num Spuds', data = count_spuds)\n",
        "plt.xticks(rotation = 90)\n",
        "\n",
        "#Format labels \n",
        "ax.set_title('Number of Spuds Each Year\\nSan Juan County, New Mexico', size = 18, weight = 'bold')\n",
        "ax.set_xlabel('')\n",
        "ax.set_ylabel('Number of Wells Spudded', size = 15, labelpad = 20)\n",
        "ax.tick_params(labelsize = 12)\n",
        "\n",
        "#Every other x tick label visible\n",
        "for label in ax.xaxis.get_ticklabels()[1::2]:\n",
        "    label.set_visible(False)"
      ],
      "execution_count": 0,
      "outputs": [
        {
          "output_type": "display_data",
          "data": {
            "image/png": "[encoded data removed]",
            "text/plain": [
              "<Figure size 1296x360 with 1 Axes>"
            ]
          },
          "metadata": {
            "tags": [],
            "needs_background": "light"
          }
        }
      ]
    },
    {
      "cell_type": "markdown",
      "metadata": {
        "id": "5pFWO0mXdlMU",
        "colab_type": "text"
      },
      "source": [
        "**Visualize the total number of wells across New Mexico with an animated plot.**"
      ]
    },
    {
      "cell_type": "code",
      "metadata": {
        "id": "Yer04BFKvhIb",
        "colab_type": "code",
        "colab": {}
      },
      "source": [
        "#Create a list of dfs that each have one more year's wells than the previous df\n",
        "years_list = []\n",
        "for year in np.arange(1921, 2020):\n",
        "  df = df_wells_plot[(df_wells_plot['year_spudded'] > 1920) & (df_wells_plot['year_spudded'] < year)]\n",
        "  years_list.append(df)"
      ],
      "execution_count": 0,
      "outputs": []
    },
    {
      "cell_type": "code",
      "metadata": {
        "id": "-CtH63R9qQOK",
        "colab_type": "code",
        "outputId": "743d9c47-d450-47f7-8ba8-f5a8d251aa39",
        "colab": {
          "base_uri": "https://localhost:8080/",
          "height": 630
        }
      },
      "source": [
        "#Create animation that does not have a basemap\n",
        "plt.rc('xtick', labelsize = 14)\n",
        "plt.rc('ytick', labelsize = 14)\n",
        "plt.rc('axes', labelsize= 20, labelpad = 15)\n",
        "\n",
        "# First set up the figure, the axis, and the plot element we want to animate\n",
        "fig = plt.figure(figsize = (10, 10))\n",
        "ax = plt.axes(xlim=(df_wells_plot['longitude'].min(), df_wells_plot['longitude'].max()), ylim=(df_wells_plot['latitude'].min(), df_wells_plot['latitude'].max()),\n",
        "              xlabel = 'Longitude', ylabel = 'Latitude')\n",
        "\n",
        "graph, = ax.plot([], [], 'o',alpha = 0.03)\n",
        "\n",
        "#Title. Set the position and other parameters except that text which we specift as '' for now.\n",
        "title = ax.text(0.5, 1.05,'', size = 20, transform=ax.transAxes, ha = 'center')\n",
        "\n",
        "\n",
        "# initialization function: plot the background of each frame\n",
        "def init():\n",
        "    graph.set_data([], [])\n",
        "    return graph,\n",
        "\n",
        "# animation function of dataframes' list\n",
        "def animate(i):\n",
        "    #Plot the data from each df within the list\n",
        "    graph.set_data(years_list[i]['longitude'], years_list[i]['latitude'])\n",
        "\n",
        "    #Adjust the titl to reflect the year\n",
        "    title.set_text(u\"Spudded O&G Wells in NM\\nYear: {}\".format(i + 1920))\n",
        "\n",
        "    #Return both the graph and the title for each frame\n",
        "    return graph, title,\n",
        "\n",
        "#Set number of frames to the length of your list of dataframes so that each frame is one year\n",
        "anim = animation.FuncAnimation(fig, animate, frames=len(years_list), init_func=init, interval=300, blit=True)\n",
        "\n",
        "#This will show all the static components. To make the animation run anim\n",
        "plt.show()"
      ],
      "execution_count": 0,
      "outputs": [
        {
          "output_type": "display_data",
          "data": {
            "image/png": "[encoded data removed]",
            "text/plain": [
              "<Figure size 720x720 with 1 Axes>"
            ]
          },
          "metadata": {
            "tags": [],
            "needs_background": "light"
          }
        }
      ]
    },
    {
      "cell_type": "code",
      "metadata": {
        "id": "xg-SgK_JJhAd",
        "colab_type": "code",
        "outputId": "961ef478-6609-4209-a188-916146a5f1fe",
        "colab": {
          "base_uri": "https://localhost:8080/",
          "height": 578
        }
      },
      "source": [
        "#Create animation that does have a basemap\n",
        "\n",
        "#Size of plot\n",
        "fig, ax = plt.subplots(figsize = (10,10))\n",
        "\n",
        "#Create static map centered on coords lat_0 and lon_0\n",
        "m = Basemap(width=1194000, height=1194000, projection='lcc',\n",
        "            resolution='c', lat_0= 34.5199, lon_0=-105.8701)\n",
        "\n",
        "#Add map elements\n",
        "m.drawcoastlines()\n",
        "m.drawmapboundary(fill_color='lightgrey')\n",
        "m.drawstates()\n",
        "m.drawcountries()\n",
        "\n",
        "x,y = m(0, 0)\n",
        "graph = m.plot(x, y, 'ro', markersize=5, alpha = 0.3)[0]\n",
        "\n",
        "#Set params for dynamic title\n",
        "title = ax.text(0.525, 0.85,'', size = 20, transform=ax.transAxes, ha = 'center')\n",
        "\n",
        "def init():\n",
        "    graph.set_data([], [])\n",
        "    return graph,\n",
        "\n",
        "def animate(i):\n",
        "    x, y = m(years_list[i]['longitude'].values, years_list[i]['latitude'].values)\n",
        "    graph.set_data(x, y)\n",
        "    title.set_text(u\"Spudded O&G Wells in NM\\nYear: {}\".format(i + 1920))\n",
        "    return graph,title\n",
        "\n",
        "\n",
        "anim = animation.FuncAnimation(fig, animate, init_func=init,\n",
        "                               frames=len(years_list), interval=150, blit=True)\n",
        "\n",
        "plt.show()"
      ],
      "execution_count": 0,
      "outputs": [
        {
          "output_type": "display_data",
          "data": {
            "image/png": "[encoded data removed]",
            "text/plain": [
              "<Figure size 720x720 with 1 Axes>"
            ]
          },
          "metadata": {
            "tags": []
          }
        }
      ]
    },
    {
      "cell_type": "code",
      "metadata": {
        "id": "ETp_VqVfKozd",
        "colab_type": "code",
        "colab": {}
      },
      "source": [
        "#View the animated product\n",
        "anim"
      ],
      "execution_count": 0,
      "outputs": []
    },
    {
      "cell_type": "code",
      "metadata": {
        "id": "iPJLyJXMbnez",
        "colab_type": "code",
        "colab": {}
      },
      "source": [
        "#Save as a mp4\n",
        "anim.save('nm_spuds.mp4')"
      ],
      "execution_count": 0,
      "outputs": []
    },
    {
      "cell_type": "markdown",
      "metadata": {
        "id": "iWQ1oOxPrYhG",
        "colab_type": "text"
      },
      "source": [
        "**What companies have been spudding the most in San Juan County since 2010? We are only looking at wells with a status code of active.**"
      ]
    },
    {
      "cell_type": "code",
      "metadata": {
        "id": "SjFG_zjPrexF",
        "colab_type": "code",
        "outputId": "9684f2f7-a7ec-495e-d422-ac3a4b94b1e4",
        "colab": {
          "base_uri": "https://localhost:8080/",
          "height": 474
        }
      },
      "source": [
        "#Prepare data to count how many wells\n",
        "df_wells_barplot = df_wells[(df_wells['county'] == 'San Juan') & (df_wells['spud_date'].dt.year > 2009) & (df_wells['status_code'] == 'A')]\n",
        "df_wells_barplot = df_wells_barplot.groupby('ogrid_name').count().sort_values(by = 'id').reset_index()\n",
        "df_wells_barplot = df_wells_barplot[df_wells_barplot['ogrid'] > 5]\n",
        "\n",
        "#Create figure\n",
        "fig,ax = plt.subplots(figsize = (8,5))\n",
        "ax = sns.barplot(x = 'ogrid_name', y = 'id', data = df_wells_barplot, palette = 'Reds')\n",
        "\n",
        "#Figure formatting\n",
        "ax.set_xticklabels(['Huntington Energy', 'BP America',\n",
        "                    'Juniper Resources', 'Logos',\n",
        "                    'DJR', 'Dugan',\n",
        "                    'Enduring', 'Hilcorp'])\n",
        "plt.xticks(rotation = 45)\n",
        "\n",
        "#Labels\n",
        "ax.set_xlabel('')\n",
        "ax.set_ylabel('Number of Wells', size = 15, labelpad = 20)\n",
        "ax.set_title('Number of New Wells Spudded Since 2010\\nSan Juan County, NM', size = 20, weight = 'bold')"
      ],
      "execution_count": 0,
      "outputs": [
        {
          "output_type": "execute_result",
          "data": {
            "text/plain": [
              "Text(0.5, 1.0, 'Number of New Wells Spudded Since 2010\\nSan Juan County, NM')"
            ]
          },
          "metadata": {
            "tags": []
          },
          "execution_count": 296
        },
        {
          "output_type": "display_data",
          "data": {
            "image/png": "[encoded data removed]",
            "text/plain": [
              "<Figure size 576x360 with 1 Axes>"
            ]
          },
          "metadata": {
            "tags": [],
            "needs_background": "light"
          }
        }
      ]
    },
    {
      "cell_type": "markdown",
      "metadata": {
        "id": "B9tgmbH-0yyk",
        "colab_type": "text"
      },
      "source": [
        "**What is the break down of oil or gas wells operated by Hilcorp or Enduring (top 2 spudding companies based on previous figure)?**"
      ]
    },
    {
      "cell_type": "code",
      "metadata": {
        "id": "-oio8Cxdx039",
        "colab_type": "code",
        "outputId": "027df712-5565-4f52-ab4d-fa0e9c519291",
        "colab": {
          "base_uri": "https://localhost:8080/",
          "height": 385
        }
      },
      "source": [
        "df_spud_hil_end = df_wells[(df_wells['county'] == 'San Juan') & (df_wells['spud_date'].dt.year > 2009) & (df_wells['status_code'] == 'A') & (df_wells['ogrid_name'].isin(['ENDURING RESOURCES, LLC','HILCORP ENERGY COMPANY']))]\n",
        "\n",
        "#How many wells by each company?\n",
        "plot =  df_spud_hil_end.groupby(['ogrid_name', 'year_spudded']).count() \n",
        "plot = plot.rename(columns = {'spud_date':'Num Spud'})\n",
        "plot = plot.reset_index()\n",
        "\n",
        "g = sns.catplot(x = 'year_spudded', y = 'Num Spud', data = plot, hue = 'ogrid_name', kind = 'bar', palette = 'Reds', legend = True)\n",
        "axes = g.axes.flatten()\n",
        "axes[0].set_title('Spuds per Year by Company', size = 20, weight = 'bold', pad = 15)\n",
        "axes[0].set_xlabel('')\n",
        "axes[0].set_ylabel('Number of Wells')\n",
        "plt.xticks(rotation = 90)\n",
        "\n",
        "#Edit legend\n",
        "g._legend.set_title('Companies')"
      ],
      "execution_count": 0,
      "outputs": [
        {
          "output_type": "display_data",
          "data": {
            "image/png": "[encoded data removed]",
            "text/plain": [
              "<Figure size 537.375x360 with 1 Axes>"
            ]
          },
          "metadata": {
            "tags": [],
            "needs_background": "light"
          }
        }
      ]
    },
    {
      "cell_type": "markdown",
      "metadata": {
        "id": "OVRulzRH8NHz",
        "colab_type": "text"
      },
      "source": [
        "## Well Clustering and Facility Association"
      ]
    },
    {
      "cell_type": "markdown",
      "metadata": {
        "id": "wIkN_Znm8cCl",
        "colab_type": "text"
      },
      "source": [
        "**Split up the data**"
      ]
    },
    {
      "cell_type": "code",
      "metadata": {
        "id": "H1KqawCH8ee9",
        "colab_type": "code",
        "colab": {}
      },
      "source": [
        "#Only hilcorp wells\n",
        "hilcorp = df_wells[(df_wells['county'] == 'San Juan') &\n",
        "                   (df_wells['spud_date'].dt.year > 2009) &\n",
        "                   (df_wells['status_code'] == 'A') &\n",
        "                   (df_wells['ogrid_name'].isin(['HILCORP ENERGY COMPANY']))]\n",
        "hilcorp_gas = hilcorp[hilcorp['type_code'] == 'G']\n",
        "hilcorp_oil = hilcorp[hilcorp['type_code'] == 'O']\n",
        "\n",
        "#Only enduring wells\n",
        "enduring = df_wells[(df_wells['county'] == 'San Juan') &\n",
        "                   (df_wells['spud_date'].dt.year > 2009) &\n",
        "                   (df_wells['status_code'] == 'A') &\n",
        "                   (df_wells['ogrid_name'].isin(['ENDURING RESOURCES, LLC']))]\n",
        "enduring_gas = enduring[enduring['type_code'] == 'G']\n",
        "enduring_oil = enduring[enduring['type_code'] == 'O']"
      ],
      "execution_count": 0,
      "outputs": []
    },
    {
      "cell_type": "markdown",
      "metadata": {
        "id": "mriysEGheCfx",
        "colab_type": "text"
      },
      "source": [
        "### Enduring Gas Analysis"
      ]
    },
    {
      "cell_type": "markdown",
      "metadata": {
        "id": "2XnKNrXG8mat",
        "colab_type": "text"
      },
      "source": [
        "**First step is to visualize all the new Enduring gas wells.**"
      ]
    },
    {
      "cell_type": "code",
      "metadata": {
        "id": "VCZtWaH5eFTK",
        "colab_type": "code",
        "outputId": "86cd88fb-bbc1-464a-dda3-b4e663d75e2b",
        "colab": {
          "base_uri": "https://localhost:8080/",
          "height": 453
        }
      },
      "source": [
        "#Plot all new gas wells for enduring\n",
        "fig, ax = plt.subplots(figsize=[10, 6])\n",
        "df_scatter = ax.scatter(enduring_gas['longitude'], enduring_gas['latitude'], c='k', alpha=0.9, s=40, marker = '+', label = 'Enduring Gas Wells')\n",
        "\n",
        "#Find the number of enduring gas wells\n",
        "wells = enduring_gas.shape[0]\n",
        "\n",
        "#Format labels\n",
        "ax.set_title('Enduring New Gas Wells\\n' + str(wells) + ' Wells', size = 18, fontweight = 'bold')\n",
        "ax.set_xlabel('Longitude', size = 15, labelpad = 20)\n",
        "ax.set_ylabel('Latitude', size = 15, labelpad = 20)\n",
        "ax.tick_params(labelsize = 12)\n",
        "\n",
        "rect = patches.Rectangle((-107.628, 36.207), width = 0.006, height = 0.012,\n",
        "                         linewidth = 1, edgecolor = 'r', facecolor='none', label = 'Sample Patch')\n",
        "\n",
        "ax.add_patch(rect)\n",
        "\n",
        "#ax.legend([df_scatter,], ['Enduring Gas Wells'], loc= 'lower left', prop = {'size':15})\n",
        "ax.legend(loc= 'lower left', prop = {'size':15})\n",
        "plt.show()"
      ],
      "execution_count": 0,
      "outputs": [
        {
          "output_type": "display_data",
          "data": {
            "image/png": "[encoded data removed]",
            "text/plain": [
              "<Figure size 720x432 with 1 Axes>"
            ]
          },
          "metadata": {
            "tags": [],
            "needs_background": "light"
          }
        }
      ]
    },
    {
      "cell_type": "markdown",
      "metadata": {
        "id": "SH3_4y8IqAMM",
        "colab_type": "text"
      },
      "source": [
        "**With satellite imagery we can visualize the wells on the right hand side of the above scatterplot.**\n",
        "\n",
        "![picture](https://drive.google.com/uc?id=1I4g6WCDGsJM1I6Yk28zAv5r1UAGh3U6L)"
      ]
    },
    {
      "cell_type": "markdown",
      "metadata": {
        "id": "AbMsgDCF8wJx",
        "colab_type": "text"
      },
      "source": [
        "**The next step is to cluster wells together. Clustering is an important step because instead of associating individual wells with facilities, we can associate well clusters (only one point) with facilities. This will cut down the time it takes to run the code in the case of using MANY wells.**\n",
        "\n",
        "**DBSCAN is a clustering algorithm that groups points together based on their density. We are only only using the coordinates to cluster points, but theoretically you could use other information**\n",
        "\n",
        "Useful description of DBSCAN for later: https://www.datanovia.com/en/lessons/dbscan-density-based-clustering-essentials/"
      ]
    },
    {
      "cell_type": "code",
      "metadata": {
        "id": "s4dC8xdul_Lq",
        "colab_type": "code",
        "outputId": "71461323-10b1-446d-8d15-106eaa10e871",
        "colab": {
          "base_uri": "https://localhost:8080/",
          "height": 35
        }
      },
      "source": [
        "#Matrix of all the well coordinates\n",
        "coords = enduring_gas[['latitude', 'longitude']].values\n",
        "\n",
        "#DBSCAN requires two inputs other than data: minimum number of samples per cluster and the distance to associate points\n",
        "kms_per_radian = 6371.0088\n",
        "epsilon = 0.4 / kms_per_radian\n",
        "db = DBSCAN(eps=epsilon, min_samples=1, algorithm='ball_tree', metric='haversine').fit(np.radians(coords))\n",
        "cluster_labels = db.labels_\n",
        "num_clusters = len(set(cluster_labels))\n",
        "clusters = pd.Series([coords[cluster_labels == n] for n in range(num_clusters)])\n",
        "print('Number of clusters: {}'.format(num_clusters))"
      ],
      "execution_count": 0,
      "outputs": [
        {
          "output_type": "stream",
          "text": [
            "Number of clusters: 8\n"
          ],
          "name": "stdout"
        }
      ]
    },
    {
      "cell_type": "markdown",
      "metadata": {
        "id": "6KQYtvGEMjAo",
        "colab_type": "text"
      },
      "source": [
        "**Now need to find the centerpoint of all the clusters determined above.**"
      ]
    },
    {
      "cell_type": "code",
      "metadata": {
        "id": "--yMSPn2NEfH",
        "colab_type": "code",
        "outputId": "2efce12f-c301-4114-b376-b6a16bb459e5",
        "colab": {
          "base_uri": "https://localhost:8080/",
          "height": 432
        }
      },
      "source": [
        "#Function to determine centermost points \n",
        "def get_centermost_point(cluster):\n",
        "    centroid = (MultiPoint(cluster).centroid.x, MultiPoint(cluster).centroid.y)\n",
        "    centermost_point = min(cluster, key=lambda point: great_circle(point, centroid).m)\n",
        "    return tuple(centermost_point)\n",
        "\n",
        "#Find centermost points in each cluster\n",
        "centermost_points = clusters.map(get_centermost_point)\n",
        "\n",
        "#Save centerpoints as a df\n",
        "lats, lons = zip(*centermost_points)\n",
        "rep_points = pd.DataFrame({'lon':lons, 'lat':lats})\n",
        "\n",
        "\n",
        "rs = rep_points.apply(lambda row: enduring_gas[(enduring_gas['latitude']==row['lat'])&(enduring_gas['longitude']==row['lon'])].iloc[0], axis=1)\n",
        "\n",
        "#Create plot\n",
        "fig, ax = plt.subplots(figsize=[10, 6])\n",
        "\n",
        "#Plot centerpoints\n",
        "rs_scatter = ax.scatter(rs['longitude'], rs['latitude'], c='#99cc99', edgecolor='None', alpha=0.7, s=120, label = 'Reduced Set')\n",
        "\n",
        "#Plot individual well sites\n",
        "df_scatter = ax.scatter(enduring_gas['longitude'], enduring_gas['latitude'], c='k', alpha=0.9, s=40, marker = '+', label = 'Full Set')\n",
        "\n",
        "#Sample patch\n",
        "rect = patches.Rectangle((-107.628, 36.207), width = 0.006, height = 0.012,\n",
        "                         linewidth = 1, edgecolor = 'r', facecolor='none', label = 'Sample Patch')\n",
        "\n",
        "ax.add_patch(rect)\n",
        "\n",
        "#Formatting\n",
        "ax.set_title('Enduring Gas Wells: Full Dataset vs DBSCAN Reduced Set', size = 18, fontweight = 'bold')\n",
        "ax.set_xlabel('Longitude', size = 15, labelpad = 20)\n",
        "ax.set_ylabel('Latitude', size = 15, labelpad = 20)\n",
        "ax.tick_params(labelsize = 12)\n",
        "ax.legend([df_scatter, rs_scatter], ['Gas Full set', 'Gas Reduced set'], loc='best')\n",
        "\n",
        "ax.legend(loc= 'lower left', prop = {'size':15})\n",
        "plt.show()"
      ],
      "execution_count": 0,
      "outputs": [
        {
          "output_type": "display_data",
          "data": {
            "image/png": "[encoded data removed]",
            "text/plain": [
              "<Figure size 720x432 with 1 Axes>"
            ]
          },
          "metadata": {
            "tags": [],
            "needs_background": "light"
          }
        }
      ]
    },
    {
      "cell_type": "markdown",
      "metadata": {
        "id": "yE39At_jPnfZ",
        "colab_type": "text"
      },
      "source": [
        "**In the original dataframe of gas wells, we want to know what cluster each observation was assigned to.**"
      ]
    },
    {
      "cell_type": "code",
      "metadata": {
        "id": "Lca33iEd3FDS",
        "colab_type": "code",
        "colab": {}
      },
      "source": [
        "#Empty column to store values\n",
        "enduring_gas['Cluster'] = np.nan\n",
        "\n",
        "#Iterate through an iterable of length clusters\n",
        "for i in range(len(clusters)):\n",
        "\n",
        "  #Get ith cluster\n",
        "  cluster = clusters[i]\n",
        "\n",
        "  #Iterate through each coord pair in cluster\n",
        "  for j in cluster:\n",
        "   enduring_gas.loc[(enduring_gas['latitude'] == j[0]) & (enduring_gas['longitude'] == j[1]), ['Cluster']] = int(i)\n",
        "\n",
        "\n",
        "#Do the same with our centerpoints of wells. We want to know the cluster number associated with centerpoints.\n",
        "rs['Cluster'] = np.nan\n",
        "\n",
        "for i in range(len(clusters)):\n",
        "  #Get ith cluster\n",
        "  cluster = clusters[i]\n",
        "\n",
        "  #Iterate through each coord pair in cluster\n",
        "  for j in cluster:\n",
        "   rs.loc[(rs['latitude'] == j[0]) & (rs['longitude'] == j[1]), ['Cluster']] = int(i)\n",
        "\n",
        "rs"
      ],
      "execution_count": 0,
      "outputs": []
    },
    {
      "cell_type": "markdown",
      "metadata": {
        "id": "VGcpj-eIQEKj",
        "colab_type": "text"
      },
      "source": [
        "**Now it is time to associate facilities with well clusters. Start by filtering the dataframe of facilities down to ones that are within the general area, are considered oil and gas facilities, and within San Juan County.**"
      ]
    },
    {
      "cell_type": "code",
      "metadata": {
        "id": "X1-KcRp03V04",
        "colab_type": "code",
        "colab": {}
      },
      "source": [
        "#Only oil and gas facilities in San Juan county\n",
        "og_facilities = facilities[(facilities['Industry'].str.contains('O&G')) & (facilities['County'] == 'San Juan')]\n",
        "\n",
        "##Filter out outliers by max lat and lon of well locations\n",
        "#Bottom right: Must be less than or equal to this\n",
        "max_lon = enduring_gas['longitude'].max() + 0.1\n",
        "\n",
        "#Bottom left: Must be greater than or equal to this \n",
        "min_lon = enduring_gas['longitude'].min() - 0.1\n",
        "\n",
        "#Top right: Must be less than or equal to this\n",
        "max_lat = enduring_gas['latitude'].max() +0.1\n",
        "\n",
        "#Top: Must be greater than or equal to this\n",
        "min_lat = enduring_gas['latitude'].min() - 0.1\n",
        "\n",
        "#Facilities inside the box (need to tweak boundaries)\n",
        "og_facilities = og_facilities[(og_facilities['Latitude'].between(min_lat,max_lat, inclusive = True)) & (og_facilities['Longitude'].between(min_lon,max_lon, inclusive = True))]"
      ],
      "execution_count": 0,
      "outputs": []
    },
    {
      "cell_type": "markdown",
      "metadata": {
        "id": "RBcxzCpzQZWI",
        "colab_type": "text"
      },
      "source": [
        "**Visualize well clusters and facilities on the same figure.**"
      ]
    },
    {
      "cell_type": "code",
      "metadata": {
        "id": "UTcBWKtf3gfd",
        "colab_type": "code",
        "colab": {}
      },
      "source": [
        "#Create figure\n",
        "fig, ax = plt.subplots(figsize=[10, 6])\n",
        "\n",
        "#Plot centerpoints of well clusters\n",
        "rs_scatter = ax.scatter(rs['longitude'], rs['latitude'], c='#99cc99', edgecolor='None', alpha=0.7, s=120, label = 'Well Clusters')\n",
        "\n",
        "#Plot filtered facilities\n",
        "fac_scatter = ax.scatter(og_facilities['Longitude'], og_facilities['Latitude'], c='blue', edgecolor='None', alpha=0.7, s=25, label = 'O&G Facilities')\n",
        "\n",
        "#Sample patch\n",
        "rect = patches.Rectangle((-107.628, 36.207), width = 0.006, height = 0.012,\n",
        "                         linewidth = 1, edgecolor = 'r', facecolor='none', label = 'Sample Patch')\n",
        "\n",
        "ax.add_patch(rect)\n",
        "\n",
        "#Formatting\n",
        "ax.set_title('Enduring Gas Well Clusters vs Facility Location', size = 18, fontweight = 'bold')\n",
        "ax.set_xlabel('Longitude', size = 15, labelpad = 20)\n",
        "ax.set_ylabel('Latitude', size = 15, labelpad = 20)\n",
        "ax.tick_params(labelsize = 12)\n",
        "\n",
        "ax.legend([rs_scatter, fac_scatter], ['Gas Well Clusters', 'Facilities'], loc='upper right')\n",
        "\n",
        "ax.legend(loc= 'lower left', prop = {'size':15})\n",
        "plt.show()"
      ],
      "execution_count": 0,
      "outputs": []
    },
    {
      "cell_type": "markdown",
      "metadata": {
        "id": "6pHneuD7RUMq",
        "colab_type": "text"
      },
      "source": [
        "**In order to associate facilities with wells, we need to calculate the distance between each well cluster and the facility. Since the observations occur on Earh's surface, the most appropriate distance metric is Haversine.**"
      ]
    },
    {
      "cell_type": "code",
      "metadata": {
        "id": "fKzX4hvD3myE",
        "colab_type": "code",
        "colab": {}
      },
      "source": [
        "#Haversine function for distance calculation\n",
        "import math\n",
        "\n",
        "def haversine(coord1, coord2):\n",
        "    R = 6372800  # Earth radius in meters\n",
        "    lat1, lon1 = coord1\n",
        "    lat2, lon2 = coord2\n",
        "    \n",
        "    phi1, phi2 = math.radians(lat1), math.radians(lat2) \n",
        "    dphi       = math.radians(lat2 - lat1)\n",
        "    dlambda    = math.radians(lon2 - lon1)\n",
        "    \n",
        "    a = math.sin(dphi/2)**2 + \\\n",
        "        math.cos(phi1)*math.cos(phi2)*math.sin(dlambda/2)**2\n",
        "    \n",
        "    return 2*R*math.atan2(math.sqrt(a), math.sqrt(1 - a))"
      ],
      "execution_count": 0,
      "outputs": []
    },
    {
      "cell_type": "markdown",
      "metadata": {
        "id": "RgMRzEB7RwRV",
        "colab_type": "text"
      },
      "source": [
        "**Calculate the distance between each of the well clusters and the facilities using the Haversine function. If a facility is less than 200 meters away, it is considered associated. If no facilities are found within 200 meters, store the facilities as isolated and they will be used in another analysis.**"
      ]
    },
    {
      "cell_type": "code",
      "metadata": {
        "id": "2ogSuK1d3wlS",
        "colab_type": "code",
        "colab": {}
      },
      "source": [
        "#I want to have a seperate path for isolated well sites.\n",
        "#So if no facilities within 200 m, I want to expand search radius to 500\n",
        "#Need a running count of the number of faciliites per well\n",
        "\n",
        "og_facilities['Cluster'] = np.nan\n",
        "\n",
        "#How many facilities per center point?\n",
        "isolated = []\n",
        "\n",
        "#Iterate through center points\n",
        "for i in rs['id'].unique():\n",
        "  well_lat = rs[rs['id'] == i]['latitude'].values[0]\n",
        "  well_lon = rs[rs['id'] == i]['longitude'].values[0]\n",
        "  well_point = (well_lat, well_lon)\n",
        "\n",
        "  #Get cluster values\n",
        "  cluster_num = rs[rs['id'] == i]['Cluster'].values[0]\n",
        "  \n",
        "  count = 0\n",
        "\n",
        "  #Iterate through facilities\n",
        "  for j in og_facilities['AI'].unique():\n",
        "    fac_lat = og_facilities[og_facilities['AI'] == j]['Latitude'].values[0]\n",
        "    fac_lon = og_facilities[og_facilities['AI'] == j]['Longitude'].values[0]\n",
        "    fac_point = (fac_lat, fac_lon)\n",
        "\n",
        "    distance = haversine(well_point, fac_point)\n",
        "\n",
        "    if distance < 200:\n",
        "      print(i, j, cluster_num)\n",
        "      #Label it with cluster number of rs center point\n",
        "      og_facilities.loc[og_facilities['AI'] == j, ['Cluster']] = cluster_num\n",
        "\n",
        "      count = count + 1\n",
        "      \n",
        "    #Too far away to be associated\n",
        "    else:\n",
        "      continue\n",
        "\n",
        "  if count == 0:\n",
        "    isolated.append(i)\n",
        "\n",
        "  else:\n",
        "    continue"
      ],
      "execution_count": 0,
      "outputs": []
    },
    {
      "cell_type": "markdown",
      "metadata": {
        "id": "F5BUT81zTB53",
        "colab_type": "text"
      },
      "source": [
        "**Take the list of isolated facilities and crank up the distance to 500 m to find any nearby facilities.**"
      ]
    },
    {
      "cell_type": "code",
      "metadata": {
        "id": "w7G4mUUw34Cw",
        "colab_type": "code",
        "colab": {}
      },
      "source": [
        "#Iterate through center points\n",
        "for i in np.unique(isolated):\n",
        "  well_lat = rs[rs['id'] == i]['latitude'].values[0]\n",
        "  well_lon = rs[rs['id'] == i]['longitude'].values[0]\n",
        "  well_point = (well_lat, well_lon)\n",
        "\n",
        "  #Get cluster values\n",
        "  cluster_num = rs[rs['id'] == i]['Cluster'].values[0]\n",
        "\n",
        "  #Iterate through facilities\n",
        "  for j in og_facilities['AI'].unique():\n",
        "    fac_lat = og_facilities[og_facilities['AI'] == j]['Latitude'].values[0]\n",
        "    fac_lon = og_facilities[og_facilities['AI'] == j]['Longitude'].values[0]\n",
        "    fac_point = (fac_lat, fac_lon)\n",
        "\n",
        "    distance = haversine(well_point, fac_point)\n",
        "\n",
        "    if distance < 500:\n",
        "      print(i, j, cluster_num)\n",
        "      og_facilities.loc[og_facilities['AI'] == j, ['Cluster']] = cluster_num\n",
        "      #Label it with cluster number of rs center point\n",
        "\n",
        "    #Too far away to be associated\n",
        "    else:\n",
        "      continue"
      ],
      "execution_count": 0,
      "outputs": []
    },
    {
      "cell_type": "markdown",
      "metadata": {
        "id": "1rqku7DUUwWV",
        "colab_type": "text"
      },
      "source": [
        "**Inner join facilities and wells together based on their cluster. Inner join will remove facilities that did not have a cluster. Filter to only useful columns.**"
      ]
    },
    {
      "cell_type": "code",
      "metadata": {
        "id": "AJmBgYns395F",
        "colab_type": "code",
        "colab": {}
      },
      "source": [
        "#So now we can join the facilities and wells df\n",
        "\n",
        "df_well_fac = enduring_gas.merge(og_facilities, on = 'Cluster', how = 'inner', suffixes = ('_well', '_fac'))\n",
        "\n",
        "df_well_fac_filter = df_well_fac[['spud_date', 'id', 'name', 'ogrid_name', 'latitude', \n",
        "                                  'longitude', 'AI', 'Facility Name', 'Cluster', 'Latitude', 'Longitude',\n",
        "                                  'NO_TPY','CO_TPY','VOC_TPY','PM10_TPY','SO2_TPY']]\n",
        "\n",
        "#Rename columns\n",
        "df_well_fac_filter = df_well_fac_filter.rename(columns = {'latitude':'Well Latitude',\n",
        "                                    'longitude':'Well Longitude',\n",
        "                                    'Latitude':'Facility Latitude',\n",
        "                                    'Longitude':'Facility Longitude',\n",
        "                                    'name':'Well Name',\n",
        "                                    'API':'Well API',\n",
        "                                    'AI':'Facility AI'})\n",
        "\n",
        "#Save as csv\n",
        "df_well_fac_filter.to_csv('enduring_gas_well_facility_match.csv')"
      ],
      "execution_count": 0,
      "outputs": []
    },
    {
      "cell_type": "markdown",
      "metadata": {
        "id": "km_rMUY9U-E_",
        "colab_type": "text"
      },
      "source": [
        "**Plot the final results.**"
      ]
    },
    {
      "cell_type": "code",
      "metadata": {
        "id": "wJ0OZRXP4GpI",
        "colab_type": "code",
        "colab": {}
      },
      "source": [
        "#Plot\n",
        "fig, ax = plt.subplots(figsize= (10, 6))\n",
        "\n",
        "#Scatter of well center points\n",
        "rs_scatter = ax.scatter(rs['longitude'], rs['latitude'], c='#99cc99', edgecolor='None', alpha=0.7, s=120, label = 'Well Cluster')\n",
        "\n",
        "#Scatter of associated facilities\n",
        "fac_scatter = ax.scatter(df_well_fac_filter['Facility Longitude'], df_well_fac_filter['Facility Latitude'], c='blue', edgecolor='None', alpha=0.7, s=25, label = 'O&G Facilities')\n",
        "\n",
        "#Sample patch\n",
        "rect = patches.Rectangle((-107.628, 36.207), width = 0.006, height = 0.012,\n",
        "                         linewidth = 1, edgecolor = 'r', facecolor='none', label = 'Sample Patch')\n",
        "ax.add_patch(rect)\n",
        "\n",
        "#Formatting\n",
        "ax.set_title('Enduring Gas Well Clusters vs Facility Location', size = 18, fontweight = 'bold')\n",
        "ax.set_xlabel('Longitude', size = 15, labelpad = 20)\n",
        "ax.set_ylabel('Latitude', size = 15, labelpad = 20)\n",
        "ax.tick_params(labelsize = 12)\n",
        "\n",
        "ax.legend(loc= 'lower left', prop = {'size':15})\n",
        "plt.show()"
      ],
      "execution_count": 0,
      "outputs": []
    },
    {
      "cell_type": "code",
      "metadata": {
        "id": "IFVufpwblYoV",
        "colab_type": "code",
        "colab": {}
      },
      "source": [
        "df_well_fac_filter"
      ],
      "execution_count": 0,
      "outputs": []
    },
    {
      "cell_type": "markdown",
      "metadata": {
        "id": "V9HQPtKfelKa",
        "colab_type": "text"
      },
      "source": [
        "**Visualize the sample patch of well with high resolution imagery. The DBSCAN 0.4 km buffer is included. The facility to well associationdistance (0.2 km) is not included.**\n",
        "\n",
        "![picture](https://drive.google.com/uc?id=1AXrBnzoGz1hhhszAHywqnKNeDCXsskj5)"
      ]
    },
    {
      "cell_type": "markdown",
      "metadata": {
        "id": "_u2Pl4kN3Kb7",
        "colab_type": "text"
      },
      "source": [
        "# Large scale clustering"
      ]
    },
    {
      "cell_type": "code",
      "metadata": {
        "id": "PYQPdxObWEX_",
        "colab_type": "code",
        "outputId": "ecf05285-2ad7-475d-b7a4-80f55cc1238b",
        "colab": {
          "base_uri": "https://localhost:8080/",
          "height": 246
        }
      },
      "source": [
        "sj_wells = df_wells[(df_wells['county'] == 'San Juan') &\n",
        "                   (df_wells['spud_date'].dt.year > 2000) &\n",
        "                   (df_wells['status_code'] == 'A')]\n",
        "\n",
        "enduring_gas = sj_wells"
      ],
      "execution_count": 0,
      "outputs": [
        {
          "output_type": "error",
          "ename": "NameError",
          "evalue": "ignored",
          "traceback": [
            "\u001b[0;31m---------------------------------------------------------------------------\u001b[0m",
            "\u001b[0;31mNameError\u001b[0m                                 Traceback (most recent call last)",
            "\u001b[0;32m<ipython-input-1-17cbe12160c0>\u001b[0m in \u001b[0;36m<module>\u001b[0;34m()\u001b[0m\n\u001b[0;32m----> 1\u001b[0;31m sj_wells = df_wells[(df_wells['county'] == 'San Juan') &\n\u001b[0m\u001b[1;32m      2\u001b[0m                    \u001b[0;34m(\u001b[0m\u001b[0mdf_wells\u001b[0m\u001b[0;34m[\u001b[0m\u001b[0;34m'spud_date'\u001b[0m\u001b[0;34m]\u001b[0m\u001b[0;34m.\u001b[0m\u001b[0mdt\u001b[0m\u001b[0;34m.\u001b[0m\u001b[0myear\u001b[0m \u001b[0;34m>\u001b[0m \u001b[0;36m2000\u001b[0m\u001b[0;34m)\u001b[0m \u001b[0;34m&\u001b[0m\u001b[0;34m\u001b[0m\u001b[0;34m\u001b[0m\u001b[0m\n\u001b[1;32m      3\u001b[0m                    (df_wells['status_code'] == 'A')]\n\u001b[1;32m      4\u001b[0m \u001b[0;34m\u001b[0m\u001b[0m\n\u001b[1;32m      5\u001b[0m \u001b[0menduring_gas\u001b[0m \u001b[0;34m=\u001b[0m \u001b[0msj_wells\u001b[0m\u001b[0;34m\u001b[0m\u001b[0;34m\u001b[0m\u001b[0m\n",
            "\u001b[0;31mNameError\u001b[0m: name 'df_wells' is not defined"
          ]
        }
      ]
    },
    {
      "cell_type": "code",
      "metadata": {
        "id": "BT2iYGS0hhEm",
        "colab_type": "code",
        "outputId": "556177a6-e357-4355-8864-47caf2b39908",
        "colab": {
          "base_uri": "https://localhost:8080/",
          "height": 453
        }
      },
      "source": [
        "#Plot all new gas wells for enduring\n",
        "fig, ax = plt.subplots(figsize=[10, 6])\n",
        "df_scatter = ax.scatter(enduring_gas['longitude'], enduring_gas['latitude'], c='k', alpha=0.9, s=40, marker = '+', label = 'Enduring Gas Wells')\n",
        "\n",
        "#Find the number of enduring gas wells\n",
        "wells = enduring_gas.shape[0]\n",
        "\n",
        "#Format labels\n",
        "ax.set_title('Enduring New Gas Wells\\n' + str(wells) + ' Wells', size = 18, fontweight = 'bold')\n",
        "ax.set_xlabel('Longitude', size = 15, labelpad = 20)\n",
        "ax.set_ylabel('Latitude', size = 15, labelpad = 20)\n",
        "ax.tick_params(labelsize = 12)\n",
        "\n",
        "rect = patches.Rectangle((-107.628, 36.207), width = 0.006, height = 0.012,\n",
        "                         linewidth = 1, edgecolor = 'r', facecolor='none', label = 'Sample Patch')\n",
        "\n",
        "ax.add_patch(rect)\n",
        "\n",
        "#ax.legend([df_scatter,], ['Enduring Gas Wells'], loc= 'lower left', prop = {'size':15})\n",
        "ax.legend(loc= 'lower left', prop = {'size':15})\n",
        "plt.show()"
      ],
      "execution_count": 0,
      "outputs": [
        {
          "output_type": "display_data",
          "data": {
            "image/png": "[encoded data removed]",
            "text/plain": [
              "<Figure size 720x432 with 1 Axes>"
            ]
          },
          "metadata": {
            "tags": [],
            "needs_background": "light"
          }
        }
      ]
    },
    {
      "cell_type": "code",
      "metadata": {
        "id": "Vzvi3_MvhsLX",
        "colab_type": "code",
        "outputId": "6d444a1a-28e9-4c24-92bd-e6ce69e78520",
        "colab": {
          "base_uri": "https://localhost:8080/",
          "height": 35
        }
      },
      "source": [
        "#Matrix of all the well coordinates\n",
        "coords = enduring_gas[['latitude', 'longitude']].values\n",
        "\n",
        "#DBSCAN requires two inputs other than data: minimum number of samples per cluster and the distance to associate points\n",
        "kms_per_radian = 6371.0088\n",
        "epsilon = 5 / kms_per_radian\n",
        "db = DBSCAN(eps=epsilon, min_samples=1, algorithm='ball_tree', metric='haversine').fit(np.radians(coords))\n",
        "cluster_labels = db.labels_\n",
        "num_clusters = len(set(cluster_labels))\n",
        "clusters = pd.Series([coords[cluster_labels == n] for n in range(num_clusters)])\n",
        "print('Number of clusters: {}'.format(num_clusters))"
      ],
      "execution_count": 0,
      "outputs": [
        {
          "output_type": "stream",
          "text": [
            "Number of clusters: 7\n"
          ],
          "name": "stdout"
        }
      ]
    },
    {
      "cell_type": "code",
      "metadata": {
        "id": "FVcXd0rch3Vh",
        "colab_type": "code",
        "colab": {}
      },
      "source": [
        ""
      ],
      "execution_count": 0,
      "outputs": []
    }
  ]
}